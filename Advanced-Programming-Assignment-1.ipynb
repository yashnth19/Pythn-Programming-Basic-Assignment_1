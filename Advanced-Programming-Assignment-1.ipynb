{
 "cells": [
  {
   "cell_type": "code",
   "execution_count": 6,
   "metadata": {},
   "outputs": [
    {
     "data": {
      "text/plain": [
       "-1"
      ]
     },
     "execution_count": 6,
     "metadata": {},
     "output_type": "execute_result"
    }
   ],
   "source": [
    "# 1. Write a function that takes a list of lists and returns the value of all of the\n",
    "# symbols in it, where each symbol adds or takes something from the total\n",
    "# score. Symbol values:\n",
    "def score(a):\n",
    "    value={\"#\" : 5,\"O\" : 3,\"X\" : 1,\"!\" :-1,\"!!\" : -3,\"!!!\" : -5}\n",
    "    s=0\n",
    "    for i in a:\n",
    "        for j in range(0,len(i)):\n",
    "            s=s+value[i[j]]\n",
    "    if s <0:\n",
    "        return( -1)\n",
    "    else:\n",
    "        return (s)\n",
    "score([[\"#\",\"!!!\"],[\"#\",\"!!!\",\"!!!\"]])\n"
   ]
  },
  {
   "cell_type": "code",
   "execution_count": 10,
   "metadata": {},
   "outputs": [
    {
     "data": {
      "text/plain": [
       "1620"
      ]
     },
     "execution_count": 10,
     "metadata": {},
     "output_type": "execute_result"
    }
   ],
   "source": [
    "# 2. Create a function that takes a variable number of arguments, each\n",
    "# argument representing the number of items in a group, and returns the\n",
    "# number of permutations (combinations) of items that you could get by taking\n",
    "# one item from each group.\n",
    "def combinations(*args):\n",
    "    total=1\n",
    "    for i in args:\n",
    "        total=total*i\n",
    "    return (total)\n",
    "combinations(2,3,45,6)"
   ]
  },
  {
   "cell_type": "code",
   "execution_count": 17,
   "metadata": {},
   "outputs": [
    {
     "data": {
      "text/plain": [
       "'......-...--. --.'"
      ]
     },
     "execution_count": 17,
     "metadata": {},
     "output_type": "execute_result"
    }
   ],
   "source": [
    "# 3. Create a function that takes a string as an argument and returns the Morse\n",
    "# code equivalent.\n",
    "def morse_code(a):\n",
    "    s=str(a)\n",
    "    code=\"\"\n",
    "    dict = { 'A':'.-', 'B':'-...',\n",
    "                    'C':'-.-.', 'D':'-..', 'E':'.',\n",
    "                    'F':'..-.', 'G':'--.', 'H':'....',\n",
    "                    'I':'..', 'J':'.---', 'K':'-.-',\n",
    "                    'L':'.-..', 'M':'--', 'N':'-.',\n",
    "                    'O':'---', 'P':'.--.', 'Q':'--.-',\n",
    "                    'R':'.-.', 'S':'...', 'T':'-',\n",
    "                    'U':'..-', 'V':'...-', 'W':'.--',\n",
    "                    'X':'-..-', 'Y':'-.--', 'Z':'--..',\n",
    "                    '1':'.----', '2':'..---', '3':'...--',\n",
    "                    '4':'....-', '5':'.....', '6':'-....',\n",
    "                    '7':'--...', '8':'---..', '9':'----.',\n",
    "                    '0':'-----', ', ':'--..--', '.':'.-.-.-',\n",
    "                    '?':'..--..', '/':'-..-.', '-':'-....-',\n",
    "                    '(':'-.--.', ')':'-.--.-',' ':' '}\n",
    "    for i in s:\n",
    "        code=code+str(dict[i])\n",
    "    return code\n",
    "morse_code('HELP ME')"
   ]
  },
  {
   "cell_type": "code",
   "execution_count": 24,
   "metadata": {},
   "outputs": [
    {
     "name": "stdout",
     "output_type": "stream",
     "text": [
      "False\n",
      "True\n"
     ]
    }
   ],
   "source": [
    "# 4. Write a function that takes a number and returns True if it&#39;s a prime; False\n",
    "# otherwise. The number can be 2^64-1 (2 to the power of 63, not XOR). With\n",
    "# the standard technique it would be O(2^64-1), which is much too large for the\n",
    "# 10 second time limit.\n",
    "def isprime(n):\n",
    "    for i in range(2,n):\n",
    "        if n%2==0:\n",
    "            return False\n",
    "        else:\n",
    "            return True\n",
    "print (isprime(5151512515524))\n",
    "print (isprime(7))"
   ]
  },
  {
   "cell_type": "code",
   "execution_count": 34,
   "metadata": {},
   "outputs": [
    {
     "data": {
      "text/plain": [
       "[False, True, False, True, True]"
      ]
     },
     "execution_count": 34,
     "metadata": {},
     "output_type": "execute_result"
    }
   ],
   "source": [
    "# 5. Create a function that converts a word to a bitstring and then to a boolean\n",
    "# list based on the following criteria:\n",
    "# 1. Locate the position of the letter in the English alphabet (from 1 to 26).\n",
    "# 2. Odd positions will be represented as 1 and 0 otherwise.\n",
    "# 3. Convert the represented positions to boolean values, 1 for True and 0\n",
    "# for False.\n",
    "# 4. Store the conversions into an array.\n",
    "def bitstr(a):\n",
    "    s=str(a)\n",
    "    l=[]\n",
    "    for i in s:\n",
    "        if ord(i)%2==0:\n",
    "            l.append(bool(0))\n",
    "        else:\n",
    "            l.append(bool(1))\n",
    "    return l\n",
    "bitstr('LOVES')"
   ]
  },
  {
   "cell_type": "code",
   "execution_count": null,
   "metadata": {},
   "outputs": [],
   "source": []
  }
 ],
 "metadata": {
  "kernelspec": {
   "display_name": "Python 3",
   "language": "python",
   "name": "python3"
  },
  "language_info": {
   "codemirror_mode": {
    "name": "ipython",
    "version": 3
   },
   "file_extension": ".py",
   "mimetype": "text/x-python",
   "name": "python",
   "nbconvert_exporter": "python",
   "pygments_lexer": "ipython3",
   "version": "3.7.3"
  }
 },
 "nbformat": 4,
 "nbformat_minor": 2
}
