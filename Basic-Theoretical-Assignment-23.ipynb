{
 "cells": [
  {
   "cell_type": "code",
   "execution_count": 8,
   "id": "64a5f5bb",
   "metadata": {},
   "outputs": [],
   "source": [
    "# 1. What is the result of the code, and why? \n",
    "\n",
    "def func(a, b=6, c=8): \n",
    "\n",
    "    print(a, b, c) \n",
    "func(1, 2) \n",
    "# 1 2 8\n",
    "#b and c have default argument if not provided. a need to be provided to the function"
   ]
  },
  {
   "cell_type": "code",
   "execution_count": 9,
   "id": "74d8b61d",
   "metadata": {},
   "outputs": [],
   "source": [
    "# 2. What is the result of this code, and why? \n",
    "def func(a, b, c=5): \n",
    "    print(a, b, c)\n",
    "func(1, c=3, b=2) \n",
    "#1 2 3\n",
    "#c has default argument 5 if not provided. a and b need to be provided to the function, "
   ]
  },
  {
   "cell_type": "code",
   "execution_count": 11,
   "id": "512d2615",
   "metadata": {},
   "outputs": [
    {
     "name": "stdout",
     "output_type": "stream",
     "text": [
      "1 {'c': 3, 'b': 2}\n"
     ]
    }
   ],
   "source": [
    "# 4. What does this code print, and why? \n",
    "\n",
    "def func(a, **kargs): \n",
    "\n",
    "    print(a, kargs) \n",
    "\n",
    "func(a=1, c=3, b=2) \n",
    "#1st argument is assigned to variable-a\n",
    "#remaining unlimited key:value arguments are just printed out as kargs is used"
   ]
  },
  {
   "cell_type": "code",
   "execution_count": 14,
   "id": "ddaf11ec",
   "metadata": {},
   "outputs": [
    {
     "name": "stdout",
     "output_type": "stream",
     "text": [
      "1 5 6 5\n"
     ]
    }
   ],
   "source": [
    "\n",
    "# 5. What gets printed by this, and explain? \n",
    "\n",
    "def func(a, b, c=8, d=5): \n",
    "    print(a, b, c, d) \n",
    "\n",
    "func(1, *(5, 6)) \n",
    "#cant underdtand this"
   ]
  },
  {
   "cell_type": "code",
   "execution_count": 16,
   "id": "007772dc",
   "metadata": {},
   "outputs": [],
   "source": [
    "# 6. what is the result of this, and explain? \n",
    "def func(a, b, c): \n",
    "    a = 2; b[0] = 'x'; c['a'] = 'y' \n",
    "\n",
    "l=1; m=[1]; n={'a':0} \n",
    "\n",
    "func(l, m, n) \n",
    "\n",
    "#cant underdtand this"
   ]
  },
  {
   "cell_type": "code",
   "execution_count": null,
   "id": "7d0a4ffb",
   "metadata": {},
   "outputs": [],
   "source": []
  }
 ],
 "metadata": {
  "kernelspec": {
   "display_name": "Python 3",
   "language": "python",
   "name": "python3"
  },
  "language_info": {
   "codemirror_mode": {
    "name": "ipython",
    "version": 3
   },
   "file_extension": ".py",
   "mimetype": "text/x-python",
   "name": "python",
   "nbconvert_exporter": "python",
   "pygments_lexer": "ipython3",
   "version": "3.8.8"
  }
 },
 "nbformat": 4,
 "nbformat_minor": 5
}
