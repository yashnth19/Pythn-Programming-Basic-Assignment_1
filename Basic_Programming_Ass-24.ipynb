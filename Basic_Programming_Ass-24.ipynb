{
 "cells": [
  {
   "cell_type": "code",
   "execution_count": 2,
   "metadata": {},
   "outputs": [
    {
     "data": {
      "text/plain": [
       "[1, 2, 3, 40, 5, 6, 7, 80, 9, 10, 11, 120, 13]"
      ]
     },
     "execution_count": 2,
     "metadata": {},
     "output_type": "execute_result"
    }
   ],
   "source": [
    "# Question1 \n",
    "# Create a function that takes an integer and returns a list from 1 to the given number, where: \n",
    "# If the number can be divided evenly by 4, amplify it by 10 (i.e. return 10 times the number). \n",
    "# If the number cannot be divided evenly by 4, simply return the number. \n",
    "# Examples \n",
    "# amplify(4) ➞ [1, 2, 3, 40] \n",
    "# amplify(3) ➞ [1, 2, 3] \n",
    "def amplify(n):\n",
    "    l=[]\n",
    "    for i in range(1,n+1):\n",
    "        if i%4==0:\n",
    "            l.append(10*i)\n",
    "        else:\n",
    "            l.append(i)\n",
    "    return l\n",
    "amplify(13)"
   ]
  },
  {
   "cell_type": "code",
   "execution_count": 3,
   "metadata": {},
   "outputs": [
    {
     "data": {
      "text/plain": [
       "0.77"
      ]
     },
     "execution_count": 3,
     "metadata": {},
     "output_type": "execute_result"
    }
   ],
   "source": [
    "# Question2 \n",
    "# Create a function that takes a list of numbers and return the number that's unique. \n",
    "# Examples \n",
    "# unique([3, 3, 3, 7, 3, 3]) ➞ 7 \n",
    "#  ➞ 0.77 unique([0, 0, 0.77, 0, 0])\n",
    "def unique(l):\n",
    "    m=set(l)\n",
    "    for i in m:\n",
    "        if l.count(i)==1:\n",
    "            return i\n",
    "unique([0, 0, 0.77, 0, 0])  "
   ]
  },
  {
   "cell_type": "code",
   "execution_count": 4,
   "metadata": {},
   "outputs": [
    {
     "data": {
      "text/plain": [
       "380.787"
      ]
     },
     "execution_count": 4,
     "metadata": {},
     "output_type": "execute_result"
    }
   ],
   "source": [
    "# Question3 \n",
    "# Your task is to create a Circle constructor that creates a circle with a radius provided by an argument. The circles constructed must have two getters getArea() (PIr^2) and getPerimeter() (2PI*r) which give both respective areas and perimeter (circumference). \n",
    "# For help with this class, I have provided you with a Rectangle constructor which you can use as a base example. \n",
    "class circle:\n",
    "    def __init__(s, radius):\n",
    "        s.radius=radius\n",
    "    def get_area(s):\n",
    "        return 3.147*(s.radius)**2\n",
    "    def get_perimeter(s):\n",
    "        return 3.147*(s.radius)*2\n",
    "c1=circle(11)\n",
    "c1.get_area()"
   ]
  },
  {
   "cell_type": "code",
   "execution_count": 12,
   "metadata": {},
   "outputs": [
    {
     "data": {
      "text/plain": [
       "['Raphael', 'Leonardo', 'Donatello', 'Michelangelo']"
      ]
     },
     "execution_count": 12,
     "metadata": {},
     "output_type": "execute_result"
    }
   ],
   "source": [
    "# Question4 \n",
    "# Create a function that takes a list of strings and return a list, sorted from shortest to longest. \n",
    "# Examples \n",
    "# sort_by_length([\"Google\", \"Apple\", \"Microsoft\"]) \n",
    "# ➞ [\"Apple\", \"Google\", \"Microsoft\"] \n",
    "# sort_by_length([\"Leonardo\", \"Michelangelo\", \"Raphael\", \"Donatello\"]) \n",
    "# ➞ [\"Raphael\", \"Leonardo\", \"Donatello\", \"Michelangelo\"] \n",
    "def sort_by_length(l):\n",
    "    d={x:len(x) for x in l}\n",
    "    l=sorted(d.values())\n",
    "    r=[]\n",
    "    for i in l:\n",
    "       for j in d.keys():\n",
    "            if d[j]==i:\n",
    "                r.append(j)\n",
    "    return r\n",
    "sort_by_length([\"Leonardo\", \"Michelangelo\", \"Raphael\", \"Donatello\"])"
   ]
  },
  {
   "cell_type": "code",
   "execution_count": 23,
   "metadata": {},
   "outputs": [
    {
     "data": {
      "text/plain": [
       "True"
      ]
     },
     "execution_count": 23,
     "metadata": {},
     "output_type": "execute_result"
    }
   ],
   "source": [
    "# Question5 \n",
    "# Create a function that validates whether three given integers form a Pythagorean triplet. The sum of the squares of the two smallest integers must equal the square of the largest number to be validated. \n",
    "# Examples \n",
    "# is_triplet(3, 4, 5) ➞ True \n",
    "def is_triplet(a,b,c):\n",
    "    l=[a,b,c]\n",
    "    h=l.pop(l.index(max(l)))\n",
    "    if h**2==l[0]**2+l[1]**2:\n",
    "        return True\n",
    "    else:\n",
    "        return False\n",
    "is_triplet(3, 4, 5) "
   ]
  },
  {
   "cell_type": "code",
   "execution_count": 24,
   "metadata": {},
   "outputs": [
    {
     "data": {
      "text/plain": [
       "False"
      ]
     },
     "execution_count": 24,
     "metadata": {},
     "output_type": "execute_result"
    }
   ],
   "source": [
    "is_triplet(3, 4, 6)"
   ]
  },
  {
   "cell_type": "code",
   "execution_count": null,
   "metadata": {},
   "outputs": [],
   "source": []
  },
  {
   "cell_type": "code",
   "execution_count": null,
   "metadata": {},
   "outputs": [],
   "source": []
  },
  {
   "cell_type": "code",
   "execution_count": null,
   "metadata": {},
   "outputs": [],
   "source": []
  },
  {
   "cell_type": "code",
   "execution_count": null,
   "metadata": {},
   "outputs": [],
   "source": []
  },
  {
   "cell_type": "code",
   "execution_count": null,
   "metadata": {},
   "outputs": [],
   "source": []
  }
 ],
 "metadata": {
  "kernelspec": {
   "display_name": "Python 3",
   "language": "python",
   "name": "python3"
  },
  "language_info": {
   "codemirror_mode": {
    "name": "ipython",
    "version": 3
   },
   "file_extension": ".py",
   "mimetype": "text/x-python",
   "name": "python",
   "nbconvert_exporter": "python",
   "pygments_lexer": "ipython3",
   "version": "3.7.3"
  }
 },
 "nbformat": 4,
 "nbformat_minor": 2
}
