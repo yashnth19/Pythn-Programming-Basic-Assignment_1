{
 "cells": [
  {
   "cell_type": "code",
   "execution_count": 9,
   "metadata": {},
   "outputs": [
    {
     "name": "stdout",
     "output_type": "stream",
     "text": [
      "<class '__main__.Thing'>\n"
     ]
    }
   ],
   "source": [
    "# 1. Make a class called Thing with no contents and print it. \n",
    "# Then, create an object called example from this class and also print it. Are the printed values the same or different?\n",
    "class Thing:\n",
    "    print (Thing)\n"
   ]
  },
  {
   "cell_type": "code",
   "execution_count": 13,
   "metadata": {},
   "outputs": [
    {
     "name": "stdout",
     "output_type": "stream",
     "text": [
      "<__main__.Thing object at 0x0000029A830DDFA0>\n"
     ]
    }
   ],
   "source": [
    "object1=Thing()\n",
    "print (object1)"
   ]
  },
  {
   "cell_type": "code",
   "execution_count": 14,
   "metadata": {},
   "outputs": [],
   "source": [
    "#the printed values are different"
   ]
  },
  {
   "cell_type": "code",
   "execution_count": 15,
   "metadata": {},
   "outputs": [
    {
     "name": "stdout",
     "output_type": "stream",
     "text": [
      "abc\n"
     ]
    }
   ],
   "source": [
    "# 2. Create a new class called Thing2 and add the value 'abc' to the letters class attribute. Letters should be printed.\n",
    "class Thing2:\n",
    "    letters='abc'\n",
    "    print (letters)"
   ]
  },
  {
   "cell_type": "code",
   "execution_count": 25,
   "metadata": {},
   "outputs": [
    {
     "name": "stdout",
     "output_type": "stream",
     "text": [
      "xyz\n"
     ]
    }
   ],
   "source": [
    "# 3. Make yet another class called, of course, Thing3. This time, assign the value 'xyz' to an instance (object) attribute called letters. \n",
    "# Print letters. Do you need to make an object from the class to do this?\n",
    "class thing3:\n",
    "    def __init__(self,letters):\n",
    "        self.letters=letters\n",
    "    def prt(self):\n",
    "        print (self.letters)\n",
    "obj=thing3('xyz') \n",
    "obj.prt()\n",
    "#yes, we need to make an object to print."
   ]
  },
  {
   "cell_type": "code",
   "execution_count": 28,
   "metadata": {},
   "outputs": [],
   "source": [
    "# 4. Create an Element class with the instance \n",
    "# attributes name, symbol, and number. Create a class object with the values 'Hydrogen,' 'H,' and 1.\n",
    "class element:\n",
    "    def __init__(self, name, symbol, number):\n",
    "        self.name=name\n",
    "        self.symbol=symbol\n",
    "        self.number=number\n",
    "        \n",
    "obj2=element('Hydrogen', 'H' ,  1)"
   ]
  },
  {
   "cell_type": "code",
   "execution_count": 31,
   "metadata": {},
   "outputs": [
    {
     "data": {
      "text/plain": [
       "'Hydrogen'"
      ]
     },
     "execution_count": 31,
     "metadata": {},
     "output_type": "execute_result"
    }
   ],
   "source": [
    "# 5. Make a dictionary with these keys and values: 'name': 'Hydrogen', 'symbol': 'H', 'number': 1. \n",
    "#                 Then, create an object called hydrogen from class Element using this dictionary.\n",
    "dict1= {'name': 'Hydrogen', 'symbol': 'H', 'number': 1 }\n",
    "class element:\n",
    "    def __init__(self, dict2):\n",
    "        self.name=dict2['name']\n",
    "        self.symbol=dict2['symbol']\n",
    "        self.number=dict2['number']\n",
    "obj2=element(dict1)\n",
    "obj2.name"
   ]
  },
  {
   "cell_type": "code",
   "execution_count": 51,
   "metadata": {},
   "outputs": [
    {
     "data": {
      "text/plain": [
       "'Hydrogen,H,1'"
      ]
     },
     "execution_count": 51,
     "metadata": {},
     "output_type": "execute_result"
    }
   ],
   "source": [
    "# 6. For the Element class, define a method called dump() that prints the values of the object’s attributes (name, symbol, and number). \n",
    "# Create the hydrogen object from this new definition and use dump() to print its attributes.\n",
    "class element:\n",
    "    def __init__(self, name, symbol, number):\n",
    "        self.name=name\n",
    "        self.symbol=symbol\n",
    "        self.number=number\n",
    "    def dump(self):\n",
    "        return str(self.name)+\",\"+str(self.symbol)+\",\"+str(self.number)\n",
    "        \n",
    "hydrogen=element('Hydrogen', 'H' ,  1)\n",
    "hydrogen.dump()"
   ]
  },
  {
   "cell_type": "code",
   "execution_count": 50,
   "metadata": {},
   "outputs": [
    {
     "name": "stdout",
     "output_type": "stream",
     "text": [
      "<__main__.element object at 0x0000029A831DE4F0>\n"
     ]
    }
   ],
   "source": [
    "# 7. Call print(hydrogen). In the definition of Element, \n",
    "# change the name of method dump to __str__, create a new hydrogen object, and call print(hydrogen) again.\n",
    "print (hydrogen)"
   ]
  },
  {
   "cell_type": "code",
   "execution_count": 48,
   "metadata": {},
   "outputs": [
    {
     "name": "stdout",
     "output_type": "stream",
     "text": [
      "Hydrogen,H,1\n"
     ]
    }
   ],
   "source": [
    "class element:\n",
    "    def __init__(self, name, symbol, number):\n",
    "        self.name=name\n",
    "        self.symbol=symbol\n",
    "        self.number=number\n",
    "    def __str__(self):\n",
    "        return str(self.name)+\",\"+str(self.symbol)+\",\"+str(self.number)\n",
    "hydrogen=element('Hydrogen', 'H' ,  1)\n",
    "print(hydrogen)\n"
   ]
  },
  {
   "cell_type": "code",
   "execution_count": 63,
   "metadata": {},
   "outputs": [
    {
     "data": {
      "text/plain": [
       "'Hydrogen'"
      ]
     },
     "execution_count": 63,
     "metadata": {},
     "output_type": "execute_result"
    }
   ],
   "source": [
    "# 8. Modify Element to make the attributes name, symbol, and number private. \n",
    "# Define a getter property for each to return its value.\n",
    "class element:\n",
    "    def __init__(self, name, symbol, number_private):\n",
    "        self.name=name\n",
    "        self.symbol=symbol\n",
    "        self.number_private=number_private\n",
    "    def get_n(self):\n",
    "        return self.name\n",
    "    def get_s(self):\n",
    "        return self.symbol\n",
    "    def get_np(self):\n",
    "        return self.number_private\n",
    "hydrogen=element('Hydrogen', 'H' ,  1)\n",
    "hydrogen.get_n()"
   ]
  },
  {
   "cell_type": "code",
   "execution_count": 53,
   "metadata": {},
   "outputs": [
    {
     "data": {
      "text/plain": [
       "'Berries'"
      ]
     },
     "execution_count": 53,
     "metadata": {},
     "output_type": "execute_result"
    }
   ],
   "source": [
    "# 9. Define three classes: Bear, Rabbit, and Octothorpe. For each, define only one method: eats(). \n",
    "#         This should return 'berries' (Bear), 'clover' (Rabbit), or 'campers' (Octothorpe). \n",
    "#     Create one object from each and print what it eats.\n",
    "class Bear:\n",
    "    def eats(self):\n",
    "        return \"Berries\"\n",
    "class Rabbit:\n",
    "    def eats(self):\n",
    "        return \"clover\"\n",
    "class Octothorpe:\n",
    "    def eats(self):\n",
    "        return \"campers\"   \n",
    "b1=Bear()\n",
    "b1.eats()"
   ]
  },
  {
   "cell_type": "code",
   "execution_count": 55,
   "metadata": {},
   "outputs": [
    {
     "data": {
      "text/plain": [
       "'clover'"
      ]
     },
     "execution_count": 55,
     "metadata": {},
     "output_type": "execute_result"
    }
   ],
   "source": [
    "r1=Rabbit()\n",
    "r1.eats()"
   ]
  },
  {
   "cell_type": "code",
   "execution_count": 56,
   "metadata": {},
   "outputs": [
    {
     "data": {
      "text/plain": [
       "'campers'"
      ]
     },
     "execution_count": 56,
     "metadata": {},
     "output_type": "execute_result"
    }
   ],
   "source": [
    "o1=Octothorpe()\n",
    "o1.eats()"
   ]
  },
  {
   "cell_type": "code",
   "execution_count": 58,
   "metadata": {},
   "outputs": [],
   "source": [
    "# 10. Define these classes: Laser, Claw, and SmartPhone. Each has only one method: does(). \n",
    "#         This returns 'disintegrate' (Laser), 'crush' (Claw), or 'ring' (SmartPhone). \n",
    "#         Then, define the class Robot that has one instance (object) of each of these. \n",
    "#         Define a does() method for the Robot that prints what its component objects do.\n",
    "class laser:\n",
    "    def does():\n",
    "        return 'disintegrate'\n",
    "class claw:\n",
    "    def does():\n",
    "        return \"crush\"\n",
    "class smartphone:\n",
    "    def does():\n",
    "        return \"ring\"\n",
    "class robot:\n",
    "    def __init__ (self, obj):\n",
    "        self.obj=obj\n",
    "    def does(self):\n",
    "        return self.obj.does()\n",
    "        "
   ]
  },
  {
   "cell_type": "code",
   "execution_count": 61,
   "metadata": {},
   "outputs": [
    {
     "data": {
      "text/plain": [
       "'disintegrate'"
      ]
     },
     "execution_count": 61,
     "metadata": {},
     "output_type": "execute_result"
    }
   ],
   "source": [
    "l=robot(laser)\n",
    "l.does()"
   ]
  },
  {
   "cell_type": "code",
   "execution_count": 62,
   "metadata": {},
   "outputs": [
    {
     "data": {
      "text/plain": [
       "'crush'"
      ]
     },
     "execution_count": 62,
     "metadata": {},
     "output_type": "execute_result"
    }
   ],
   "source": [
    "l=robot(claw)\n",
    "l.does()"
   ]
  },
  {
   "cell_type": "code",
   "execution_count": null,
   "metadata": {},
   "outputs": [],
   "source": []
  }
 ],
 "metadata": {
  "kernelspec": {
   "display_name": "Python 3",
   "language": "python",
   "name": "python3"
  },
  "language_info": {
   "codemirror_mode": {
    "name": "ipython",
    "version": 3
   },
   "file_extension": ".py",
   "mimetype": "text/x-python",
   "name": "python",
   "nbconvert_exporter": "python",
   "pygments_lexer": "ipython3",
   "version": "3.8.5"
  }
 },
 "nbformat": 4,
 "nbformat_minor": 4
}
