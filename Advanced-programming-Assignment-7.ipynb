{
 "cells": [
  {
   "cell_type": "code",
   "execution_count": 4,
   "id": "9e4e0de2",
   "metadata": {},
   "outputs": [
    {
     "data": {
      "text/plain": [
       "5"
      ]
     },
     "execution_count": 4,
     "metadata": {},
     "output_type": "execute_result"
    }
   ],
   "source": [
    "# 1. Write a function that counts how many concentric layers a rug. \n",
    "# Example\n",
    "# count_layers([ \n",
    "#   \"AAAA\", \n",
    "#   \"ABBA\", \n",
    "#   \"AAAA\" \n",
    "# ]) ➞ 2 \n",
    "# count_layers([ \n",
    "#   \"AAAAAAAAA\", \n",
    "#   \"ABBBBBBBA\", \n",
    "#   \"ABBAAABBA\", \n",
    "#   \"ABBBBBBBA\", \n",
    "#   \"AAAAAAAAA\" \n",
    "# ]) ➞ 3 \n",
    "# count_layers([ \n",
    "#   \"AAAAAAAAAAA\", \n",
    "#   \"AABBBBBBBAA\", \n",
    "#   \"AABCCCCCBAA\", \n",
    "#   \"AABCAAACBAA\", \n",
    "#   \"AABCADACBAA\", \n",
    "#   \"AABCAAACBAA\", \n",
    "#  \"AABCCCCCBAA\", \n",
    "#   \"AABBBBBBBAA\", \n",
    "#   \"AAAAAAAAAAA\" \n",
    "# ]) ➞ 5 \n",
    "def count_layers(l):\n",
    "    return int(len(l)/2)+1\n",
    "count_layers([ \n",
    "  \"AAAAAAAAAAA\", \n",
    "  \"AABBBBBBBAA\", \n",
    "  \"AABCCCCCBAA\", \n",
    "  \"AABCAAACBAA\", \n",
    "  \"AABCADACBAA\", \n",
    "  \"AABCAAACBAA\", \n",
    "  \"AABCCCCCBAA\", \n",
    "  \"AABBBBBBBAA\", \n",
    "  \"AAAAAAAAAAA\"     ])"
   ]
  },
  {
   "cell_type": "code",
   "execution_count": 8,
   "id": "9660cf4a",
   "metadata": {},
   "outputs": [
    {
     "data": {
      "text/plain": [
       "9"
      ]
     },
     "execution_count": 8,
     "metadata": {},
     "output_type": "execute_result"
    }
   ],
   "source": [
    "# 2. There are many different styles of music and many albums exhibit multiple styles. \n",
    "# Create a function that takes a list of musical styles from albums and returns how many styles are unique. \n",
    "# Examples \n",
    "# unique_styles([   \"Dub,Dancehall\", \n",
    "\n",
    "#   \"Industrial,Heavy Metal\", \n",
    "#   \"Techno,Dubstep\", \n",
    "#   \"Synth-pop,Euro-Disco\", \n",
    "#   \"Industrial,Techno,Minimal\" \n",
    "# ]) \n",
    "def unique_styles(l):\n",
    "    a=[]\n",
    "    for i in l:\n",
    "        for j in i.split(','):\n",
    "            a.append(j)\n",
    "    return len(set(a))\n",
    "unique_styles([ \n",
    "\n",
    "  \"Dub,Dancehall\", \n",
    "\n",
    "  \"Industrial,Heavy Metal\", \n",
    "\n",
    "  \"Techno,Dubstep\", \n",
    "\n",
    "  \"Synth-pop,Euro-Disco\", \n",
    "\n",
    "  \"Industrial,Techno,Minimal\" \n",
    "\n",
    "])       "
   ]
  },
  {
   "cell_type": "code",
   "execution_count": 12,
   "id": "ed68ab4e",
   "metadata": {},
   "outputs": [],
   "source": [
    "# 3. Create a function that finds a target number in a list of prime numbers. Implement a binary search algorithm in your function. \n",
    "# The target number will be from 2 through 97. If the target is prime then return \"yes\" else return \"no\".\n",
    "# Examples \n",
    "primes = [2, 3, 5, 7, 11, 13, 17, 19, 23, 29, 31, 37, 41, 43, 47, 53, 59, 61, 67, 71, 73, 79, 83, 89, 97] \n",
    "p=primes\n",
    "# is_prime(primes, 3) ➞ \"yes\" \n",
    "# is_prime(primes, 4) ➞ \"no\" \n",
    "# is_prime(primes, 67) ➞ \"yes\" \n",
    "# is_prime(primes, 36) ➞ \"no\" \n",
    "def is_prime(p,n):\n",
    "    if len(p)>2:\n",
    "        if n == p[int(len(p)/2)]:\n",
    "            return \"yes\"\n",
    "        elif n > p[int(len(p)/2)]:\n",
    "            return is_prime(p[int(len(p)/2):],n)\n",
    "        elif n < p[int(len(p)/2)]:\n",
    "            return is_prime(p[:int(len(p)/2)],n)\n",
    "    else:\n",
    "        return \"No\""
   ]
  },
  {
   "cell_type": "code",
   "execution_count": 13,
   "id": "b1742be2",
   "metadata": {},
   "outputs": [
    {
     "data": {
      "text/plain": [
       "'yes'"
      ]
     },
     "execution_count": 13,
     "metadata": {},
     "output_type": "execute_result"
    }
   ],
   "source": [
    "is_prime(primes, 67)"
   ]
  },
  {
   "cell_type": "code",
   "execution_count": 14,
   "id": "82c51dd0",
   "metadata": {},
   "outputs": [
    {
     "data": {
      "text/plain": [
       "'No'"
      ]
     },
     "execution_count": 14,
     "metadata": {},
     "output_type": "execute_result"
    }
   ],
   "source": [
    "is_prime(primes, 36)"
   ]
  },
  {
   "cell_type": "code",
   "execution_count": 23,
   "id": "f4dcdf86",
   "metadata": {},
   "outputs": [
    {
     "data": {
      "text/plain": [
       "3"
      ]
     },
     "execution_count": 23,
     "metadata": {},
     "output_type": "execute_result"
    }
   ],
   "source": [
    "# 4. Create a function that takes in n, a, b and returns the number of positive values raised to the nth power\n",
    "# that lie in the range [a, b], inclusive. \n",
    "\n",
    "# Examples \n",
    "# power_ranger(2, 49, 65) ➞ 2 \n",
    "# # 2 squares (n^2) lie between 49 and 65, 49 (7^2) and 64 (8^2) \n",
    "# power_ranger(3, 1, 27) ➞ 3 \n",
    "# # 3 cubes (n^3) lie between 1 and 27, 1 (1^3), 8 (2^3) and 27 (3^3) \n",
    "# power_ranger(10, 1, 5) ➞ 1 \n",
    "# # 1 value raised to the 10th power lies between 1 and 5, 1 (1^10) \n",
    "# power_ranger(5, 31, 33) ➞ 1 \n",
    "# power_ranger(4, 250, 1300) ➞ 3 \n",
    "def power_ranger(n,a,b):\n",
    "    c=0\n",
    "    for i in range(1,int(b**(1/n))+1):\n",
    "        if i**n in range(a,b+1):\n",
    "            c=c+1\n",
    "    return c\n",
    "power_ranger(4, 250, 1300) "
   ]
  },
  {
   "cell_type": "code",
   "execution_count": 25,
   "id": "58f7d68b",
   "metadata": {},
   "outputs": [
    {
     "data": {
      "text/plain": [
       "1"
      ]
     },
     "execution_count": 25,
     "metadata": {},
     "output_type": "execute_result"
    }
   ],
   "source": [
    "power_ranger(5, 31, 33) "
   ]
  },
  {
   "cell_type": "code",
   "execution_count": null,
   "id": "b2f58bb7",
   "metadata": {},
   "outputs": [],
   "source": [
    "5. Given a number, return the difference between the maximum and minimum numbers\n",
    "that can be formed when the digits are rearranged. \n",
    "\n",
    "Examples \n",
    "rearranged_difference(972882) ➞ 760833 \n",
    "# 988722 - 227889 = 760833 \n",
    "rearranged_difference(3320707) ➞ 7709823 \n",
    "# 7733200 - 23377 = 7709823 \n",
    "rearranged_difference(90010) ➞ 90981 \n",
    "# 91000 - 19 = 90981 "
   ]
  },
  {
   "cell_type": "code",
   "execution_count": 47,
   "id": "0f9c777c",
   "metadata": {},
   "outputs": [],
   "source": [
    "def rearranged_difference(n):\n",
    "    a=[int(x) for x in str(n)]\n",
    "    l=sorted(a,reverse=True)\n",
    "    \n",
    "    s=sorted(a)\n",
    "    ls,ss=\"\",\"\"\n",
    "    for i in range(0,len(l)):\n",
    "        ls=ls+str(l[i])\n",
    "        ss=ss+str(s[i])\n",
    "    \n",
    "    return int(ls)-int(ss)"
   ]
  },
  {
   "cell_type": "code",
   "execution_count": 48,
   "id": "04c86b07",
   "metadata": {},
   "outputs": [
    {
     "data": {
      "text/plain": [
       "760833"
      ]
     },
     "execution_count": 48,
     "metadata": {},
     "output_type": "execute_result"
    }
   ],
   "source": [
    "rearranged_difference(972882)"
   ]
  },
  {
   "cell_type": "code",
   "execution_count": null,
   "id": "7849b15e",
   "metadata": {},
   "outputs": [],
   "source": []
  }
 ],
 "metadata": {
  "kernelspec": {
   "display_name": "Python 3",
   "language": "python",
   "name": "python3"
  },
  "language_info": {
   "codemirror_mode": {
    "name": "ipython",
    "version": 3
   },
   "file_extension": ".py",
   "mimetype": "text/x-python",
   "name": "python",
   "nbconvert_exporter": "python",
   "pygments_lexer": "ipython3",
   "version": "3.8.8"
  }
 },
 "nbformat": 4,
 "nbformat_minor": 5
}
