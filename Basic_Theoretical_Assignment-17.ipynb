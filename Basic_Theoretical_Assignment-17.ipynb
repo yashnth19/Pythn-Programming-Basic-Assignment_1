{
 "cells": [
  {
   "cell_type": "code",
   "execution_count": 1,
   "metadata": {},
   "outputs": [
    {
     "name": "stdout",
     "output_type": "stream",
     "text": [
      "just right\n"
     ]
    }
   ],
   "source": [
    "# 1. Assign the value 7 to the variable guess_me. \n",
    "# Then, write the conditional tests (if, else, and elif) to print the string 'too low' if guess_me is less than 7, \n",
    "# 'too high' if greater than 7, and 'just right' if equal to 7. \n",
    "guess_me=7\n",
    "if guess_me<7:\n",
    "    print (\"too low\")\n",
    "elif guess_me==7:\n",
    "    print (\"just right\")\n",
    "elif guess_me>7:\n",
    "    print (\"too high\")\n",
    " "
   ]
  },
  {
   "cell_type": "code",
   "execution_count": 3,
   "metadata": {},
   "outputs": [
    {
     "name": "stdout",
     "output_type": "stream",
     "text": [
      "too low\n",
      "too low\n",
      "too low\n",
      "too low\n",
      "too low\n",
      "too low\n",
      "found it!\n",
      "oops\n"
     ]
    }
   ],
   "source": [
    "# 2. Assign the value 7 to the variable guess_me and the value 1 to the variable start. \n",
    "# Write a while loop that compares start with guess_me. Print too low if start is less than guess me. \n",
    "# If start equals guess_me, print 'found it!' and exit the loop. If start is greater than guess_me, print 'oops' and exit the loop. \n",
    "# Increment start at the end of the loop.\n",
    "guess_me=7\n",
    "start=1\n",
    "while True: #start<=guess_me:\n",
    "    if start<guess_me:\n",
    "        print (\"too low\")\n",
    "    elif start==guess_me:\n",
    "        print (\"found it!\")\n",
    "    elif start>guess_me:\n",
    "        print (\"oops\")\n",
    "        break\n",
    "    start=start+1\n",
    "    \n",
    "    "
   ]
  },
  {
   "cell_type": "code",
   "execution_count": 12,
   "metadata": {},
   "outputs": [
    {
     "name": "stdout",
     "output_type": "stream",
     "text": [
      "[3, 2, 1, 0]\n",
      "[2, 4, 6, 8]\n"
     ]
    }
   ],
   "source": [
    "# 3. Print the following values of the list [3, 2, 1, 0] using a for loop. \n",
    "print([i for i in range(3,-1,-1)])\n",
    "\n",
    "# 4. Use a list comprehension to make a list of the even numbers in range(10) \n",
    "print ([i for i in range(2,10,2)])"
   ]
  },
  {
   "cell_type": "code",
   "execution_count": 15,
   "metadata": {},
   "outputs": [
    {
     "name": "stdout",
     "output_type": "stream",
     "text": [
      "{0: 0, 1: 1, 2: 4, 3: 9, 4: 16, 5: 25, 6: 36, 7: 49, 8: 64, 9: 81}\n"
     ]
    }
   ],
   "source": [
    "# 5. Use a dictionary comprehension to create the dictionary squares. \n",
    "# Use range(10) to return the keys, and use the square of each key as its value. \n",
    "print( {i: i*i for i in range(10)})"
   ]
  },
  {
   "cell_type": "code",
   "execution_count": 16,
   "metadata": {},
   "outputs": [
    {
     "data": {
      "text/plain": [
       "{1, 3, 5, 7, 9}"
      ]
     },
     "execution_count": 16,
     "metadata": {},
     "output_type": "execute_result"
    }
   ],
   "source": [
    "# 6. Construct the set odd from the odd numbers in the range using a set comprehension (10). \n",
    "set(i for i in range(1,10,2))"
   ]
  },
  {
   "cell_type": "code",
   "execution_count": 17,
   "metadata": {},
   "outputs": [
    {
     "name": "stdout",
     "output_type": "stream",
     "text": [
      "got\n",
      "1\n",
      "2\n",
      "3\n",
      "4\n",
      "5\n",
      "6\n",
      "7\n",
      "8\n",
      "9\n",
      "10\n",
      "11\n",
      "12\n"
     ]
    }
   ],
   "source": [
    "# 7. Use a generator comprehension to return the string 'Got ' and \n",
    "# a number for the numbers in range(10). Iterate through this by using a for loop. \n",
    "def iterators(n):\n",
    "    for i in range(n):\n",
    "        if i ==0:\n",
    "            yield (\"got\")\n",
    "        else:\n",
    "            yield (i)\n",
    "for i in iterators(13):\n",
    "    print(i)"
   ]
  },
  {
   "cell_type": "code",
   "execution_count": 18,
   "metadata": {},
   "outputs": [],
   "source": [
    "# 8. Define a function called good that returns the list ['Harry', 'Ron', 'Hermione']. \n",
    "def good():\n",
    "    return ['Harry', 'Ron', 'Hermione']"
   ]
  },
  {
   "cell_type": "code",
   "execution_count": 21,
   "metadata": {},
   "outputs": [
    {
     "data": {
      "text/plain": [
       "['Harry', 'Ron', 'Hermione']"
      ]
     },
     "execution_count": 21,
     "metadata": {},
     "output_type": "execute_result"
    }
   ],
   "source": [
    "good()"
   ]
  },
  {
   "cell_type": "code",
   "execution_count": 26,
   "metadata": {},
   "outputs": [
    {
     "name": "stdout",
     "output_type": "stream",
     "text": [
      "5\n"
     ]
    }
   ],
   "source": [
    "# 9. Define a generator function called get_odds that returns the odd numbers from range(10). \n",
    "# Use a for loop to find and print the third value returned. \n",
    "def get_odds():\n",
    "    for i in range(1,10,2):\n",
    "            yield (i)\n",
    "count =1\n",
    "for i in get_odds():\n",
    "    if count ==3:\n",
    "        print (i)\n",
    "    count=count+1\n"
   ]
  },
  {
   "cell_type": "code",
   "execution_count": 42,
   "metadata": {},
   "outputs": [
    {
     "name": "stdout",
     "output_type": "stream",
     "text": [
      "0\n",
      "1\n",
      "4\n",
      "9\n",
      "16\n",
      "25\n",
      "('OopsException', 6) Caught an oops\n",
      "49\n",
      "64\n",
      "81\n"
     ]
    }
   ],
   "source": [
    "# 10. Define an exception called OopsException. Raise this exception to see what happens. \n",
    "# Then write the code to catch this exception and print 'Caught an oops'. \n",
    "def OopsException(a):\n",
    "    if a  == 6 :\n",
    "        raise Exception(\"OopsException\" , a)  \n",
    "    return a \n",
    "\n",
    "for i in range(10):\n",
    "    try:\n",
    "        OopsException(i) \n",
    "        print (i**2)\n",
    "    except Exception as e:\n",
    "        print (e,'Caught an oops')"
   ]
  },
  {
   "cell_type": "code",
   "execution_count": 47,
   "metadata": {},
   "outputs": [
    {
     "name": "stdout",
     "output_type": "stream",
     "text": [
      "{'Creature of Habit': 'A nun turns into a monster', 'Crewel Fate': 'A haunted yarn shop'}\n"
     ]
    }
   ],
   "source": [
    "# 11. Use zip() to make a dictionary called movies that pairs these lists: titles = ['Creature of Habit', 'Crewel Fate'] and \n",
    "#     plots = ['A nun turns into a monster', 'A haunted yarn shop']. \n",
    "titles = ['Creature of Habit', 'Crewel Fate']\n",
    "plots = ['A nun turns into a monster', 'A haunted yarn shop']\n",
    "movies=dict(zip(titles,plots))\n",
    "print (movies)"
   ]
  },
  {
   "cell_type": "code",
   "execution_count": null,
   "metadata": {},
   "outputs": [],
   "source": []
  }
 ],
 "metadata": {
  "kernelspec": {
   "display_name": "Python 3",
   "language": "python",
   "name": "python3"
  },
  "language_info": {
   "codemirror_mode": {
    "name": "ipython",
    "version": 3
   },
   "file_extension": ".py",
   "mimetype": "text/x-python",
   "name": "python",
   "nbconvert_exporter": "python",
   "pygments_lexer": "ipython3",
   "version": "3.7.3"
  }
 },
 "nbformat": 4,
 "nbformat_minor": 2
}
