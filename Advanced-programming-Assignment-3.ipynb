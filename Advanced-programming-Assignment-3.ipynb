{
 "cells": [
  {
   "cell_type": "code",
   "execution_count": 4,
   "metadata": {},
   "outputs": [
    {
     "data": {
      "text/plain": [
       "-1"
      ]
     },
     "execution_count": 4,
     "metadata": {},
     "output_type": "execute_result"
    }
   ],
   "source": [
    "# 1. Create a function to perform basic arithmetic operations that includes addition, subtraction, multiplication and division on a string number (e.g. \"12 + 24\" or \"23 - 21\" or \"12 // 12\" or \"12 * 21\").\n",
    "# Here, we have 1 followed by a space, operator followed by another space and 2. For the challenge, we are going to have only two numbers between 1 valid operator. The return value should be a number.\n",
    "# eval() is not allowed. In case of division, whenever the second number equals \"0\" return -1.\n",
    "# For example:\n",
    "# \"15 // 0\"  ➞ -1\n",
    "\n",
    "def arithmetic_operation(s):\n",
    "    l=s.split(' ')\n",
    "    if l[1]=='+':\n",
    "        return int(l[0])+int(l[2])\n",
    "    elif l[1]=='-':\n",
    "        return int(l[0])-int(l[2])\n",
    "    elif l[1]=='*':\n",
    "        return int(l[0])*int(l[2])\n",
    "    elif l[1]=='//':\n",
    "        try:\n",
    "            return int(l[0])/int(l[2])\n",
    "        except:\n",
    "            return -1\n",
    "arithmetic_operation(\"12 // 0\") "
   ]
  },
  {
   "cell_type": "code",
   "execution_count": 5,
   "metadata": {},
   "outputs": [
    {
     "data": {
      "text/plain": [
       "156"
      ]
     },
     "execution_count": 5,
     "metadata": {},
     "output_type": "execute_result"
    }
   ],
   "source": [
    "arithmetic_operation(\"12 * 13\")"
   ]
  },
  {
   "cell_type": "code",
   "execution_count": 7,
   "metadata": {},
   "outputs": [
    {
     "data": {
      "text/plain": [
       "47.08"
      ]
     },
     "execution_count": 7,
     "metadata": {},
     "output_type": "execute_result"
    }
   ],
   "source": [
    "# 2. Write a function that takes the coordinates of three points in the form of a 2d array and returns \n",
    "# the perimeter of the triangle. The given points are the vertices of a triangle on a two-dimensional plane.\n",
    "# Examples\n",
    "# perimeter( [ [15, 7], [5, 22], [11, 1] ] ) ➞ 47.08\n",
    "# perimeter( [ [0, 0], [0, 1], [1, 0] ] ) ➞ 3.42\n",
    "# perimeter( [ [-10, -10], [10, 10 ], [-10, 10] ] ) ➞ 68.28\n",
    "import math\n",
    "def dist(a,b):\n",
    "    return math.sqrt((b[0]-a[0])**2+(b[1]-a[1])**2)\n",
    "    \n",
    "def perimeter(l):\n",
    "    return round(dist(l[0],l[1])+dist(l[1],l[2])+dist(l[2],l[0]),2)\n",
    "\n",
    "perimeter( [ [15, 7], [5, 22], [11, 1] ] )"
   ]
  },
  {
   "cell_type": "code",
   "execution_count": 8,
   "metadata": {},
   "outputs": [
    {
     "data": {
      "text/plain": [
       "68.28"
      ]
     },
     "execution_count": 8,
     "metadata": {},
     "output_type": "execute_result"
    }
   ],
   "source": [
    "perimeter( [ [-10, -10], [10, 10 ], [-10, 10] ] )"
   ]
  },
  {
   "cell_type": "code",
   "execution_count": 40,
   "metadata": {},
   "outputs": [
    {
     "data": {
      "text/plain": [
       "4"
      ]
     },
     "execution_count": 40,
     "metadata": {},
     "output_type": "execute_result"
    }
   ],
   "source": [
    "# 3. A city skyline can be represented as a 2-D list with 1s representing buildings. In the example below, the height of the tallest building is 4 (second-most right column).\n",
    "[[0, 0, 0, 0, 0, 0],\n",
    "[0, 0, 0, 0, 1, 0],\n",
    "[0, 0, 1, 0, 1, 0],\n",
    "[0, 1, 1, 1, 1, 0],\n",
    "[1, 1, 1, 1, 1, 1]]\n",
    "# Create a function that takes a skyline (2-D list of 0's and 1's) and returns the height of the tallest skyscraper.\n",
    "def tallest_skyscraper(l):\n",
    "    height=len(l)\n",
    "    width=len(l[0])\n",
    "    heights=[]\n",
    "    for i in range(0,width):\n",
    "        sum=0\n",
    "        for j in range(0,height):\n",
    "            sum=sum+l[j][i]\n",
    "        heights.append(sum)\n",
    "    return max(heights)\n",
    "tallest_skyscraper([\n",
    "  [0, 1, 0],\n",
    "  [0, 1, 0],\n",
    "  [0, 1, 1],\n",
    "  [1, 1, 1]\n",
    "]) \n",
    "\n"
   ]
  },
  {
   "cell_type": "code",
   "execution_count": 41,
   "metadata": {},
   "outputs": [
    {
     "data": {
      "text/plain": [
       "8200"
      ]
     },
     "execution_count": 41,
     "metadata": {},
     "output_type": "execute_result"
    }
   ],
   "source": [
    "# 4. A financial institution provides professional services to banks and claims charges from the customers\n",
    "# based on the number of man-days provided. Internally, it has set a scheme to motivate and reward staff to meet\n",
    "# and exceed targeted billable utilization and revenues by paying a bonus for each day claimed from customers in \n",
    "# excess of a threshold target.\n",
    "# # This quarterly scheme is calculated with a threshold target of 32 days per quarter, and the \n",
    "# incentive payment for each billable day in excess of such threshold target is shown as follows:\n",
    "# Days\t                             Bonus\n",
    "# 0 to 32 days\t                   Zero\n",
    "# 33 to 40 days\t         SGD$325 per billable day\n",
    "# 41 to 48 days\t         SGD$550 per billable day\n",
    "# Greater than 48 days      SGD$600 per billable day\n",
    "# Please note that incentive payment is calculated progressively. As an example, if an employee reached total billable days of 45 in a quarter, his/her incentive payment is computed as follows:\n",
    "# 32*0 + 8*325 + 5*550 = 5350\n",
    "# Write a function to read the billable days of an employee and return the bonus he/she has obtained in that quarter.\n",
    "def bonus(d):\n",
    "    if d <=32:\n",
    "        return 0\n",
    "    elif d<=40:\n",
    "        return (d-32)*325\n",
    "    elif d <=48:\n",
    "        return (d-40)*550+8*325\n",
    "    else:\n",
    "        return 8*550+8*325+(d-48)*600\n",
    "bonus(50)"
   ]
  },
  {
   "cell_type": "code",
   "execution_count": 42,
   "metadata": {},
   "outputs": [],
   "source": [
    "# 5. A number is said to be Disarium if the sum of its digits raised to their respective positions is the number itself.\n",
    "# Create a function that determines whether a number is a Disarium or not.\n",
    "# Examples\n",
    "# is_disarium(75) ➞ False\n",
    "# # 7^1 + 5^2 = 7 + 25 = 32\n",
    "# is_disarium(135) ➞ True\n",
    "# # 1^1 + 3^2 + 5^3 = 1 + 9 + 125 = 135\n",
    "def is_disarium(n):\n",
    "    sum=0\n",
    "    for i in range(1,len(str(n))+1):\n",
    "        sum=sum+math.pow(int(str(n)[i-1]),i)\n",
    "    if sum == n:\n",
    "        return True\n",
    "    else:\n",
    "        return False"
   ]
  },
  {
   "cell_type": "code",
   "execution_count": 44,
   "metadata": {},
   "outputs": [
    {
     "data": {
      "text/plain": [
       "True"
      ]
     },
     "execution_count": 44,
     "metadata": {},
     "output_type": "execute_result"
    }
   ],
   "source": [
    "is_disarium(135)"
   ]
  },
  {
   "cell_type": "code",
   "execution_count": null,
   "metadata": {},
   "outputs": [],
   "source": []
  }
 ],
 "metadata": {
  "kernelspec": {
   "display_name": "Python 3",
   "language": "python",
   "name": "python3"
  },
  "language_info": {
   "codemirror_mode": {
    "name": "ipython",
    "version": 3
   },
   "file_extension": ".py",
   "mimetype": "text/x-python",
   "name": "python",
   "nbconvert_exporter": "python",
   "pygments_lexer": "ipython3",
   "version": "3.8.5"
  }
 },
 "nbformat": 4,
 "nbformat_minor": 4
}
