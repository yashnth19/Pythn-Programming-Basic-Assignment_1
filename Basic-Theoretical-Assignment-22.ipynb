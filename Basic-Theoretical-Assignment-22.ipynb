{
 "cells": [
  {
   "cell_type": "code",
   "execution_count": 1,
   "id": "fc34e725",
   "metadata": {},
   "outputs": [
    {
     "name": "stdout",
     "output_type": "stream",
     "text": [
      "iNeuron\n"
     ]
    }
   ],
   "source": [
    "# 1. What is the result of the code, and explain? \n",
    "\n",
    "X = 'iNeuron' \n",
    "\n",
    "def func(): \n",
    "\n",
    "    print(X) \n",
    "\n",
    " \n",
    "func() \n",
    "# X is  a global variable and is reflected in the function"
   ]
  },
  {
   "cell_type": "code",
   "execution_count": 4,
   "id": "cc744d05",
   "metadata": {},
   "outputs": [
    {
     "name": "stdout",
     "output_type": "stream",
     "text": [
      "iNeuron\n"
     ]
    }
   ],
   "source": [
    "# 2. What is the result of the code, and explain? \n",
    "\n",
    "X = 'iNeuron' \n",
    "\n",
    "def func(): \n",
    "\n",
    "    X = 'NI!' \n",
    "\n",
    " \n",
    "func() \n",
    "\n",
    "print(X) \n",
    "\n",
    "# the output is to print the global variable X. there is no output from the function. \n",
    "# and global variable cannot be modified within a fucntion"
   ]
  },
  {
   "cell_type": "code",
   "execution_count": 6,
   "id": "da531af0",
   "metadata": {},
   "outputs": [
    {
     "name": "stdout",
     "output_type": "stream",
     "text": [
      "NI\n",
      "iNeuron\n"
     ]
    }
   ],
   "source": [
    "# 3. What does this code print, and why? \n",
    "\n",
    "X = 'iNeuron' \n",
    "\n",
    "def func(): \n",
    "\n",
    "    X = 'NI' \n",
    "\n",
    "    print(X) \n",
    "\n",
    "\n",
    "func() \n",
    "print(X) \n",
    "\n",
    "# first output NI is printed from function which defined a local varial X ='NI'\n",
    "# 2nd output is global variable print function"
   ]
  },
  {
   "cell_type": "code",
   "execution_count": 15,
   "id": "2b63a5f8",
   "metadata": {},
   "outputs": [
    {
     "name": "stdout",
     "output_type": "stream",
     "text": [
      "NI\n"
     ]
    }
   ],
   "source": [
    "# 4. What output does this code produce? Why? \n",
    "\n",
    "X = 'iNeuron' \n",
    "\n",
    "def func(): \n",
    "\n",
    "    global X \n",
    "\n",
    "    X = 'NI' \n",
    "\n",
    " \n",
    "func() \n",
    "print(X) \n",
    "\n",
    "#the global variable x is modified inside the func using the 'global X'\n",
    "# the modified global variable it printed here. there is no oputput from the func\n"
   ]
  },
  {
   "cell_type": "code",
   "execution_count": 14,
   "id": "69690842",
   "metadata": {},
   "outputs": [
    {
     "name": "stdout",
     "output_type": "stream",
     "text": [
      "iNeuron\n"
     ]
    },
    {
     "data": {
      "text/plain": [
       "'iNeuron'"
      ]
     },
     "execution_count": 14,
     "metadata": {},
     "output_type": "execute_result"
    }
   ],
   "source": [
    "# 5. What about this code—what’s the output, and why? \n",
    "\n",
    "X = 'iNeuron' \n",
    "\n",
    "def func(): \n",
    "\n",
    "    X = 'NI' \n",
    "\n",
    "def nested(): \n",
    "\n",
    "    print(X) \n",
    "\n",
    "nested() \n",
    "\n",
    "func() \n",
    "X \n",
    "\n",
    "# first output is from the nested() which returns the global variable X = 'iNeuron'\n",
    "# there is no output from the func()\n",
    "# global variable X = 'iNeuron' is executed again as the 2nd output"
   ]
  },
  {
   "cell_type": "code",
   "execution_count": null,
   "id": "69c33477",
   "metadata": {},
   "outputs": [],
   "source": []
  }
 ],
 "metadata": {
  "kernelspec": {
   "display_name": "Python 3",
   "language": "python",
   "name": "python3"
  },
  "language_info": {
   "codemirror_mode": {
    "name": "ipython",
    "version": 3
   },
   "file_extension": ".py",
   "mimetype": "text/x-python",
   "name": "python",
   "nbconvert_exporter": "python",
   "pygments_lexer": "ipython3",
   "version": "3.8.8"
  }
 },
 "nbformat": 4,
 "nbformat_minor": 5
}
