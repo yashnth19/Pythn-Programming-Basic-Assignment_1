{
 "cells": [
  {
   "cell_type": "code",
   "execution_count": 28,
   "metadata": {},
   "outputs": [
    {
     "data": {
      "text/plain": [
       "8"
      ]
     },
     "execution_count": 28,
     "metadata": {},
     "output_type": "execute_result"
    }
   ],
   "source": [
    "# 1. Create a function that takes a number n (integer greater than zero) as an argument, and returns 2 if n is odd and 8 if n is even.\n",
    "# You can only use the following arithmetic operators: addition of numbers +, subtraction of numbers -, multiplication of number *, division of number /, and exponentiation **.\n",
    "# You are not allowed to use any other methods in this challenge (i.e. no if statements, comparison operators, etc).\n",
    "# Examples\n",
    "# f(1) ➞ 2\n",
    "# f(2) ➞ 8\n",
    "# f(3) ➞ 2\n",
    "def f(n):\n",
    "    s= int(str(float(n)/2)[-1])\n",
    "    return int((s*6/-5)+8)\n",
    "f(56)"
   ]
  },
  {
   "cell_type": "code",
   "execution_count": 30,
   "metadata": {},
   "outputs": [
    {
     "data": {
      "text/plain": [
       "'A'"
      ]
     },
     "execution_count": 30,
     "metadata": {},
     "output_type": "execute_result"
    }
   ],
   "source": [
    "# 2. Create a function that returns the majority vote in a list. A majority vote is an element that occurs > N/2 times in a list (where N is the length of the list).\n",
    "\n",
    "# Examples\n",
    "# majority_vote([\"A\", \"A\", \"B\"]) ➞ \"A\"\n",
    "# majority_vote([\"A\", \"A\", \"A\", \"B\", \"C\", \"A\"]) ➞ \"A\"\n",
    "# majority_vote([\"A\", \"B\", \"B\", \"A\", \"C\", \"C\"]) ➞ None\n",
    "def majority_vote(l):\n",
    "    mv=[]\n",
    "    for i in set(l):\n",
    "        if l.count(i)>len(l)/2:\n",
    "            mv.append(i)\n",
    "    return mv[0]\n",
    "majority_vote([\"A\", \"A\", \"A\", \"B\", \"C\", \"A\"])\n",
    "            "
   ]
  },
  {
   "cell_type": "code",
   "execution_count": 32,
   "metadata": {},
   "outputs": [
    {
     "data": {
      "text/plain": [
       "'----- is - Wednesday!'"
      ]
     },
     "execution_count": 32,
     "metadata": {},
     "output_type": "execute_result"
    }
   ],
   "source": [
    "# 3. Create a function that takes a string txt and censors any word from a given list lst. \n",
    "# The text removed must be replaced by the given character char.\n",
    "# Examples\n",
    "# censor_string(\"Today is a Wednesday!\", [\"Today\", \"a\"], \"-\") ➞ \"----- is - Wednesday!\"\n",
    "\n",
    "def censor_string(s,l,r):\n",
    "    s_list=s.split(\" \")\n",
    "    for i in l:\n",
    "        for j in range(0,len(s_list)):\n",
    "            if s_list[j]==i:\n",
    "                s_list[j]=r*len(s_list[j])\n",
    "            else:\n",
    "                pass\n",
    "    return \" \".join(s_list)\n",
    "            \n",
    "censor_string(\"Today is a Wednesday!\", [\"Today\", \"a\"], \"-\")           "
   ]
  },
  {
   "cell_type": "code",
   "execution_count": 34,
   "metadata": {},
   "outputs": [
    {
     "data": {
      "text/plain": [
       "'The *** jumped **** the moon.'"
      ]
     },
     "execution_count": 34,
     "metadata": {},
     "output_type": "execute_result"
    }
   ],
   "source": [
    "censor_string(\"The cow jumped over the moon.\", [\"cow\", \"over\"], \"*\")"
   ]
  },
  {
   "cell_type": "code",
   "execution_count": 62,
   "metadata": {},
   "outputs": [
    {
     "data": {
      "text/plain": [
       "False"
      ]
     },
     "execution_count": 62,
     "metadata": {},
     "output_type": "execute_result"
    }
   ],
   "source": [
    "# 4. In mathematics a Polydivisible Number (or magic number) is a number in a given number base with digits abcde..\n",
    "# . that has the following properties:\n",
    "# -  Its first digit a is not 0.\n",
    "# - The number formed by its first two digits ab is a multiple of 2.\n",
    "# - The number formed by its first three digits abc is a multiple of 3.\n",
    "# - The number formed by its first four digits abcd is a multiple of 4.\n",
    "# Create a function which takes an integer n and returns True if the given number is a Polydivisible Number and False otherwise.\n",
    "# is_polydivisible(1232) ➞ True\n",
    "def is_polydivisible(n):\n",
    "    s=str(n)\n",
    "    if s[0]!=0:\n",
    "        for i in range(1,len(s)):\n",
    "            if int(s[0:i+1])%(1+i)!=0:\n",
    "                return False\n",
    "        return True\n",
    "    else:\n",
    "        return False\n",
    "is_polydivisible(123220) "
   ]
  },
  {
   "cell_type": "code",
   "execution_count": 63,
   "metadata": {},
   "outputs": [
    {
     "data": {
      "text/plain": [
       "True"
      ]
     },
     "execution_count": 63,
     "metadata": {},
     "output_type": "execute_result"
    }
   ],
   "source": [
    "is_polydivisible(1232)"
   ]
  },
  {
   "cell_type": "code",
   "execution_count": 70,
   "metadata": {},
   "outputs": [
    {
     "data": {
      "text/plain": [
       "17"
      ]
     },
     "execution_count": 70,
     "metadata": {},
     "output_type": "execute_result"
    }
   ],
   "source": [
    "# 5. Create a function that takes a list of numbers and returns the sum of all prime numbers in the list.\n",
    "\n",
    "# Examples\n",
    "# sum_primes([1, 2, 3, 4, 5, 6, 7, 8, 9, 10]) ➞ 17\n",
    "# sum_primes([2, 3, 4, 11, 20, 50, 71]) ➞ 87\n",
    "# sum_primes([]) ➞ None\n",
    "def is_prime(n):\n",
    "    if n==1:\n",
    "        return False\n",
    "    else:\n",
    "        for i in range(2,n):\n",
    "            if n%i == 0:\n",
    "                return False\n",
    "        else:    \n",
    "            return True\n",
    "def sum_primes(l):\n",
    "    sum=0\n",
    "    for i in l:\n",
    "        if is_prime(i)==True:\n",
    "            sum=sum+i\n",
    "    return sum\n",
    "sum_primes([1, 2, 3, 4, 5, 6, 7, 8, 9, 10])"
   ]
  },
  {
   "cell_type": "code",
   "execution_count": 71,
   "metadata": {},
   "outputs": [
    {
     "data": {
      "text/plain": [
       "87"
      ]
     },
     "execution_count": 71,
     "metadata": {},
     "output_type": "execute_result"
    }
   ],
   "source": [
    "sum_primes([2, 3, 4, 11, 20, 50, 71])"
   ]
  },
  {
   "cell_type": "code",
   "execution_count": null,
   "metadata": {},
   "outputs": [],
   "source": []
  }
 ],
 "metadata": {
  "kernelspec": {
   "display_name": "Python 3",
   "language": "python",
   "name": "python3"
  },
  "language_info": {
   "codemirror_mode": {
    "name": "ipython",
    "version": 3
   },
   "file_extension": ".py",
   "mimetype": "text/x-python",
   "name": "python",
   "nbconvert_exporter": "python",
   "pygments_lexer": "ipython3",
   "version": "3.8.5"
  }
 },
 "nbformat": 4,
 "nbformat_minor": 4
}
