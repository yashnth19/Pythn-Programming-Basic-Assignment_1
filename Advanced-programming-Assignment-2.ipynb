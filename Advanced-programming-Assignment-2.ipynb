{
 "cells": [
  {
   "cell_type": "code",
   "execution_count": 9,
   "metadata": {},
   "outputs": [
    {
     "data": {
      "text/plain": [
       "76"
      ]
     },
     "execution_count": 9,
     "metadata": {},
     "output_type": "execute_result"
    }
   ],
   "source": [
    "# 1. Write a function that takes a positive integer num and calculates how many\n",
    "# dots exist in a pentagonal shape around the center dot on the Nth iteration.\n",
    "# In the image below you can see the first iteration is only a single dot. On the\n",
    "# second, there are 6 dots. On the third, there are 16 dots, and on the fourth\n",
    "# there are 31 dots.\n",
    "# Return the number of dots that exist in the whole pentagon on the Nth\n",
    "# iteration.\n",
    "def num_dots(n):\n",
    "    total=1\n",
    "    for i in range(2,n+1):\n",
    "        total =total+5*(i-1)\n",
    "    return total\n",
    "num_dots(6)"
   ]
  },
  {
   "cell_type": "code",
   "execution_count": 38,
   "metadata": {},
   "outputs": [
    {
     "data": {
      "text/plain": [
       "'0n0n0baca'"
      ]
     },
     "execution_count": 38,
     "metadata": {},
     "output_type": "execute_result"
    }
   ],
   "source": [
    "# 2. Make a function that encrypts a given input with these steps:\n",
    "# Input: &quot;apple&quot;\n",
    "# Step 1: Reverse the input: &quot;elppa&quot;\n",
    "# Step 2: Replace all vowels using the following chart:\n",
    "# Step 3: Add &quot;aca&quot; to the end of the word: &quot;1lpp0aca&quot;\n",
    "def encrypt(a):\n",
    "    s=str(a)\n",
    "    dict={\"a\":0, \"e\":1,\"i\":2,\"o\":2,\"u\":3}\n",
    "    for i in range(0,len(s)):\n",
    "        if s[i] in dict.keys():\n",
    "            s=s.replace(s[i],str(dict[s[i]]))\n",
    "#         else:\n",
    "    s=s[::-1]         \n",
    "    return s+'aca'\n",
    "encrypt('banana')            "
   ]
  },
  {
   "cell_type": "code",
   "execution_count": 15,
   "metadata": {},
   "outputs": [
    {
     "data": {
      "text/plain": [
       "True"
      ]
     },
     "execution_count": 15,
     "metadata": {},
     "output_type": "execute_result"
    }
   ],
   "source": [
    "# 3. Given the month and year as numbers, return whether that month contains a Friday 13th.\n",
    "# (i.e You can check Python's datetime module)\n",
    "# Examples\n",
    "# has_friday_13(3, 2020) ➞ True\n",
    "from datetime import date\n",
    "\n",
    "def has_friday_13(month, year):\n",
    "    my_date = date(year, month, 13)\n",
    "    if my_date.weekday() == 4:\n",
    "        return True\n",
    "    else:\n",
    "        return False\n",
    "has_friday_13(3, 2020) "
   ]
  },
  {
   "cell_type": "code",
   "execution_count": 21,
   "metadata": {},
   "outputs": [
    {
     "data": {
      "text/plain": [
       "3"
      ]
     },
     "execution_count": 21,
     "metadata": {},
     "output_type": "execute_result"
    }
   ],
   "source": [
    "\n",
    "# 4. Write a regular expression that will help us count how many bad cookies are produced every day.\n",
    "# You must use RegEx negative lookbehind.\n",
    "import re\n",
    "# Example\n",
    "# lst = [\"bad cookie\", \"good cookie\", \"bad cookie\", \"good cookie\", \"good cookie\"]\n",
    "# pattern = \"yourregularexpressionhere\"\n",
    "# len(re.findall(pattern, \", \".join(lst))) ➞ 2\n",
    "# lst = [\"bad cookie\", \"good cookie\", \"bad cookie\", \"good cookie\", \"good cookie\"]\n",
    "\n",
    "def count_cookies(l):\n",
    "    pattern = \"bad cookie\"\n",
    "    return len(re.findall(pattern, \", \".join(l)))\n",
    "count_cookies([\"bad cookie\", \"bad cookie\", \"good cookie\", \"bad cookie\", \"good cookie\", \"good cookie\"])"
   ]
  },
  {
   "cell_type": "code",
   "execution_count": 31,
   "metadata": {},
   "outputs": [
    {
     "data": {
      "text/plain": [
       "['pig', 'tables', 'cows']"
      ]
     },
     "execution_count": 31,
     "metadata": {},
     "output_type": "execute_result"
    }
   ],
   "source": [
    "# 5. Given a list of words in the singular form, return a set of those words in the plural form if they \n",
    "# appear more than once in the list.\n",
    "\n",
    "# Examples\n",
    "# pluralize([\"cow\", \"pig\", \"cow\", \"cow\"]) ➞ { \"cows\", \"pig\" }\n",
    "# pluralize([\"table\", \"table\", \"table\"]) ➞ { \"tables\" }\n",
    "# pluralize([\"chair\", \"pencil\", \"arm\"]) ➞ { \"chair\", \"pencil\", \"arm\" }\n",
    "def count_duplicates(l,s):\n",
    "    return len(re.findall(s, \", \".join(l)))\n",
    "def replace_plural(l,s):\n",
    "        while s in l:\n",
    "            l.remove(s)\n",
    "        l.append(s+'s')\n",
    "#         return l\n",
    "def pluralize(l):\n",
    "    for i in l:\n",
    "        if count_duplicates(l,i)>1:\n",
    "           replace_plural(l,i)\n",
    "    return l    \n",
    "pluralize([\"cow\", \"pig\", \"cow\", \"cow\"])   \n",
    "pluralize([\"chair\", \"pencil\", \"arm\"])\n",
    "pluralize([\"table\", \"table\", \"table\", \"cow\", \"pig\", \"cow\", \"cow\"])"
   ]
  },
  {
   "cell_type": "code",
   "execution_count": null,
   "metadata": {},
   "outputs": [],
   "source": []
  },
  {
   "cell_type": "code",
   "execution_count": null,
   "metadata": {},
   "outputs": [],
   "source": []
  },
  {
   "cell_type": "code",
   "execution_count": null,
   "metadata": {},
   "outputs": [],
   "source": []
  },
  {
   "cell_type": "code",
   "execution_count": null,
   "metadata": {},
   "outputs": [],
   "source": []
  }
 ],
 "metadata": {
  "kernelspec": {
   "display_name": "Python 3",
   "language": "python",
   "name": "python3"
  },
  "language_info": {
   "codemirror_mode": {
    "name": "ipython",
    "version": 3
   },
   "file_extension": ".py",
   "mimetype": "text/x-python",
   "name": "python",
   "nbconvert_exporter": "python",
   "pygments_lexer": "ipython3",
   "version": "3.8.5"
  }
 },
 "nbformat": 4,
 "nbformat_minor": 2
}
