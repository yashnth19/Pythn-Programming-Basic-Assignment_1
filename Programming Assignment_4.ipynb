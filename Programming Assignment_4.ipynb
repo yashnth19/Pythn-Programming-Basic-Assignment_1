{
 "cells": [
  {
   "cell_type": "code",
   "execution_count": 7,
   "metadata": {},
   "outputs": [
    {
     "name": "stdout",
     "output_type": "stream",
     "text": [
      "24\n"
     ]
    }
   ],
   "source": [
    "# 1. Write a Python Program to Find the Factorial of a Number?\n",
    "n = 4\n",
    "fac=1\n",
    "for i in range(1,n+1):\n",
    "    fac =fac*i\n",
    "print (fac)\n",
    "\n",
    "\n",
    "\n",
    "\n"
   ]
  },
  {
   "cell_type": "code",
   "execution_count": 9,
   "metadata": {},
   "outputs": [
    {
     "name": "stdout",
     "output_type": "stream",
     "text": [
      "1 x 1 = 1\n",
      "2 x 2 = 4\n",
      "3 x 3 = 9\n",
      "4 x 4 = 16\n",
      "5 x 5 = 25\n",
      "6 x 6 = 36\n",
      "7 x 7 = 49\n",
      "8 x 8 = 64\n",
      "9 x 9 = 81\n"
     ]
    }
   ],
   "source": [
    "# 2. Write a Python Program to Display the multiplication Table?\n",
    "t =10\n",
    "m=1\n",
    "for i in range(1,t):\n",
    "    print (\"{} x {} = {}\".format(i,m,i*m ))\n",
    "    m=m+1"
   ]
  },
  {
   "cell_type": "code",
   "execution_count": 23,
   "metadata": {},
   "outputs": [
    {
     "name": "stdout",
     "output_type": "stream",
     "text": [
      "[1, 3, 6, 10, 15, 21, 28, 36]\n"
     ]
    }
   ],
   "source": [
    "# 3. Write a Python Program to Print the Fibonacci sequence?\n",
    "n =8\n",
    "fib= []\n",
    "for i in range(2,n+2):\n",
    "    j=i\n",
    "    f=0\n",
    "    while j > 0:\n",
    "        f=f+(j-1)\n",
    "        j=j-1\n",
    "    fib.append(f)\n",
    "print (fib)"
   ]
  },
  {
   "cell_type": "code",
   "execution_count": 31,
   "metadata": {},
   "outputs": [
    {
     "name": "stdout",
     "output_type": "stream",
     "text": [
      "370 is an Armstrong\n"
     ]
    }
   ],
   "source": [
    "# 4. Write a Python Program to Check Armstrong Number?\n",
    "n =370\n",
    "s=0\n",
    "for i in (str(n)):\n",
    "    s=s+int(i)**3\n",
    "if s==n:\n",
    "    print (\"{} is an Armstrong\".format(n))\n",
    "else:\n",
    "    print (\"{} is not an Armstrong\".format(n))"
   ]
  },
  {
   "cell_type": "code",
   "execution_count": 34,
   "metadata": {},
   "outputs": [
    {
     "name": "stdout",
     "output_type": "stream",
     "text": [
      "[153, 370, 371, 407]\n"
     ]
    }
   ],
   "source": [
    "# 5. Write a Python Program to Find Armstrong Number in an Interval?\n",
    "a,b = 3,1000\n",
    "ano=[]\n",
    "for n in range(a,b):\n",
    "    s=0\n",
    "    for i in (str(n)):\n",
    "        s=s+int(i)**3\n",
    "    if s==n:\n",
    "        ano.append(n)\n",
    "print(ano)\n",
    "    "
   ]
  },
  {
   "cell_type": "code",
   "execution_count": 36,
   "metadata": {},
   "outputs": [
    {
     "name": "stdout",
     "output_type": "stream",
     "text": [
      "55\n"
     ]
    }
   ],
   "source": [
    "# 6. Write a Python Program to Find the Sum of Natural Numbers?\n",
    "i = 10\n",
    "sum= 0\n",
    "while i >0 :\n",
    "    sum =sum + i\n",
    "    i=i-1\n",
    "print (sum)\n",
    "    "
   ]
  },
  {
   "cell_type": "code",
   "execution_count": null,
   "metadata": {},
   "outputs": [],
   "source": []
  }
 ],
 "metadata": {
  "kernelspec": {
   "display_name": "Python 3",
   "language": "python",
   "name": "python3"
  },
  "language_info": {
   "codemirror_mode": {
    "name": "ipython",
    "version": 3
   },
   "file_extension": ".py",
   "mimetype": "text/x-python",
   "name": "python",
   "nbconvert_exporter": "python",
   "pygments_lexer": "ipython3",
   "version": "3.7.3"
  }
 },
 "nbformat": 4,
 "nbformat_minor": 2
}
