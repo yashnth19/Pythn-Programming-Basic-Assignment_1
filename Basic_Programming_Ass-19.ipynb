{
 "cells": [
  {
   "cell_type": "code",
   "execution_count": 1,
   "metadata": {},
   "outputs": [
    {
     "data": {
      "text/plain": [
       "'SSttrriinngg'"
      ]
     },
     "execution_count": 1,
     "metadata": {},
     "output_type": "execute_result"
    }
   ],
   "source": [
    "# Question1 \n",
    "# Create a function that takes a string and returns a string in which each character is repeated once. \n",
    "# Examples \n",
    "# double_char(\"String\") ➞ \"SSttrriinngg\" \n",
    "def double_char(s):\n",
    "    res=\"\"\n",
    "    for i in s:\n",
    "        res=res+i+i\n",
    "    return res\n",
    "double_char(\"String\")"
   ]
  },
  {
   "cell_type": "code",
   "execution_count": 5,
   "metadata": {},
   "outputs": [
    {
     "data": {
      "text/plain": [
       "'boolean expected'"
      ]
     },
     "execution_count": 5,
     "metadata": {},
     "output_type": "execute_result"
    }
   ],
   "source": [
    "# Question2 \n",
    "# Create a function that reverses a boolean value and returns the string \"boolean expected\" if another variable type is given. \n",
    "# Examples \n",
    "# reverse(True) ➞ False \n",
    "# reverse(False) ➞ True \n",
    "# reverse(0) ➞ \"boolean expected\" \n",
    "def reverse(s):\n",
    "    if str(s)==str(True):\n",
    "        return not True\n",
    "    elif str(s)==str(False):\n",
    "        return not False\n",
    "    else:\n",
    "        return \"boolean expected\" \n",
    "reverse(0)"
   ]
  },
  {
   "cell_type": "code",
   "execution_count": 6,
   "metadata": {},
   "outputs": [
    {
     "data": {
      "text/plain": [
       "False"
      ]
     },
     "execution_count": 6,
     "metadata": {},
     "output_type": "execute_result"
    }
   ],
   "source": [
    "reverse(True)"
   ]
  },
  {
   "cell_type": "code",
   "execution_count": 7,
   "metadata": {},
   "outputs": [
    {
     "data": {
      "text/plain": [
       "True"
      ]
     },
     "execution_count": 7,
     "metadata": {},
     "output_type": "execute_result"
    }
   ],
   "source": [
    "reverse(False)"
   ]
  },
  {
   "cell_type": "code",
   "execution_count": 13,
   "metadata": {},
   "outputs": [
    {
     "data": {
      "text/plain": [
       "'0.008m'"
      ]
     },
     "execution_count": 13,
     "metadata": {},
     "output_type": "execute_result"
    }
   ],
   "source": [
    "# Question3 \n",
    "# Create a function that returns the thickness (in meters) of a piece of paper after\n",
    "# folding it n number of times. The paper starts off with a thickness of 0.5mm. \n",
    "# Examples \n",
    "# num_layers(1) ➞ \"0.001m\" \n",
    "# # Paper folded once is 1mm (equal to 0.001m) \n",
    "# num_layers(4) ➞ \"0.008m\" \n",
    "# # Paper folded 4 times is 8mm (equal to 0.008m) \n",
    "# num_layers(21) ➞ \"1048.576m\" \n",
    "# # Paper folded 21 times is 1048576mm (equal to 1048.576m)\n",
    "def num_layers(n):\n",
    "    return str(0.0005*2**n)+\"m\"\n",
    "num_layers(4) "
   ]
  },
  {
   "cell_type": "code",
   "execution_count": 14,
   "metadata": {},
   "outputs": [
    {
     "data": {
      "text/plain": [
       "'1048.576m'"
      ]
     },
     "execution_count": 14,
     "metadata": {},
     "output_type": "execute_result"
    }
   ],
   "source": [
    "num_layers(21)"
   ]
  },
  {
   "cell_type": "code",
   "execution_count": 16,
   "metadata": {},
   "outputs": [
    {
     "data": {
      "text/plain": [
       "[1, 3, 4, 6]"
      ]
     },
     "execution_count": 16,
     "metadata": {},
     "output_type": "execute_result"
    }
   ],
   "source": [
    "# Question4 \n",
    "# Create a function that takes a single string as argument and returns an ordered list\n",
    "# containing the indices of all capital letters in the string. \n",
    "# Examples\n",
    "# index_of_caps(\"eDaBiT\") ➞ [1, 3, 5] \n",
    "# index_of_caps(\"eQuINoX\") ➞ [1, 3, 4, 6] \n",
    "def index_of_caps(s):\n",
    "    res=[]\n",
    "    for i in range(0,len(s)):\n",
    "        if s[i]==s[i].upper():\n",
    "            res.append(i)\n",
    "        else:\n",
    "            pass\n",
    "    return res\n",
    "index_of_caps(\"eQuINoX\")"
   ]
  },
  {
   "cell_type": "code",
   "execution_count": 19,
   "metadata": {},
   "outputs": [
    {
     "data": {
      "text/plain": [
       "[2, 4, 6, 8]"
      ]
     },
     "execution_count": 19,
     "metadata": {},
     "output_type": "execute_result"
    }
   ],
   "source": [
    "# Question5 \n",
    "# Using list comprehensions, create a function that finds all even numbers from 1 to the given number. \n",
    "# Examples \n",
    "# find_even_nums(8) ➞ [2, 4, 6, 8] \n",
    "def find_even_nums(n):\n",
    "    return [i for i in range(2,n+1,2)]\n",
    "\n",
    "find_even_nums(8)\n",
    " "
   ]
  },
  {
   "cell_type": "code",
   "execution_count": null,
   "metadata": {},
   "outputs": [],
   "source": []
  }
 ],
 "metadata": {
  "kernelspec": {
   "display_name": "Python 3",
   "language": "python",
   "name": "python3"
  },
  "language_info": {
   "codemirror_mode": {
    "name": "ipython",
    "version": 3
   },
   "file_extension": ".py",
   "mimetype": "text/x-python",
   "name": "python",
   "nbconvert_exporter": "python",
   "pygments_lexer": "ipython3",
   "version": "3.7.3"
  }
 },
 "nbformat": 4,
 "nbformat_minor": 2
}
