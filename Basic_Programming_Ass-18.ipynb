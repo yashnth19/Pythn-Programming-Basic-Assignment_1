{
 "cells": [
  {
   "cell_type": "code",
   "execution_count": 1,
   "metadata": {},
   "outputs": [
    {
     "data": {
      "text/plain": [
       "[1, 2]"
      ]
     },
     "execution_count": 1,
     "metadata": {},
     "output_type": "execute_result"
    }
   ],
   "source": [
    "# Question 1 \n",
    "# Create a function that takes a list of non-negative integers and strings and return a new list without the strings. \n",
    "# Examples \n",
    "# filter_list([1, 2, \"a\", \"b\"]) ➞ [1, 2] \n",
    "def filter_list(l):\n",
    "    res=[]\n",
    "    for i in l:\n",
    "        if type(i)==int:\n",
    "            res.append(i)\n",
    "        else:\n",
    "            pass\n",
    "    return res\n",
    "filter_list([1, 2, \"a\", \"b\"])"
   ]
  },
  {
   "cell_type": "code",
   "execution_count": 2,
   "metadata": {},
   "outputs": [
    {
     "data": {
      "text/plain": [
       "[1, 2, 123]"
      ]
     },
     "execution_count": 2,
     "metadata": {},
     "output_type": "execute_result"
    }
   ],
   "source": [
    "filter_list([1, 2, \"aasf\", \"1\", \"123\", 123])"
   ]
  },
  {
   "cell_type": "code",
   "execution_count": 7,
   "metadata": {},
   "outputs": [
    {
     "data": {
      "text/plain": [
       "'DLROw OLLEh'"
      ]
     },
     "execution_count": 7,
     "metadata": {},
     "output_type": "execute_result"
    }
   ],
   "source": [
    "# Question 2 \n",
    "# The \"Reverser\" takes a string as input and returns that string in reverse order, with the opposite case. \n",
    "# Examples \n",
    "# reverse(\"Hello World\") ➞ \"DLROw OLLEh\" \n",
    "# reverse(\"ReVeRsE\") ➞ \"eSrEvEr\" \n",
    "def case_rev(s):\n",
    "    if s==s.upper():\n",
    "        return s.lower()\n",
    "    elif s==s.lower():\n",
    "        return s.upper()\n",
    "    \n",
    "def reverse(a):\n",
    "    a1=a[::-1]\n",
    "    res=\"\"\n",
    "    for i in a1:\n",
    "        res=res+case_rev(i)\n",
    "    return res\n",
    "reverse(\"Hello World\")\n",
    "        "
   ]
  },
  {
   "cell_type": "code",
   "execution_count": 8,
   "metadata": {},
   "outputs": [
    {
     "data": {
      "text/plain": [
       "'eSrEvEr'"
      ]
     },
     "execution_count": 8,
     "metadata": {},
     "output_type": "execute_result"
    }
   ],
   "source": [
    "reverse(\"ReVeRsE\")"
   ]
  },
  {
   "cell_type": "code",
   "execution_count": 11,
   "metadata": {},
   "outputs": [],
   "source": [
    "# You can assign variables from lists like this: \n",
    "# lst = [1, 2, 3, 4, 5, 6] \n",
    "# first = lst[0] \n",
    "# middle = lst[1:-1] \n",
    "# last = lst[-1]  \n",
    "# print(first) ➞ outputs 1 \n",
    "# print(middle) ➞ outputs [2, 3, 4, 5] \n",
    "# print(last) ➞ outputs 6 \n",
    "# With Python 3, you can assign variables from lists in a much more succinct way. Create variables first, middle and last from the given list using destructuring assignment (check the Resources tab for some examples), where: \n",
    "# first  ➞ 1  \n",
    "# middle ➞ [2, 3, 4, 5]  \n",
    "# last ➞ 6 \n",
    "# Your task is to unpack the list writeyourcodehere into three variables, being first, middle, and last, with middle being everything in between the first and last element. Then print all three variables. \n",
    "first, *middle, last = [1, 2, 3, 4, 5,6]"
   ]
  },
  {
   "cell_type": "code",
   "execution_count": 13,
   "metadata": {},
   "outputs": [
    {
     "name": "stdout",
     "output_type": "stream",
     "text": [
      "1 [2, 3, 4, 5] 6\n"
     ]
    }
   ],
   "source": [
    "print (first,middle,last)\n"
   ]
  },
  {
   "cell_type": "code",
   "execution_count": 14,
   "metadata": {},
   "outputs": [
    {
     "data": {
      "text/plain": [
       "[7, 8, 1, 2, 3, 4, 9]"
      ]
     },
     "execution_count": 14,
     "metadata": {},
     "output_type": "execute_result"
    }
   ],
   "source": [
    "# Question 5 \n",
    "# Write a function that moves all elements of one type to the end of the list. \n",
    "# Examples \n",
    "# move_to_end([1, 3, 2, 4, 4, 1], 1) ➞ [3, 2, 4, 4, 1, 1] \n",
    "# # Move all the 1s to the end of the array.  \n",
    "# move_to_end([7, 8, 9, 1, 2, 3, 4], 9) ➞ [7, 8, 1, 2, 3, 4, 9]  \n",
    "# move_to_end([\"a\", \"a\", \"a\", \"b\"], \"a\") ➞ [\"b\", \"a\", \"a\", \"a\"] \n",
    "def move_to_end(l,a):\n",
    "    count=l.count(a)\n",
    "    for i in range(count):\n",
    "        l.remove(a)\n",
    "        l.append(a)\n",
    "    return l\n",
    "move_to_end([7, 8, 9, 1, 2, 3, 4], 9)"
   ]
  },
  {
   "cell_type": "code",
   "execution_count": 15,
   "metadata": {},
   "outputs": [
    {
     "data": {
      "text/plain": [
       "['b', 'a', 'a', 'a']"
      ]
     },
     "execution_count": 15,
     "metadata": {},
     "output_type": "execute_result"
    }
   ],
   "source": [
    " move_to_end([\"a\", \"a\", \"a\", \"b\"], \"a\")"
   ]
  },
  {
   "cell_type": "code",
   "execution_count": null,
   "metadata": {},
   "outputs": [],
   "source": []
  }
 ],
 "metadata": {
  "kernelspec": {
   "display_name": "Python 3",
   "language": "python",
   "name": "python3"
  },
  "language_info": {
   "codemirror_mode": {
    "name": "ipython",
    "version": 3
   },
   "file_extension": ".py",
   "mimetype": "text/x-python",
   "name": "python",
   "nbconvert_exporter": "python",
   "pygments_lexer": "ipython3",
   "version": "3.7.3"
  }
 },
 "nbformat": 4,
 "nbformat_minor": 2
}
