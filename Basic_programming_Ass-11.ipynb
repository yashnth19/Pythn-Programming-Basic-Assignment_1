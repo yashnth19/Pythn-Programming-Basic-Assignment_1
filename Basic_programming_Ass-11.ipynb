{
 "cells": [
  {
   "cell_type": "code",
   "execution_count": 2,
   "metadata": {},
   "outputs": [
    {
     "data": {
      "text/plain": [
       "['sdcerf', 'dfvfvfgvgfg', 'dvrtv']"
      ]
     },
     "execution_count": 2,
     "metadata": {},
     "output_type": "execute_result"
    }
   ],
   "source": [
    "# 1. Write a Python program to find words which are greater than given length k?\n",
    "def find_words(l,n):\n",
    "    large=[]\n",
    "    for i in l:\n",
    "        if len(i)>n:\n",
    "            large.append(i)\n",
    "    return large\n",
    "find_words([\"sdcerf\",\"fvv\",\"dfvfvfgvgfg\",\"errr\",\"dvrtv\"],4)"
   ]
  },
  {
   "cell_type": "code",
   "execution_count": 12,
   "metadata": {},
   "outputs": [
    {
     "data": {
      "text/plain": [
       "'qerty'"
      ]
     },
     "execution_count": 12,
     "metadata": {},
     "output_type": "execute_result"
    }
   ],
   "source": [
    "# 2. Write a Python program for removing i-th character from a string?\n",
    "def rem_char(s,n):\n",
    "    res=''\n",
    "    for i in range(0,len(s)):\n",
    "        if i ==n:\n",
    "            continue\n",
    "        else:\n",
    "            res=res+s[i]\n",
    "    return res\n",
    "rem_char('qwerty',1)\n",
    "    "
   ]
  },
  {
   "cell_type": "code",
   "execution_count": 21,
   "metadata": {},
   "outputs": [
    {
     "name": "stdout",
     "output_type": "stream",
     "text": [
      "('qw', 'rtyx', 'frbsdfwadaw', 'sd')\n"
     ]
    },
    {
     "data": {
      "text/plain": [
       "'qw_rtyx_frbsdfwadaw_sd'"
      ]
     },
     "execution_count": 21,
     "metadata": {},
     "output_type": "execute_result"
    }
   ],
   "source": [
    "# 3. Write a Python program to split and join a string?\n",
    "def split_str(s,char):\n",
    "    return tuple(s.split(char))\n",
    "print (split_str('qwertyxefrbsdfwadawesd','e'))\n",
    "def join_str(s,char):\n",
    "    return char.join(s)\n",
    "join_str(split_str('qwertyxefrbsdfwadawesd','e'),'_')"
   ]
  },
  {
   "cell_type": "code",
   "execution_count": 39,
   "metadata": {},
   "outputs": [
    {
     "data": {
      "text/plain": [
       "'Binary'"
      ]
     },
     "execution_count": 39,
     "metadata": {},
     "output_type": "execute_result"
    }
   ],
   "source": [
    "# 4. Write a Python to check if a given string is binary string or not?\n",
    "def check_binary(s):\n",
    "    if set(s)=={'0', '1'}:# \n",
    "        return \"Binary\"\n",
    "    else:\n",
    "        return \"Not a BInary\"\n",
    "check_binary('01101000101110101000')"
   ]
  },
  {
   "cell_type": "code",
   "execution_count": 41,
   "metadata": {},
   "outputs": [
    {
     "data": {
      "text/plain": [
       "['uncommon', 'a', 'words', 'the', 'example', 'an']"
      ]
     },
     "execution_count": 41,
     "metadata": {},
     "output_type": "execute_result"
    }
   ],
   "source": [
    "# 5. Write a Python program to find uncommon words from two Strings?\n",
    "def uncommon(a,b):\n",
    "    r=a.split(' ')\n",
    "    s=b.split(' ')\n",
    "    words=[]\n",
    "    for i in set(r):\n",
    "        if i  not in set(s):\n",
    "            words.append(i)\n",
    "    for i in set(s):\n",
    "        if i not in set(r):\n",
    "            words.append(i)\n",
    "    return words\n",
    "uncommon(\"this is a check for uncommon words\",\"this is an example for the check\")\n",
    "            "
   ]
  },
  {
   "cell_type": "code",
   "execution_count": 51,
   "metadata": {},
   "outputs": [
    {
     "data": {
      "text/plain": [
       "'etu'"
      ]
     },
     "execution_count": 51,
     "metadata": {},
     "output_type": "execute_result"
    }
   ],
   "source": [
    "# 6. Write a Python to find all duplicate characters in string?\n",
    "def duplicate(s):\n",
    "    nd=set(s)\n",
    "    for i in nd:\n",
    "        s=s.replace(str(i),'',1)\n",
    "    return s\n",
    "duplicate('qweerttyuu')"
   ]
  },
  {
   "cell_type": "code",
   "execution_count": 62,
   "metadata": {},
   "outputs": [
    {
     "name": "stdout",
     "output_type": "stream",
     "text": [
      "SPl char present\n",
      "NO SPL chars present\n"
     ]
    }
   ],
   "source": [
    "\n",
    "# 7. Write a Python Program to check if a string contains any special character?\n",
    "def check_spl(s):\n",
    "    spl='!@#$%^&*)'\n",
    "    for i in spl:\n",
    "        if str(i) in s:\n",
    "            return \"SPl char present\"\n",
    "        else:\n",
    "            pass\n",
    "    return \"NO SPL chars present\"\n",
    "print (check_spl('wdeevr56v@gdh'))\n",
    "print (check_spl('wdeevr56vgdh'))"
   ]
  },
  {
   "cell_type": "code",
   "execution_count": null,
   "metadata": {},
   "outputs": [],
   "source": []
  },
  {
   "cell_type": "code",
   "execution_count": null,
   "metadata": {},
   "outputs": [],
   "source": []
  },
  {
   "cell_type": "code",
   "execution_count": null,
   "metadata": {},
   "outputs": [],
   "source": []
  }
 ],
 "metadata": {
  "kernelspec": {
   "display_name": "Python 3",
   "language": "python",
   "name": "python3"
  },
  "language_info": {
   "codemirror_mode": {
    "name": "ipython",
    "version": 3
   },
   "file_extension": ".py",
   "mimetype": "text/x-python",
   "name": "python",
   "nbconvert_exporter": "python",
   "pygments_lexer": "ipython3",
   "version": "3.8.5"
  }
 },
 "nbformat": 4,
 "nbformat_minor": 4
}
