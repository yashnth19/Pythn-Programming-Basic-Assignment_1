{
 "cells": [
  {
   "cell_type": "code",
   "execution_count": 2,
   "metadata": {},
   "outputs": [
    {
     "data": {
      "text/plain": [
       "[1, 2, 3, 4]"
      ]
     },
     "execution_count": 2,
     "metadata": {},
     "output_type": "execute_result"
    }
   ],
   "source": [
    "# question1 \n",
    "# Ceate a function that takes a list of strings and integers, \n",
    "# and filters out the list so that it returns a list of integers only. \n",
    "# Examples\n",
    "# filter_list([1, 2, 3, \"a\", \"b\", 4]) ➞ [1, 2, 3, 4] \n",
    "def filter_list(l):\n",
    "    res=[]\n",
    "    for i in l:\n",
    "        \n",
    "        if type(i)==int:\n",
    "            res.append(i)\n",
    "    return res\n",
    "filter_list([1, 2, 3, \"a\", \"b\", 4]) "
   ]
  },
  {
   "cell_type": "code",
   "execution_count": 3,
   "metadata": {},
   "outputs": [
    {
     "data": {
      "text/plain": [
       "[0, 1, 2, 3, 4]"
      ]
     },
     "execution_count": 3,
     "metadata": {},
     "output_type": "execute_result"
    }
   ],
   "source": [
    "# Question2 \n",
    "# Given a list of numbers, create a function which returns the list but with each element's index in the list added to itself.\n",
    "# This means you add 0 to the number at index 0, add 1 to the number at index 1, etc... \n",
    "# Examples \n",
    "# add_indexes([0, 0, 0, 0, 0]) ➞ [0, 1, 2, 3, 4] \n",
    "def add_indexes(l):\n",
    "    for i in range(len(l)):\n",
    "        l[i]=l[i]+i\n",
    "    return l\n",
    "add_indexes([0, 0, 0, 0, 0])\n",
    "        \n",
    " "
   ]
  },
  {
   "cell_type": "code",
   "execution_count": 4,
   "metadata": {},
   "outputs": [
    {
     "data": {
      "text/plain": [
       "[1, 3, 5, 7, 9]"
      ]
     },
     "execution_count": 4,
     "metadata": {},
     "output_type": "execute_result"
    }
   ],
   "source": [
    "add_indexes([1, 2, 3, 4, 5])"
   ]
  },
  {
   "cell_type": "code",
   "execution_count": 6,
   "metadata": {},
   "outputs": [
    {
     "data": {
      "text/plain": [
       "12.59"
      ]
     },
     "execution_count": 6,
     "metadata": {},
     "output_type": "execute_result"
    }
   ],
   "source": [
    "# Question3 \n",
    "# Create a function that takes the height and radius of a cone as arguments and returns \n",
    "# the volume of the cone rounded to the nearest hundredth. See the resources tab for the formula. \n",
    "def cone_volume(h,r) :\n",
    "    return round(3.147*r*r*h/3,2)\n",
    "cone_volume(3, 2) "
   ]
  },
  {
   "cell_type": "code",
   "execution_count": 10,
   "metadata": {},
   "outputs": [
    {
     "data": {
      "text/plain": [
       "21"
      ]
     },
     "execution_count": 10,
     "metadata": {},
     "output_type": "execute_result"
    }
   ],
   "source": [
    "# Question4 \n",
    "# This Triangular Number Sequence is generated from a pattern of dots that form a triangle. The first 5 numbers of the sequence, or dots, are:  \n",
    "# 1, 3, 6, 10, 15 \n",
    "# This means that the first triangle has just one dot, the second one has three dots, the third one has 6 dots and so on. \n",
    "# Write a function that gives the number of dots with its corresponding triangle number of the sequence. \n",
    "# Examples \n",
    "# triangle(1) ➞ 1 \n",
    "# triangle(6) ➞ 21 \n",
    "\n",
    "def triangle(n):\n",
    "    c=2\n",
    "    k=1\n",
    "    for i in range (1,n):\n",
    "        k=k+c\n",
    "        c=c+1\n",
    "    return k\n",
    "triangle(6)"
   ]
  },
  {
   "cell_type": "code",
   "execution_count": null,
   "metadata": {},
   "outputs": [],
   "source": [
    "# Create a function that takes a list of numbers between 1 and 10 (excluding one number) and returns the missing number. \n",
    "# Examples \n",
    "# missing_num([1, 2, 3, 4, 6, 7, 8, 9, 10]) ➞ 5\n",
    "def missing_num(l):\n",
    "    l.sort()\n",
    "    for i in range(1,11):\n",
    "        if i not in l:\n",
    "            return i\n",
    "        \n",
    "\n",
    " "
   ]
  }
 ],
 "metadata": {
  "kernelspec": {
   "display_name": "Python 3",
   "language": "python",
   "name": "python3"
  },
  "language_info": {
   "codemirror_mode": {
    "name": "ipython",
    "version": 3
   },
   "file_extension": ".py",
   "mimetype": "text/x-python",
   "name": "python",
   "nbconvert_exporter": "python",
   "pygments_lexer": "ipython3",
   "version": "3.7.3"
  }
 },
 "nbformat": 4,
 "nbformat_minor": 2
}
