{
 "cells": [
  {
   "cell_type": "code",
   "execution_count": 3,
   "metadata": {},
   "outputs": [
    {
     "name": "stdout",
     "output_type": "stream",
     "text": [
      "[[2, 4, 8, 14], [6, 10, 14, 90], [41, 8, 6, 63], [8, 12, 16, 29]]\n"
     ]
    }
   ],
   "source": [
    "# 1. Write a Python Program to Add Two Matrices? \n",
    "a=[[1,2,4,7],[3,5,7,56],[34,4,3,56],[4,6,8,23]]\n",
    "b=[[1,2,4,7],[3,5,7,34],[7,4,3,7],[4,6,8,6]]\n",
    "c=b\n",
    "for i in range(0,len(a)):\n",
    "   for j in range(0,len(a[0])):\n",
    "       c[i][j]=a[i][j]+b[i][j]\n",
    "print (c)\n"
   ]
  },
  {
   "cell_type": "code",
   "execution_count": 20,
   "metadata": {},
   "outputs": [],
   "source": [
    "# 2. Write a Python Program to Multiply Two Matrices?\n",
    "def matrix_multiply(a,b):\n",
    "    cols1=len(a[0])\n",
    "    rows1=len(a)\n",
    "    rows2=len(b)\n",
    "    cols2=len(b[0])\n",
    "    try:\n",
    "        if cols1==rows2:\n",
    "            c=[]\n",
    "            for i in range(0,rows1):\n",
    "                c.append([])\n",
    "            for i in range(0,rows1):\n",
    "                for j in range (0,cols2):\n",
    "                    c[i].append(0)\n",
    "            for m in range(0, len(c)):\n",
    "                for n in range(0,len(c[0])):\n",
    "                    sum=0\n",
    "                    for z in range(0,cols1):\n",
    "                        sum=sum+a[m][z]*b[z][n]   \n",
    "                    c[m][n]=sum\n",
    "    except:\n",
    "        print (\"prove the right order of matrices\")\n",
    "        pass\n",
    "    return (c)\n",
    "                    \n",
    "                    "
   ]
  },
  {
   "cell_type": "code",
   "execution_count": 21,
   "metadata": {},
   "outputs": [
    {
     "data": {
      "text/plain": [
       "[[63, 70], [291, 395], [291, 436], [170, 208]]"
      ]
     },
     "execution_count": 21,
     "metadata": {},
     "output_type": "execute_result"
    }
   ],
   "source": [
    "a=[[1,2,4,7],[3,5,7,56],[34,4,3,56],[4,6,8,23]]\n",
    "b=[[1,2],[3,5],[7,4],[4,6]]\n",
    "matrix_multiply(a,b)"
   ]
  },
  {
   "cell_type": "code",
   "execution_count": 24,
   "metadata": {},
   "outputs": [
    {
     "data": {
      "text/plain": [
       "[[1, 3, 7, 4], [2, 5, 4, 6]]"
      ]
     },
     "execution_count": 24,
     "metadata": {},
     "output_type": "execute_result"
    }
   ],
   "source": [
    "# 3. Write a Python Program to Transpose a Matrix? \n",
    "def transpose(a):\n",
    "    r=len(a)\n",
    "    c=len(a[0])\n",
    "    res=[]\n",
    "    for i in range(c):\n",
    "        res.append([])\n",
    "    for i in range(r):\n",
    "        for j in range(c):\n",
    "            res[j].append(a[i][j])\n",
    "    return res\n",
    "b=[[1,2],[3,5],[7,4],[4,6]]\n",
    "transpose(b)    \n"
   ]
  },
  {
   "cell_type": "code",
   "execution_count": 26,
   "metadata": {},
   "outputs": [
    {
     "data": {
      "text/plain": [
       "['aerdf', 'berftgrtgr', 'ccdefre', 'dfgtht', 'rth']"
      ]
     },
     "execution_count": 26,
     "metadata": {},
     "output_type": "execute_result"
    }
   ],
   "source": [
    "# 4. Write a Python Program to Sort Words in Alphabetic Order? \n",
    "a=[\"aerdf\",\"berftgrtgr\",\"ccdefre\",\"rth\",\"dfgtht\"]\n",
    "a.sort()\n",
    "a\n"
   ]
  },
  {
   "cell_type": "code",
   "execution_count": 32,
   "metadata": {},
   "outputs": [
    {
     "data": {
      "text/plain": [
       "'There is Huge tree but i hate the trees fruits '"
      ]
     },
     "execution_count": 32,
     "metadata": {},
     "output_type": "execute_result"
    }
   ],
   "source": [
    "# 5. Write a Python Program to Remove Punctuation From a String? \n",
    "s=\"There is 'Huge' tree, but i hate the tree's fruits !\"\n",
    "def remove_punsc(s):\n",
    "    p=\",.#!''\"\n",
    "    res=\"\"\n",
    "    for i in s:\n",
    "        if i  in p:\n",
    "            pass\n",
    "        else:\n",
    "            res=res+i\n",
    "    return res\n",
    "\n",
    "remove_punsc(s)        "
   ]
  },
  {
   "cell_type": "code",
   "execution_count": null,
   "metadata": {},
   "outputs": [],
   "source": []
  }
 ],
 "metadata": {
  "kernelspec": {
   "display_name": "Python 3",
   "language": "python",
   "name": "python3"
  },
  "language_info": {
   "codemirror_mode": {
    "name": "ipython",
    "version": 3
   },
   "file_extension": ".py",
   "mimetype": "text/x-python",
   "name": "python",
   "nbconvert_exporter": "python",
   "pygments_lexer": "ipython3",
   "version": "3.7.3"
  }
 },
 "nbformat": 4,
 "nbformat_minor": 2
}
