{
 "cells": [
  {
   "cell_type": "code",
   "execution_count": 1,
   "id": "75163dc9",
   "metadata": {},
   "outputs": [],
   "source": [
    "# 1. Given a sentence as txt, return True if any two adjacent words have this property: One word ends with a vowel, \n",
    "# while the word immediately after begins with a vowel (a e i o u). \n",
    "\n",
    "# Examples \n",
    "# vowel_links(\"a very large appliance\") ➞ True \n",
    "# vowel_links(\"go to edabit\") ➞ True \n",
    "# owel_links(\"an open fire\") ➞ False \n",
    "# vowel_links(\"a sudden applause\") ➞ False "
   ]
  },
  {
   "cell_type": "code",
   "execution_count": 3,
   "id": "5e670e67",
   "metadata": {},
   "outputs": [
    {
     "data": {
      "text/plain": [
       "True"
      ]
     },
     "execution_count": 3,
     "metadata": {},
     "output_type": "execute_result"
    }
   ],
   "source": [
    "def vowel_links(s):\n",
    "    vow=['a','e','i','o','u']\n",
    "    for i in range(0,len(s.split(' '))-1):\n",
    "        if s.split(' ')[i][-1] in vow and s.split(' ')[i+1][0] in vow:\n",
    "            return True\n",
    "    else:\n",
    "            return False\n",
    "vowel_links(\"a very large appliance\")        "
   ]
  },
  {
   "cell_type": "code",
   "execution_count": 4,
   "id": "d187e354",
   "metadata": {},
   "outputs": [
    {
     "data": {
      "text/plain": [
       "False"
      ]
     },
     "execution_count": 4,
     "metadata": {},
     "output_type": "execute_result"
    }
   ],
   "source": [
    "vowel_links(\"an open fire\")"
   ]
  },
  {
   "cell_type": "code",
   "execution_count": 23,
   "id": "f0f38d1c",
   "metadata": {},
   "outputs": [
    {
     "data": {
      "text/plain": [
       "True"
      ]
     },
     "execution_count": 23,
     "metadata": {},
     "output_type": "execute_result"
    }
   ],
   "source": [
    "# 2. You are given three inputs: a string, one letter, and a second letter. \n",
    "# Write a function that returns True if every instance of the first letter occurs before every instance of the second letter. \n",
    "# Examples \n",
    "# first_before_second(\"a rabbit jumps joyfully\", \"a\", \"j\") ➞ True \n",
    "# # Every instance of \"a\" occurs before every instance of \"j\" \n",
    "# first_before_second(\"knaves knew about waterfalls\", \"k\", \"w\") ➞  True \n",
    "# first_before_second(\"happy birthday\", \"a\", \"y\") ➞ False \n",
    "# # The \"a\" in \"birthday\" occurs after the \"y\" in \"happy\". \n",
    "# first_before_second(\"precarious kangaroos\", \"k\", \"a\") ➞ False \n",
    "def first_before_second(s,a,b):\n",
    "    for i in range(0,len(s)):\n",
    "        if s[i]==b:\n",
    "            for j in range(i+1,len(s)):\n",
    "                if s[j]==a:\n",
    "                    return False\n",
    "    else:\n",
    "        return True\n",
    "first_before_second(\"a rabbit jumps joyfully\", \"a\", \"j\")"
   ]
  },
  {
   "cell_type": "code",
   "execution_count": 24,
   "id": "ef4b0b56",
   "metadata": {},
   "outputs": [
    {
     "data": {
      "text/plain": [
       "True"
      ]
     },
     "execution_count": 24,
     "metadata": {},
     "output_type": "execute_result"
    }
   ],
   "source": [
    "first_before_second(\"knaves knew about waterfalls\", \"k\", \"w\")"
   ]
  },
  {
   "cell_type": "code",
   "execution_count": 25,
   "id": "ea9b008f",
   "metadata": {},
   "outputs": [
    {
     "data": {
      "text/plain": [
       "False"
      ]
     },
     "execution_count": 25,
     "metadata": {},
     "output_type": "execute_result"
    }
   ],
   "source": [
    "first_before_second(\"precarious kangaroos\", \"k\", \"a\")"
   ]
  },
  {
   "cell_type": "code",
   "execution_count": 26,
   "id": "baffd66b",
   "metadata": {},
   "outputs": [
    {
     "data": {
      "text/plain": [
       "False"
      ]
     },
     "execution_count": 26,
     "metadata": {},
     "output_type": "execute_result"
    }
   ],
   "source": [
    "first_before_second(\"happy birthday\", \"a\", \"y\")"
   ]
  },
  {
   "cell_type": "code",
   "execution_count": 30,
   "id": "ccc288e9",
   "metadata": {},
   "outputs": [
    {
     "data": {
      "text/plain": [
       "['A', 'B', 'T', 'A', 'I', 'Y']"
      ]
     },
     "execution_count": 30,
     "metadata": {},
     "output_type": "execute_result"
    }
   ],
   "source": [
    "# 3. Create a function that returns the characters from a list or string r on odd or even positions, \n",
    "# depending on the specifier s. The specifier will be \"odd\" for items on odd positions (1, 3, 5, ...) \n",
    "# and \"even\" for items on even positions (2, 4, 6, ...). \n",
    "# Examples \n",
    "# char_at_pos([2, 4, 6, 8, 10], \"even\") ➞ [4, 8] \n",
    "# # 4 & 8 occupy the 2nd & 4th positions \n",
    "# char_at_pos(\"EDABIT\", \"odd\") ➞ \"EAI\" \n",
    "# # \"E\", \"A\" and \"I\" occupy the 1st, 3rd and 5th positions \n",
    "# char_at_pos([\"A\", \"R\", \"B\", \"I\", \"T\", \"R\", \"A\", \"R\", \"I\", \"L\", \"Y\"], \"odd\") ➞ [\"A\", \"B\", \"T\", \"A\", \"I\", \"Y\"] \n",
    "def char_at_pos(l,x):\n",
    "    if x=='even':\n",
    "        if type(l)==list:\n",
    "            return [l[i] for i  in range(1,len(l),2)]\n",
    "        else:\n",
    "            return \"\".join([l[i] for i  in range(1,len(l),2)])\n",
    "    else:\n",
    "        if type(l)==list:\n",
    "            return [l[i] for i  in range(0,len(l),2)]\n",
    "        else:\n",
    "            return \"\".join([l[i] for i  in range(0,len(l),2)])\n",
    "char_at_pos([\"A\", \"R\", \"B\", \"I\", \"T\", \"R\", \"A\", \"R\", \"I\", \"L\", \"Y\"], \"odd\")\n",
    "        \n"
   ]
  },
  {
   "cell_type": "code",
   "execution_count": 31,
   "id": "3e3d32bb",
   "metadata": {},
   "outputs": [
    {
     "data": {
      "text/plain": [
       "'EAI'"
      ]
     },
     "execution_count": 31,
     "metadata": {},
     "output_type": "execute_result"
    }
   ],
   "source": [
    "char_at_pos(\"EDABIT\", \"odd\")"
   ]
  },
  {
   "cell_type": "code",
   "execution_count": 41,
   "id": "42ae7786",
   "metadata": {},
   "outputs": [
    {
     "data": {
      "text/plain": [
       "10"
      ]
     },
     "execution_count": 41,
     "metadata": {},
     "output_type": "execute_result"
    }
   ],
   "source": [
    "# 4. Write a function that returns the greatest common divisor of all list elements. \n",
    "# If the greatest common divisor is 1, return 1. \n",
    "# Examples \n",
    "# GCD([10, 20, 40]) ➞ 10 \n",
    "# GCD([1, 2, 3, 100]) ➞ 1 \n",
    "# GCD([1024, 192, 2048, 512]) ➞ 64 \n",
    "def GCD(l):\n",
    "    for i in range (min(l),1,-1):\n",
    "        s=0\n",
    "        for j in l:\n",
    "            s=s+ j%i\n",
    "        if s==0:\n",
    "            return i\n",
    "    else:\n",
    "        return 1\n",
    "GCD([10, 20, 40])\n",
    "    \n",
    "    \n"
   ]
  },
  {
   "cell_type": "code",
   "execution_count": 42,
   "id": "d68ddb04",
   "metadata": {},
   "outputs": [
    {
     "data": {
      "text/plain": [
       "64"
      ]
     },
     "execution_count": 42,
     "metadata": {},
     "output_type": "execute_result"
    }
   ],
   "source": [
    "GCD([1024, 192, 2048, 512])"
   ]
  },
  {
   "cell_type": "code",
   "execution_count": 43,
   "id": "3d856261",
   "metadata": {},
   "outputs": [
    {
     "data": {
      "text/plain": [
       "1"
      ]
     },
     "execution_count": 43,
     "metadata": {},
     "output_type": "execute_result"
    }
   ],
   "source": [
    "GCD([1, 2, 3, 100]) "
   ]
  },
  {
   "cell_type": "code",
   "execution_count": 80,
   "id": "0fa72572",
   "metadata": {},
   "outputs": [],
   "source": [
    "# 5. A number/string is a palindrome if the digits/characters are the same when read both forward \n",
    "# and backward. Examples include \"racecar\" and 12321. Given a positive number n, check if\n",
    "# n or the binary representation of n is palindromic. Return the following: \n",
    "# - \"Decimal only.\" if only n is a palindrome. \n",
    "# - \"Binary only.\" if only the binary representation of n is a palindrome. \n",
    "# - \"Decimal and binary.\" if both are palindromes. \n",
    "# - \"Neither!\" if neither are palindromes.\n",
    "def db(n):\n",
    "#     if n>=1:\n",
    "#         db(n//2)\n",
    "    return bin(n).replace(\"0b\", \"\")\n",
    "def is_pallin(n):\n",
    "    if str(n)==str(n)[::-1]:\n",
    "        return True\n",
    "def palindrome_type(n):\n",
    "    s=(db(n))\n",
    "    if is_pallin(n)==True and is_pallin(s)==True:\n",
    "        return \"Decimal and binary.\" \n",
    "    elif is_pallin(n)==True and is_pallin(s)!=True:\n",
    "        return \"Decimal only.\"\n",
    "    elif is_pallin(n)!=True and is_pallin(s)==True:\n",
    "        return \"Binary only.\"\n",
    "    else:\n",
    "        return \"Neither!\""
   ]
  },
  {
   "cell_type": "code",
   "execution_count": 81,
   "id": "ddb54cda",
   "metadata": {},
   "outputs": [
    {
     "data": {
      "text/plain": [
       "'Decimal only.'"
      ]
     },
     "execution_count": 81,
     "metadata": {},
     "output_type": "execute_result"
    }
   ],
   "source": [
    "palindrome_type(1306031)"
   ]
  },
  {
   "cell_type": "code",
   "execution_count": 82,
   "id": "b4890a1f",
   "metadata": {},
   "outputs": [
    {
     "data": {
      "text/plain": [
       "'Binary only.'"
      ]
     },
     "execution_count": 82,
     "metadata": {},
     "output_type": "execute_result"
    }
   ],
   "source": [
    "palindrome_type(427787)"
   ]
  },
  {
   "cell_type": "code",
   "execution_count": 83,
   "id": "cc2fd1bd",
   "metadata": {},
   "outputs": [
    {
     "data": {
      "text/plain": [
       "'Decimal and binary.'"
      ]
     },
     "execution_count": 83,
     "metadata": {},
     "output_type": "execute_result"
    }
   ],
   "source": [
    "palindrome_type(313) "
   ]
  },
  {
   "cell_type": "code",
   "execution_count": 84,
   "id": "b5bea6fc",
   "metadata": {},
   "outputs": [
    {
     "data": {
      "text/plain": [
       "'1101000011100001011'"
      ]
     },
     "execution_count": 84,
     "metadata": {},
     "output_type": "execute_result"
    }
   ],
   "source": [
    "db(427787)"
   ]
  },
  {
   "cell_type": "code",
   "execution_count": null,
   "id": "4d67a73d",
   "metadata": {},
   "outputs": [],
   "source": []
  }
 ],
 "metadata": {
  "kernelspec": {
   "display_name": "Python 3",
   "language": "python",
   "name": "python3"
  },
  "language_info": {
   "codemirror_mode": {
    "name": "ipython",
    "version": 3
   },
   "file_extension": ".py",
   "mimetype": "text/x-python",
   "name": "python",
   "nbconvert_exporter": "python",
   "pygments_lexer": "ipython3",
   "version": "3.8.8"
  }
 },
 "nbformat": 4,
 "nbformat_minor": 5
}
