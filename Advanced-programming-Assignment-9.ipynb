{
 "cells": [
  {
   "cell_type": "code",
   "execution_count": 3,
   "id": "aa1e333f",
   "metadata": {},
   "outputs": [],
   "source": [
    "# 1. YouTube offers different playback speed options for users. This allows users to increase or \n",
    "# decrease the speed of the video content. Given the actual duration and playback speed of the video,\n",
    "# calculate the playback duration of the video. \n",
    "# Examples \n",
    "# playback_duration(\"00:30:00\", 2) ➞ \"00:15:00\" \n",
    "# playback_duration(\"01:20:00\", 1.5) ➞ \"00:53:20\" \n",
    "# playback_duration(\"51:20:09\", 0.5) ➞ \"102:40:18\" \n",
    "def playback_duration(d,s):\n",
    "    l=d.split(':')\n",
    "    h,m,sec=l[0],l[1],l[2]\n",
    "    tsec=int(h)*60*60+int(m)*60+int(sec)\n",
    "    tsec1=tsec/s\n",
    "    return str(int(tsec1/3600))+':'+str(int((tsec1%3600)/60))+':'+str(int((tsec1%3600)%60))\n",
    "    "
   ]
  },
  {
   "cell_type": "code",
   "execution_count": 4,
   "id": "2fc87be8",
   "metadata": {},
   "outputs": [
    {
     "data": {
      "text/plain": [
       "'0:15:0'"
      ]
     },
     "execution_count": 4,
     "metadata": {},
     "output_type": "execute_result"
    }
   ],
   "source": [
    "playback_duration(\"00:30:00\", 2)"
   ]
  },
  {
   "cell_type": "code",
   "execution_count": 5,
   "id": "0ef8b903",
   "metadata": {},
   "outputs": [
    {
     "data": {
      "text/plain": [
       "'0:53:20'"
      ]
     },
     "execution_count": 5,
     "metadata": {},
     "output_type": "execute_result"
    }
   ],
   "source": [
    "playback_duration(\"01:20:00\", 1.5)"
   ]
  },
  {
   "cell_type": "code",
   "execution_count": 23,
   "id": "7ce42c39",
   "metadata": {},
   "outputs": [],
   "source": [
    "# We needs your help to construct a building which will be a pile of n cubes. \n",
    "# The cube at the bottom will have a volume of n^3, the cube above will have volume of (n-1)^3 and so on \n",
    "# until the top which will have a volume of 1^3. \n",
    "# Given the total volume m of the building, can you find the number of cubes n required for the building? \n",
    "# In other words, you have to return an integer n such that: \n",
    "# n^3 + (n-1)^3 + ... + 1^3 == m \n",
    "# Return None if there is no such number. \n",
    "# Examples \n",
    "# pile_of_cubes(1071225) ➞ 45 \n",
    "# pile_of_cubes(4183059834009) ➞ 2022 \n",
    "# pile_of_cubes(16) ➞ None\n",
    "def sum_cubes(n):\n",
    "    sum=0\n",
    "    for i in range(n,0,-1):\n",
    "        sum =sum + i**3\n",
    "    return sum\n",
    "def pile_of_cubes(s):\n",
    "    for i in range(int(s**(1/3))):\n",
    "        if sum_cubes(i)==s:\n",
    "            return i\n",
    "    else:\n",
    "        return 'None'"
   ]
  },
  {
   "cell_type": "code",
   "execution_count": 24,
   "id": "d6c7f2e0",
   "metadata": {},
   "outputs": [
    {
     "data": {
      "text/plain": [
       "2022"
      ]
     },
     "execution_count": 24,
     "metadata": {},
     "output_type": "execute_result"
    }
   ],
   "source": [
    "pile_of_cubes(4183059834009) "
   ]
  },
  {
   "cell_type": "code",
   "execution_count": 25,
   "id": "58ac5203",
   "metadata": {},
   "outputs": [
    {
     "data": {
      "text/plain": [
       "45"
      ]
     },
     "execution_count": 25,
     "metadata": {},
     "output_type": "execute_result"
    }
   ],
   "source": [
    "pile_of_cubes(1071225)"
   ]
  },
  {
   "cell_type": "code",
   "execution_count": 26,
   "id": "0d14f837",
   "metadata": {},
   "outputs": [
    {
     "data": {
      "text/plain": [
       "'None'"
      ]
     },
     "execution_count": 26,
     "metadata": {},
     "output_type": "execute_result"
    }
   ],
   "source": [
    "pile_of_cubes(16)"
   ]
  },
  {
   "cell_type": "code",
   "execution_count": 34,
   "id": "0dd0dc6a",
   "metadata": {},
   "outputs": [],
   "source": [
    "# 3. A fulcrum of a list is an integer such that all elements to the left of it and all elements to the right \n",
    "# of it sum to the same value. Write a function that finds the fulcrum of a list. \n",
    "# To illustrate: \n",
    "# find_fulcrum([3, 1, 5, 2, 4, 6, -1]) ➞ 2 \n",
    "# // Since [3, 1, 5] and [4, 6, -1] both sum to 9\n",
    "# Examples \n",
    "# find_fulcrum([1, 2, 4, 9, 10, -10, -9, 3]) ➞ 4\n",
    "# find_fulcrum([9, 1, 9]) ➞ 1 \n",
    "# find_fulcrum([7, -1, 0, -1, 1, 1, 2, 3]) ➞ 0 \n",
    "# find_fulcrum([8, 8, 8, 8]) ➞ -1 \n",
    "def find_fulcrum(l):\n",
    "    for i in range(0,len(l)):\n",
    "        if sum(l[0:i])==sum(l[i+1:]):\n",
    "            return l[i]"
   ]
  },
  {
   "cell_type": "code",
   "execution_count": 38,
   "id": "700e8841",
   "metadata": {},
   "outputs": [
    {
     "data": {
      "text/plain": [
       "2"
      ]
     },
     "execution_count": 38,
     "metadata": {},
     "output_type": "execute_result"
    }
   ],
   "source": [
    "[3, 1, 5, 2, 4,5, 6, -1].count(5)"
   ]
  },
  {
   "cell_type": "code",
   "execution_count": 36,
   "id": "12628c12",
   "metadata": {},
   "outputs": [
    {
     "data": {
      "text/plain": [
       "4"
      ]
     },
     "execution_count": 36,
     "metadata": {},
     "output_type": "execute_result"
    }
   ],
   "source": [
    "find_fulcrum([1, 2, 4, 9, 10, -10, -9, 3])"
   ]
  },
  {
   "cell_type": "code",
   "execution_count": 39,
   "id": "b75eb4ff",
   "metadata": {},
   "outputs": [
    {
     "data": {
      "text/plain": [
       "3"
      ]
     },
     "execution_count": 39,
     "metadata": {},
     "output_type": "execute_result"
    }
   ],
   "source": [
    "# 4. Given a list of integers representing the color of each sock, determine how many pairs of socks with matching \n",
    "# colors there are. For example, there are 7 socks with colors [1, 2, 1, 2, 1, 3, 2]. There is one pair of color 1 and \n",
    "# one of color 2. There are three odd socks left, one of each color. The number of pairs is 2. \n",
    "# Create a function that returns an integer representing the number of matching pairs of socks that are available. \n",
    "# Examples \n",
    "# sock_merchant([10, 20, 20, 10, 10, 30, 50, 10, 20]) ➞ 3 \n",
    "# sock_merchant([50, 20, 30, 90, 30, 20, 50, 20, 90]) ➞ 4 \n",
    "# sock_merchant([]) ➞ 0 \n",
    "def sock_merchant(l):\n",
    "    sum=0\n",
    "    for i in set(l):\n",
    "           sum=sum+ int(l.count(i)/2)\n",
    "    return sum\n",
    "\n",
    "sock_merchant([10, 20, 20, 10, 10, 30, 50, 10, 20])        "
   ]
  },
  {
   "cell_type": "code",
   "execution_count": 40,
   "id": "8717b36e",
   "metadata": {},
   "outputs": [
    {
     "data": {
      "text/plain": [
       "4"
      ]
     },
     "execution_count": 40,
     "metadata": {},
     "output_type": "execute_result"
    }
   ],
   "source": [
    "sock_merchant([50, 20, 30, 90, 30, 20, 50, 20, 90])"
   ]
  },
  {
   "cell_type": "code",
   "execution_count": 18,
   "id": "172264e3",
   "metadata": {},
   "outputs": [
    {
     "data": {
      "text/plain": [
       "-23"
      ]
     },
     "execution_count": 18,
     "metadata": {},
     "output_type": "execute_result"
    }
   ],
   "source": [
    "# 5. Create a function that takes a string containing integers as well as other characters and return the sum of the \n",
    "# negative integers only. \n",
    "# Examples \n",
    "# negative_sum(\"-12 13%14&-11\") ➞ -23 \n",
    "# # -12 + -11 = -23 \n",
    "# negative_sum(\"22 13%14&-11-22 13 12\") ➞ -33 \n",
    "# # -11 + -22 = -33 \n",
    "import re\n",
    "def negative_sum(s):\n",
    "    sum=0\n",
    "    for i in range(0,len(s)):\n",
    "        if s[i]=='-':\n",
    "          sum=sum+10*int(s[i+1])+int(s[i+2])\n",
    "    return -(sum)\n",
    "negative_sum(\"-12 13%14&-11\")"
   ]
  },
  {
   "cell_type": "code",
   "execution_count": 19,
   "id": "0d4b1021",
   "metadata": {},
   "outputs": [
    {
     "data": {
      "text/plain": [
       "-33"
      ]
     },
     "execution_count": 19,
     "metadata": {},
     "output_type": "execute_result"
    }
   ],
   "source": [
    "negative_sum(\"22 13%14&-11-22 13 12\")"
   ]
  },
  {
   "cell_type": "code",
   "execution_count": 6,
   "id": "1529cd3d",
   "metadata": {},
   "outputs": [],
   "source": []
  },
  {
   "cell_type": "code",
   "execution_count": null,
   "id": "03dc69bb",
   "metadata": {},
   "outputs": [],
   "source": []
  },
  {
   "cell_type": "code",
   "execution_count": null,
   "id": "f5ae07a5",
   "metadata": {},
   "outputs": [],
   "source": []
  },
  {
   "cell_type": "code",
   "execution_count": null,
   "id": "de631164",
   "metadata": {},
   "outputs": [],
   "source": []
  }
 ],
 "metadata": {
  "kernelspec": {
   "display_name": "Python 3",
   "language": "python",
   "name": "python3"
  },
  "language_info": {
   "codemirror_mode": {
    "name": "ipython",
    "version": 3
   },
   "file_extension": ".py",
   "mimetype": "text/x-python",
   "name": "python",
   "nbconvert_exporter": "python",
   "pygments_lexer": "ipython3",
   "version": "3.8.8"
  }
 },
 "nbformat": 4,
 "nbformat_minor": 5
}
