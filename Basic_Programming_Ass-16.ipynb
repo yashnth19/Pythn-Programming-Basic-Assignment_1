{
 "cells": [
  {
   "cell_type": "code",
   "execution_count": 3,
   "metadata": {},
   "outputs": [
    {
     "data": {
      "text/plain": [
       "'in... in... incredible?'"
      ]
     },
     "execution_count": 3,
     "metadata": {},
     "output_type": "execute_result"
    }
   ],
   "source": [
    "# Question1. Write a function that stutters a word as if someone is struggling to read it. \n",
    "# The first two letters are repeated twice with an ellipsis ... and space after each, and then \n",
    "# the word is pronounced with a question mark ?. \n",
    "def stutter(s):\n",
    "    return s[0:2]+\"... \"+s[0:2]+\"... \"+s+'?'\n",
    "stutter(\"incredible\")"
   ]
  },
  {
   "cell_type": "code",
   "execution_count": 4,
   "metadata": {},
   "outputs": [
    {
     "data": {
      "text/plain": [
       "'en... en... enthusiastic?'"
      ]
     },
     "execution_count": 4,
     "metadata": {},
     "output_type": "execute_result"
    }
   ],
   "source": [
    "stutter(\"enthusiastic\")"
   ]
  },
  {
   "cell_type": "code",
   "execution_count": 7,
   "metadata": {},
   "outputs": [
    {
     "data": {
      "text/plain": [
       "1143.9"
      ]
     },
     "execution_count": 7,
     "metadata": {},
     "output_type": "execute_result"
    }
   ],
   "source": [
    "# Question 2.Create a function that takes an angle in radians and returns \n",
    "# the corresponding angle in degrees rounded to one decimal place.\n",
    "def degr(n):\n",
    "    return round(n*180/3.147,1)\n",
    "degr(20)"
   ]
  },
  {
   "cell_type": "code",
   "execution_count": 8,
   "metadata": {},
   "outputs": [
    {
     "data": {
      "text/plain": [
       "True"
      ]
     },
     "execution_count": 8,
     "metadata": {},
     "output_type": "execute_result"
    }
   ],
   "source": [
    "# Question 3. In this challenge, establish if a given integer num is a Curzon number.\n",
    "# If 1 plus 2 elevated to num is exactly divisible by 1 plus 2 multiplied by num, then num is a Curzon number. \n",
    "\n",
    "# Given a non-negative integer num, implement a function that returns True if num is a \n",
    "# Curzon number, or False otherwise. \n",
    "def is_curzpn(n):\n",
    "    if (2**n+1)%(2*n+1)==0:\n",
    "        return True\n",
    "    else:\n",
    "        return False\n",
    "is_curzpn(33)"
   ]
  },
  {
   "cell_type": "code",
   "execution_count": 10,
   "metadata": {},
   "outputs": [
    {
     "data": {
      "text/plain": [
       "10.392304845413264"
      ]
     },
     "execution_count": 10,
     "metadata": {},
     "output_type": "execute_result"
    }
   ],
   "source": [
    "# Question 4.Given the side length x find the area of a hexagon. \n",
    "def area(s):\n",
    "    return (s**2)*1.5*(3**0.5)\n",
    "area(2)"
   ]
  },
  {
   "cell_type": "code",
   "execution_count": null,
   "metadata": {},
   "outputs": [],
   "source": []
  }
 ],
 "metadata": {
  "kernelspec": {
   "display_name": "Python 3",
   "language": "python",
   "name": "python3"
  },
  "language_info": {
   "codemirror_mode": {
    "name": "ipython",
    "version": 3
   },
   "file_extension": ".py",
   "mimetype": "text/x-python",
   "name": "python",
   "nbconvert_exporter": "python",
   "pygments_lexer": "ipython3",
   "version": "3.7.3"
  }
 },
 "nbformat": 4,
 "nbformat_minor": 2
}
