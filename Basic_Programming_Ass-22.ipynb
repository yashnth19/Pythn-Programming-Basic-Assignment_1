{
 "cells": [
  {
   "cell_type": "code",
   "execution_count": 1,
   "metadata": {},
   "outputs": [
    {
     "data": {
      "text/plain": [
       "[3, 6, 9]"
      ]
     },
     "execution_count": 1,
     "metadata": {},
     "output_type": "execute_result"
    }
   ],
   "source": [
    "# Question1 \n",
    "# Create a function that takes three parameters where: \n",
    "# x is the start of the range (inclusive). \n",
    "# y is the end of the range (inclusive). \n",
    "# n is the divisor to be checked against. \n",
    "# Return an ordered list with numbers in the range that are divisible by the third parameter n. \n",
    "# Return an empty list if there are no numbers that are divisible by n. \n",
    "# Examples \n",
    "# list_operation(1, 10, 3) ➞ [3, 6, 9] \n",
    "def list_operation(a,b,c):\n",
    "    res=[]\n",
    "    for i in range(a,b+1):\n",
    "        if i%c==0:\n",
    "            res.append(i)\n",
    "    return res\n",
    "list_operation(1, 10, 3) "
   ]
  },
  {
   "cell_type": "code",
   "execution_count": 3,
   "metadata": {},
   "outputs": [
    {
     "data": {
      "text/plain": [
       "True"
      ]
     },
     "execution_count": 3,
     "metadata": {},
     "output_type": "execute_result"
    }
   ],
   "source": [
    "# Question2 \n",
    "# Create a function that takes in two lists and returns True if the second list follows the first list by one element, and False otherwise. \n",
    "# In other words, determine if the second list is the first list shifted to the right by 1. \n",
    "# Examples \n",
    "# simon_says([1, 2], [5, 5]) ➞ False \n",
    "# simon_says([1, 2, 3, 4, 5], [0, 1, 2, 3, 4]) ➞ True\n",
    "def simon_says(a,b):\n",
    "    for i in range(0,len(a)):\n",
    "        if a[i]-b[i]==1:\n",
    "            pass\n",
    "        else:\n",
    "            return False\n",
    "    return True\n",
    "simon_says([1, 2, 3, 4, 5], [0, 1, 2, 3, 4])"
   ]
  },
  {
   "cell_type": "code",
   "execution_count": 4,
   "metadata": {},
   "outputs": [
    {
     "data": {
      "text/plain": [
       "False"
      ]
     },
     "execution_count": 4,
     "metadata": {},
     "output_type": "execute_result"
    }
   ],
   "source": [
    "simon_says([1, 2], [5, 5])"
   ]
  },
  {
   "cell_type": "code",
   "execution_count": 5,
   "metadata": {},
   "outputs": [
    {
     "data": {
      "text/plain": [
       "'CHLN'"
      ]
     },
     "execution_count": 5,
     "metadata": {},
     "output_type": "execute_result"
    }
   ],
   "source": [
    "# Question3 \n",
    "# A group of friends have decided to start a secret society. \n",
    "# The name will be the first letter of each of their names, sorted in alphabetical order. \n",
    "# Create a function that takes in a list of names and returns the name of the secret society. \n",
    "# Examples \n",
    "# society_name([\"Adam\", \"Sarah\", \"Malcolm\"]) ➞ \"AMS\" \n",
    "# society_name([\"Harry\", \"Newt\", \"Luna\", \"Cho\"]) ➞ \"CHLN\" \n",
    "def society_name(l):\n",
    "    r=\"\"\n",
    "    l.sort()\n",
    "    for i in l:\n",
    "        r=r+i[0]\n",
    "    return r\n",
    "society_name([\"Harry\", \"Newt\", \"Luna\", \"Cho\"])"
   ]
  },
  {
   "cell_type": "code",
   "execution_count": 10,
   "metadata": {},
   "outputs": [
    {
     "data": {
      "text/plain": [
       "False"
      ]
     },
     "execution_count": 10,
     "metadata": {},
     "output_type": "execute_result"
    }
   ],
   "source": [
    "# Question4 \n",
    "# An isogram is a word that has no duplicate letters. \n",
    "# Create a function that takes a string and returns either True or False depending on whether or not it's an \"isogram\". \n",
    "# Examples \n",
    "# is_isogram(\"Algorism\") ➞ True \n",
    "# is_isogram(\"PasSword\") ➞ False \n",
    "def is_isogram(s):\n",
    "    s=s.upper()\n",
    "    if len(set(s))==len(s):\n",
    "        return True\n",
    "    else:\n",
    "        return False\n",
    "is_isogram(\"PasSword\")\n",
    "    "
   ]
  },
  {
   "cell_type": "code",
   "execution_count": 11,
   "metadata": {},
   "outputs": [
    {
     "data": {
      "text/plain": [
       "True"
      ]
     },
     "execution_count": 11,
     "metadata": {},
     "output_type": "execute_result"
    }
   ],
   "source": [
    "is_isogram(\"Algorism\")"
   ]
  },
  {
   "cell_type": "code",
   "execution_count": 14,
   "metadata": {},
   "outputs": [
    {
     "data": {
      "text/plain": [
       "False"
      ]
     },
     "execution_count": 14,
     "metadata": {},
     "output_type": "execute_result"
    }
   ],
   "source": [
    "# Question5 \n",
    "# Create a function that takes a string and returns True or False, depending \n",
    "# on whether the characters are in order or not. \n",
    "# Examples \n",
    "# is_in_order(\"abc\") ➞ True \n",
    "# is_in_order(\"edabit\") ➞ False\n",
    "# is_in_order(\"123\") ➞ True \n",
    "def is_in_order(s):\n",
    "    a=tuple(s)\n",
    "    b=list(s)\n",
    "    b.sort()\n",
    "    if a==tuple(b):\n",
    "        return True\n",
    "    else:\n",
    "        return False\n",
    "\n",
    "is_in_order(\"edabit\")   "
   ]
  },
  {
   "cell_type": "code",
   "execution_count": 15,
   "metadata": {},
   "outputs": [
    {
     "data": {
      "text/plain": [
       "True"
      ]
     },
     "execution_count": 15,
     "metadata": {},
     "output_type": "execute_result"
    }
   ],
   "source": [
    "is_in_order(\"abc\")"
   ]
  },
  {
   "cell_type": "code",
   "execution_count": null,
   "metadata": {},
   "outputs": [],
   "source": []
  }
 ],
 "metadata": {
  "kernelspec": {
   "display_name": "Python 3",
   "language": "python",
   "name": "python3"
  },
  "language_info": {
   "codemirror_mode": {
    "name": "ipython",
    "version": 3
   },
   "file_extension": ".py",
   "mimetype": "text/x-python",
   "name": "python",
   "nbconvert_exporter": "python",
   "pygments_lexer": "ipython3",
   "version": "3.7.3"
  }
 },
 "nbformat": 4,
 "nbformat_minor": 2
}
