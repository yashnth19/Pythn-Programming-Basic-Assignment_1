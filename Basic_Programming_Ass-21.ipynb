{
 "cells": [
  {
   "cell_type": "code",
   "execution_count": 3,
   "metadata": {},
   "outputs": [
    {
     "data": {
      "text/plain": [
       "[6, 3, 23, 17, 10]"
      ]
     },
     "execution_count": 3,
     "metadata": {},
     "output_type": "execute_result"
    }
   ],
   "source": [
    "# Question1 \n",
    "# Wrie a function that takes a list and a number as arguments. \n",
    "# Add the number to the end of the list, then remove the first element of the list. \n",
    "# The function should then return the updated list. \n",
    "# Examples \n",
    "# next_in_line([5, 6, 7, 8, 9], 1) ➞ [6, 7, 8, 9, 1]  \n",
    "# next_in_line([7, 6, 3, 23, 17], 10) ➞ [6, 3, 23, 17, 10]\n",
    "def next_in_line(l,a):\n",
    "    l.pop(0)\n",
    "    l.append(a)\n",
    "    return l\n",
    "next_in_line([7, 6, 3, 23, 17], 10)"
   ]
  },
  {
   "cell_type": "code",
   "execution_count": 5,
   "metadata": {},
   "outputs": [
    {
     "data": {
      "text/plain": [
       "65700"
      ]
     },
     "execution_count": 5,
     "metadata": {},
     "output_type": "execute_result"
    }
   ],
   "source": [
    "# Question2 \n",
    "# Create the function that takes a list of dictionaries and returns the sum of people's budgets. \n",
    "# Examples \n",
    "# get_budgets([ \n",
    "#   { \"name\": \"John\", \"age\": 21, \"budget\": 23000 }, \n",
    "\n",
    "#   { \"name\": \"Steve\",  \"age\": 32, \"budget\": 40000 }, \n",
    "\n",
    "#   { \"name\": \"Martin\",  \"age\": 16, \"budget\": 2700 } \n",
    "def get_budgets(l):\n",
    "    sum=0\n",
    "    for i in l:\n",
    "        sum=sum+i[\"budget\"]\n",
    "    return sum\n",
    "get_budgets([ \n",
    "  { \"name\": \"John\", \"age\": 21, \"budget\": 23000 }, \n",
    "\n",
    "  { \"name\": \"Steve\",  \"age\": 32, \"budget\": 40000 }, \n",
    "\n",
    "  { \"name\": \"Martin\",  \"age\": 16, \"budget\": 2700 }])"
   ]
  },
  {
   "cell_type": "code",
   "execution_count": 6,
   "metadata": {},
   "outputs": [
    {
     "data": {
      "text/plain": [
       "62600"
      ]
     },
     "execution_count": 6,
     "metadata": {},
     "output_type": "execute_result"
    }
   ],
   "source": [
    "get_budgets([ \n",
    "\n",
    "  { \"name\": \"John\",  \"age\": 21, \"budget\": 29000 }, \n",
    "\n",
    "  { \"name\": \"Steve\",  \"age\": 32, \"budget\": 32000 }, \n",
    "\n",
    "  { \"name\": \"Martin\",  \"age\": 16, \"budget\": 1600 } \n",
    "\n",
    "])"
   ]
  },
  {
   "cell_type": "code",
   "execution_count": 10,
   "metadata": {},
   "outputs": [
    {
     "data": {
      "text/plain": [
       "'ehllo'"
      ]
     },
     "execution_count": 10,
     "metadata": {},
     "output_type": "execute_result"
    }
   ],
   "source": [
    "# Question3 \n",
    "# Create a function that takes a string and returns a string with its letters in alphabetical order. \n",
    "# Examples \n",
    "# alphabet_soup(\"hello\") ➞ \"ehllo\" \n",
    "def alphabet_soup(s):\n",
    "    l=list(s)\n",
    "    l.sort()\n",
    "    return \"\".join(l)\n",
    "alphabet_soup(\"hello\") "
   ]
  },
  {
   "cell_type": "code",
   "execution_count": 13,
   "metadata": {},
   "outputs": [
    {
     "data": {
      "text/plain": [
       "18193.97"
      ]
     },
     "execution_count": 13,
     "metadata": {},
     "output_type": "execute_result"
    }
   ],
   "source": [
    "# :Question4 \n",
    "# Suppose that you invest $10,000 for 10 years at an interest rate of 6% compounded monthly. What will be the value of your investment at the end of the 10 year period? \n",
    "# Create a function that accepts the principal p, the term in years t, the interest rate r, and the number of compounding periods per year n. The function returns the value at the end of term rounded to the nearest cent. \n",
    "# For the example above: \n",
    "# compound_interest(10000, 10, 0.06, 12) ➞ 18193.97 \n",
    "def compound_interest(p,t,r,f):\n",
    "    return round(p*(1+r/f)**(t*f),2)\n",
    "compound_interest(10000, 10, 0.06, 12)"
   ]
  },
  {
   "cell_type": "code",
   "execution_count": 14,
   "metadata": {},
   "outputs": [
    {
     "data": {
      "text/plain": [
       "[9, 2, 16]"
      ]
     },
     "execution_count": 14,
     "metadata": {},
     "output_type": "execute_result"
    }
   ],
   "source": [
    "# Question5 \n",
    "# Write a function that takes a list of elements and returns only the integers. \n",
    "# Exmples \n",
    "# return_only_integer([9, 2, \"space\", \"car\", \"lion\", 16]) ➞ [9, 2, 16] \n",
    "def return_only_integer(l):\n",
    "    res=[]\n",
    "    for i in l:\n",
    "        if type(i)==int:\n",
    "            res.append(i)\n",
    "    return res\n",
    "return_only_integer([9, 2, \"space\", \"car\", \"lion\", 16]) "
   ]
  },
  {
   "cell_type": "code",
   "execution_count": null,
   "metadata": {},
   "outputs": [],
   "source": []
  }
 ],
 "metadata": {
  "kernelspec": {
   "display_name": "Python 3",
   "language": "python",
   "name": "python3"
  },
  "language_info": {
   "codemirror_mode": {
    "name": "ipython",
    "version": 3
   },
   "file_extension": ".py",
   "mimetype": "text/x-python",
   "name": "python",
   "nbconvert_exporter": "python",
   "pygments_lexer": "ipython3",
   "version": "3.7.3"
  }
 },
 "nbformat": 4,
 "nbformat_minor": 2
}
