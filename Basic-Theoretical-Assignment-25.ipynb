{
 "cells": [
  {
   "cell_type": "code",
   "execution_count": 1,
   "id": "4c1ffdbb",
   "metadata": {},
   "outputs": [],
   "source": [
    "# 1) . What is the difference between enclosing a list comprehension in square brackets and parentheses?\n",
    "# square brackets reslts in list while paranthesis results in a generator\n",
    "a=[i for i in 'lists']\n",
    "b=(i for i in 'lists')"
   ]
  },
  {
   "cell_type": "code",
   "execution_count": 2,
   "id": "7d2ca50b",
   "metadata": {},
   "outputs": [
    {
     "data": {
      "text/plain": [
       "list"
      ]
     },
     "execution_count": 2,
     "metadata": {},
     "output_type": "execute_result"
    }
   ],
   "source": [
    "type(a)"
   ]
  },
  {
   "cell_type": "code",
   "execution_count": 3,
   "id": "a682dc10",
   "metadata": {},
   "outputs": [
    {
     "data": {
      "text/plain": [
       "generator"
      ]
     },
     "execution_count": 3,
     "metadata": {},
     "output_type": "execute_result"
    }
   ],
   "source": [
    "type(b)"
   ]
  },
  {
   "cell_type": "code",
   "execution_count": 4,
   "id": "5afde39d",
   "metadata": {},
   "outputs": [],
   "source": [
    "# 2) What is the relationship between generators and iterators? \n",
    "#generators are  used in order to create iterators\n",
    "#for iterator, we use the 'iter' and to create generator, we use function along with 'yield' keyword\n",
    "#generator  helps in writing fast and compact codes.\n",
    "#\n",
    "\n"
   ]
  },
  {
   "cell_type": "code",
   "execution_count": 5,
   "id": "9df10619",
   "metadata": {},
   "outputs": [],
   "source": [
    "# 3) What are the signs that a function is a generator function? \n",
    "#yield keyword is used\n"
   ]
  },
  {
   "cell_type": "code",
   "execution_count": 8,
   "id": "e65d707b",
   "metadata": {},
   "outputs": [],
   "source": [
    "# 4) What is the purpose of a yield statement? \n",
    "#it converts the function in to an iterator, and makes the function a generator\n",
    "#it saves the local variable returns\n"
   ]
  },
  {
   "cell_type": "code",
   "execution_count": 9,
   "id": "80c2321d",
   "metadata": {},
   "outputs": [
    {
     "data": {
      "text/plain": [
       "[1, 4, 9, 16, 25]"
      ]
     },
     "execution_count": 9,
     "metadata": {},
     "output_type": "execute_result"
    }
   ],
   "source": [
    "# 5) What is the relationship between map calls and list comprehensions? Make a comparison and contrast between the two. \n",
    "#map works on  a elements of a list at once\n",
    "l=[1,2,3,4,5]\n",
    "list(map(lambda n:n**2,l))"
   ]
  },
  {
   "cell_type": "code",
   "execution_count": 10,
   "id": "63a42ea2",
   "metadata": {},
   "outputs": [
    {
     "data": {
      "text/plain": [
       "[1, 4, 9, 16, 25]"
      ]
     },
     "execution_count": 10,
     "metadata": {},
     "output_type": "execute_result"
    }
   ],
   "source": [
    "#list compression iterates throgu a list\n",
    "[i**2 for i in l]"
   ]
  },
  {
   "cell_type": "code",
   "execution_count": null,
   "id": "d3e78b4e",
   "metadata": {},
   "outputs": [],
   "source": []
  }
 ],
 "metadata": {
  "kernelspec": {
   "display_name": "Python 3",
   "language": "python",
   "name": "python3"
  },
  "language_info": {
   "codemirror_mode": {
    "name": "ipython",
    "version": 3
   },
   "file_extension": ".py",
   "mimetype": "text/x-python",
   "name": "python",
   "nbconvert_exporter": "python",
   "pygments_lexer": "ipython3",
   "version": "3.8.8"
  }
 },
 "nbformat": 4,
 "nbformat_minor": 5
}
