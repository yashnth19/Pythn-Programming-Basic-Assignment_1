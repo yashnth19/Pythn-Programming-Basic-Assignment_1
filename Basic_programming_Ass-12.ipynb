{
 "cells": [
  {
   "cell_type": "code",
   "execution_count": 6,
   "metadata": {},
   "outputs": [
    {
     "data": {
      "text/plain": [
       "{7, 'First', 'Zara'}"
      ]
     },
     "execution_count": 6,
     "metadata": {},
     "output_type": "execute_result"
    }
   ],
   "source": [
    "# 1. Write a Python program to Extract Unique values dictionary values?\n",
    "# dictn = {'Name': 'Zara', 'Age': 7, 'Class': 'First','level': 'First'}\n",
    "\n",
    "def unique(d):\n",
    "    return set(d.values())\n",
    "\n",
    "dictn = {'Name': 'Zara', 'Age': 7, 'Class': 'First','level': 'First'}\n",
    "unique(dictn)\n"
   ]
  },
  {
   "cell_type": "code",
   "execution_count": 13,
   "metadata": {},
   "outputs": [
    {
     "data": {
      "text/plain": [
       "10"
      ]
     },
     "execution_count": 13,
     "metadata": {},
     "output_type": "execute_result"
    }
   ],
   "source": [
    "# 2. Write a Python program to find the sum of all items in a dictionary?\n",
    "def dict_sum(d):\n",
    "    sum =0\n",
    "    for i in d.keys():\n",
    "        sum =sum + int(i) \n",
    "    return sum\n",
    "dictn={'1': 'Zara', '2': 7, '3': 'First','4': 'First'}\n",
    "dict_sum(dictn)"
   ]
  },
  {
   "cell_type": "code",
   "execution_count": 17,
   "metadata": {},
   "outputs": [
    {
     "name": "stdout",
     "output_type": "stream",
     "text": [
      "{'Name': 'Zara', 'Age': 7, 'Class': 'First', 'level': 'First', '1': 'Zara', '2': 7, '3': 'First', '4': 'First'}\n"
     ]
    }
   ],
   "source": [
    "# 3. Write a Python program to Merging two Dictionaries?\n",
    "dictn1={'1': 'Zara', '2': 7, '3': 'First','4': 'First'}\n",
    "dictn2 = {'Name': 'Zara', 'Age': 7, 'Class': 'First','level': 'First'}\n",
    "dictn3={**dictn2,**dictn1}\n",
    "print (dictn3)"
   ]
  },
  {
   "cell_type": "code",
   "execution_count": 22,
   "metadata": {},
   "outputs": [
    {
     "name": "stdout",
     "output_type": "stream",
     "text": [
      "{1: 'Jan', 2: 'Feb', 3: 'March'}\n"
     ]
    }
   ],
   "source": [
    "# 4. Write a Python program to convert key-values list to flat dictionary?\n",
    "test_dict = {'month' : [1, 2, 3],\n",
    "             'name' : ['Jan', 'Feb', 'March']}\n",
    "d={}\n",
    "for i in range(0,len(test_dict['month'])):\n",
    "    d[test_dict['month'][i]]=test_dict['name'][i]\n",
    "print (d)\n",
    "\n"
   ]
  },
  {
   "cell_type": "code",
   "execution_count": 29,
   "metadata": {},
   "outputs": [
    {
     "name": "stdout",
     "output_type": "stream",
     "text": [
      "{'Name': 'Zara', 'Age': 7, 'Class': 'First', 'level': 'First', '1': 'Zara', '2': 7, '3': 'First', '4': 'First'}\n"
     ]
    },
    {
     "data": {
      "text/plain": [
       "OrderedDict([('insert_key', 'insert_Value'),\n",
       "             ('Name', 'Zara'),\n",
       "             ('Age', 7),\n",
       "             ('Class', 'First'),\n",
       "             ('level', 'First'),\n",
       "             ('1', 'Zara'),\n",
       "             ('2', 7),\n",
       "             ('3', 'First'),\n",
       "             ('4', 'First')])"
      ]
     },
     "execution_count": 29,
     "metadata": {},
     "output_type": "execute_result"
    }
   ],
   "source": [
    "# 5. Write a Python program to insertion at the beginning in OrderedDict?\n",
    "from collections import OrderedDict\n",
    "def insert_Dicts(d,key_ins,Value_ins):\n",
    "    ord_Dict=OrderedDict(d)\n",
    "    ord_Dict.update({key_ins:Value_ins})\n",
    "    ord_Dict.move_to_end(key_ins,last=False)\n",
    "    return ord_Dict\n",
    "dictn={'1': 'Zara', '2': 7, '3': 'First','4': 'First'}\n",
    "print (dictn3)\n",
    "insert_Dicts(dictn3,'insert_key','insert_Value')\n"
   ]
  },
  {
   "cell_type": "code",
   "execution_count": 36,
   "metadata": {},
   "outputs": [
    {
     "data": {
      "text/plain": [
       "{'1': 'Zara',\n",
       " '2': 7,\n",
       " '3': 'First',\n",
       " '4': 'First',\n",
       " 'Age': 7,\n",
       " 'Class': 'First',\n",
       " 'Name': 'Zara',\n",
       " 'level': 'First'}"
      ]
     },
     "execution_count": 36,
     "metadata": {},
     "output_type": "execute_result"
    }
   ],
   "source": [
    "# 7. Write a Python program to sort Python Dictionaries by Key or Value?\n",
    "def sort_dict (d):\n",
    "    d1={}\n",
    "    for i in sorted(d.keys()):\n",
    "        d1[i]=d[i]\n",
    "    return (d1)\n",
    "dictn={'1': 'Zara', '2': 7, '3': 'First','4': 'First'}\n",
    "sort_dict(dictn3)"
   ]
  },
  {
   "cell_type": "code",
   "execution_count": null,
   "metadata": {},
   "outputs": [],
   "source": []
  },
  {
   "cell_type": "code",
   "execution_count": null,
   "metadata": {},
   "outputs": [],
   "source": []
  },
  {
   "cell_type": "code",
   "execution_count": null,
   "metadata": {},
   "outputs": [],
   "source": []
  }
 ],
 "metadata": {
  "kernelspec": {
   "display_name": "Python 3",
   "language": "python",
   "name": "python3"
  },
  "language_info": {
   "codemirror_mode": {
    "name": "ipython",
    "version": 3
   },
   "file_extension": ".py",
   "mimetype": "text/x-python",
   "name": "python",
   "nbconvert_exporter": "python",
   "pygments_lexer": "ipython3",
   "version": "3.8.5"
  }
 },
 "nbformat": 4,
 "nbformat_minor": 4
}
