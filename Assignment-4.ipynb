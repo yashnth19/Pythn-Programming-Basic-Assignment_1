{
 "cells": [
  {
   "cell_type": "code",
   "execution_count": 1,
   "metadata": {},
   "outputs": [],
   "source": [
    "# 1. What exactly is []?\n",
    "# an empty list (list with 0 size)\n",
    "\n"
   ]
  },
  {
   "cell_type": "code",
   "execution_count": 3,
   "metadata": {},
   "outputs": [
    {
     "data": {
      "text/plain": [
       "[2, 4, 'hello', 8, 10]"
      ]
     },
     "execution_count": 3,
     "metadata": {},
     "output_type": "execute_result"
    }
   ],
   "source": [
    "# 2. In a list of values stored in a variable called spam, how would you assign the value hello; as the\n",
    "# third value? (Assume   are in spam.)\n",
    "# \n",
    "spam =[2, 4, 6, 8, 10]\n",
    "spam[2]='hello'\n",
    "spam "
   ]
  },
  {
   "cell_type": "code",
   "execution_count": 4,
   "metadata": {},
   "outputs": [
    {
     "data": {
      "text/plain": [
       "'d'"
      ]
     },
     "execution_count": 4,
     "metadata": {},
     "output_type": "execute_result"
    }
   ],
   "source": [
    "# Let&#39;s pretend the spam includes the list [&#39;a&#39;, &#39;b&#39;, &#39;c&#39;, &#39;d&#39;] for the next three queries.\n",
    "# 3. What is the value of spam[int(int('3'* 2) / 11)]?\n",
    "spam= ['a','b','c','d']\n",
    "spam[int(int('3'* 2) / 11)]   #'3'*2 = '33', int('33')/11=3,spam[3]='d'"
   ]
  },
  {
   "cell_type": "code",
   "execution_count": 6,
   "metadata": {},
   "outputs": [],
   "source": [
    "# 4. What is the value of spam[-1]?\n",
    "# ans = 'd'"
   ]
  },
  {
   "cell_type": "code",
   "execution_count": 8,
   "metadata": {},
   "outputs": [],
   "source": [
    "# 5. What is the value of spam[:2]?\n",
    "# ans  ['a','b']"
   ]
  },
  {
   "cell_type": "code",
   "execution_count": 11,
   "metadata": {},
   "outputs": [],
   "source": [
    "bacon=[3.14, 'cat',11, 'cat', True]\n",
    "# 6. What is the value of bacon.index('cat')?\n",
    "#ans 1"
   ]
  },
  {
   "cell_type": "code",
   "execution_count": 12,
   "metadata": {},
   "outputs": [],
   "source": [
    "# 7. How does bacon.append(99) change the look of the list value in bacon??\n",
    "#ans it adds theinteger 99 to the list at the end index\n",
    "#bacon=[3.14, 'cat',11, 'cat', True,99]"
   ]
  },
  {
   "cell_type": "code",
   "execution_count": 14,
   "metadata": {},
   "outputs": [],
   "source": [
    "# 8. How does bacon.remove('cat') change the look of the list in bacon?\n",
    "# 'cat' that lies 1st in the list is removed \n",
    "# bacon=[3.14, 11, 'cat', True,99]"
   ]
  },
  {
   "cell_type": "code",
   "execution_count": 17,
   "metadata": {},
   "outputs": [
    {
     "name": "stdout",
     "output_type": "stream",
     "text": [
      "[3.14, 11, 'cat', True, 'a', 'b', 'c', 'd']\n",
      "[3.14, 11, 'cat', True, 3.14, 11, 'cat', True, 3.14, 11, 'cat', True]\n"
     ]
    }
   ],
   "source": [
    "# 9. What are the list concatenation and list replication operators?\n",
    "# for concatenation, + is used and * is used for replication.\n",
    "print (bacon + spam )\n",
    "print (bacon*3)\n",
    "\n"
   ]
  },
  {
   "cell_type": "code",
   "execution_count": 22,
   "metadata": {},
   "outputs": [
    {
     "name": "stdout",
     "output_type": "stream",
     "text": [
      "[3.14, 11, 'cat', True, 99, 'test']\n",
      "[3.14, 11, 'cat', 'test', True, 99, 'test']\n"
     ]
    }
   ],
   "source": [
    "# 10. What is difference between the list methods append() and insert()?\n",
    "#append add at the last index, insert adds the element at the specified index\n",
    "bacon = [3.14, 11, 'cat', True,99]\n",
    "bacon.append('test')\n",
    "print (bacon)\n",
    "bacon.insert(3,'test')\n",
    "print (bacon)"
   ]
  },
  {
   "cell_type": "code",
   "execution_count": 28,
   "metadata": {},
   "outputs": [
    {
     "name": "stdout",
     "output_type": "stream",
     "text": [
      "[3.14, 11, 'cat', 99]\n",
      "[3.14, 11, 99]\n"
     ]
    }
   ],
   "source": [
    "# 11. What are the two methods for removing items from a list?\n",
    "# pop(0) and remove()\n",
    "bacon = [3.14, 11, 'cat', True,99]\n",
    "bacon.pop(3)\n",
    "print (bacon)\n",
    "bacon.remove('cat')\n",
    "print (bacon)\n"
   ]
  },
  {
   "cell_type": "code",
   "execution_count": 33,
   "metadata": {},
   "outputs": [
    {
     "name": "stdout",
     "output_type": "stream",
     "text": [
      "cat\n",
      "E\n",
      "5\n",
      "10\n"
     ]
    }
   ],
   "source": [
    "# 12. Describe how list values and string values are identical.\n",
    "# both are iterable and are therefore similar with respect to indexing, have similar functions\n",
    "bacon = [3.14, 11, 'cat', True,99]\n",
    "string = 'QWERTYUIOP'\n",
    "print (bacon[2])\n",
    "print (string[2])\n",
    "print (len(bacon))\n",
    "print (len(string))\n"
   ]
  },
  {
   "cell_type": "code",
   "execution_count": 34,
   "metadata": {},
   "outputs": [],
   "source": [
    "# 13. What&#39;s the difference between tuples and lists?\n",
    "#ans  lists are mutable, tuples are immutable"
   ]
  },
  {
   "cell_type": "code",
   "execution_count": 41,
   "metadata": {},
   "outputs": [
    {
     "name": "stdout",
     "output_type": "stream",
     "text": [
      "<class 'tuple'>\n",
      "<class 'int'>\n"
     ]
    }
   ],
   "source": [
    "# 14. How do you type a tuple value that only contains the integer 42?\n",
    "tup= (42,)\n",
    "print (type(tup))\n",
    "print (type(tup[0]))"
   ]
  },
  {
   "cell_type": "code",
   "execution_count": 44,
   "metadata": {},
   "outputs": [
    {
     "name": "stdout",
     "output_type": "stream",
     "text": [
      "[45, 'fvr', 4545, 'dfvg']\n",
      "(3.14, 11, 'cat', True, 99)\n"
     ]
    }
   ],
   "source": [
    "# 15. How do you get a list value&#39;s tuple form? How do you get a tuple value&#39;s list form?\n",
    "bacon = [3.14, 11, 'cat', True,99]\n",
    "tup = (45,'fvr',4545,'dfvg')\n",
    "print (list(tup))\n",
    "print (tuple(bacon))"
   ]
  },
  {
   "cell_type": "code",
   "execution_count": 46,
   "metadata": {},
   "outputs": [],
   "source": [
    "# 16. Variables that &quot;contain&quot; list values are not necessarily lists themselves. Instead, what do they\n",
    "# contain?\n",
    "# a tuple can contan lists as its elements\n",
    "tup = (45,'fvr',4545,[3.14, 11, 'cat', True,99],'dfvg')"
   ]
  },
  {
   "cell_type": "code",
   "execution_count": null,
   "metadata": {},
   "outputs": [],
   "source": []
  }
 ],
 "metadata": {
  "kernelspec": {
   "display_name": "Python 3",
   "language": "python",
   "name": "python3"
  },
  "language_info": {
   "codemirror_mode": {
    "name": "ipython",
    "version": 3
   },
   "file_extension": ".py",
   "mimetype": "text/x-python",
   "name": "python",
   "nbconvert_exporter": "python",
   "pygments_lexer": "ipython3",
   "version": "3.7.3"
  }
 },
 "nbformat": 4,
 "nbformat_minor": 2
}
