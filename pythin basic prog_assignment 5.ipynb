{
 "cells": [
  {
   "cell_type": "code",
   "execution_count": 8,
   "metadata": {},
   "outputs": [
    {
     "data": {
      "text/plain": [
       "'LCM of 7,14 is 14'"
      ]
     },
     "execution_count": 8,
     "metadata": {},
     "output_type": "execute_result"
    }
   ],
   "source": [
    "# 1. Write a Python Program to Find LCM?\n",
    "def LCM(a,b):\n",
    "    if a>b:\n",
    "        l,s=a,b\n",
    "    else:\n",
    "        l,s=b,a\n",
    "    i=1\n",
    "    while True:\n",
    "        if l*i%s==0:\n",
    "            break\n",
    "        else:\n",
    "            i=i+1\n",
    "    return(\"LCM of {},{} is {}\".format(a,b,l*i))  \n",
    "LCM(7,14)\n",
    "    "
   ]
  },
  {
   "cell_type": "code",
   "execution_count": 11,
   "metadata": {},
   "outputs": [
    {
     "data": {
      "text/plain": [
       "'LCM of 3,10 is 1'"
      ]
     },
     "execution_count": 11,
     "metadata": {},
     "output_type": "execute_result"
    }
   ],
   "source": [
    "# 2. Write a Python Program to Find HCF?\n",
    "def HCF(a,b):\n",
    "    if a>b:\n",
    "        l,s=a,b\n",
    "    else:\n",
    "        l,s=b,a\n",
    "    \n",
    "    while s>0:\n",
    "        if a%s==0 and b%s==0:\n",
    "            break\n",
    "        else:\n",
    "            s=s-1\n",
    "    return(\"LCM of {},{} is {}\".format(a,b,s))\n",
    "HCF(3,10)\n"
   ]
  },
  {
   "cell_type": "code",
   "execution_count": 28,
   "metadata": {},
   "outputs": [
    {
     "data": {
      "text/plain": [
       "('101011100', '534', '15C')"
      ]
     },
     "execution_count": 28,
     "metadata": {},
     "output_type": "execute_result"
    }
   ],
   "source": [
    "# 3. Write a Python Program to Convert Decimal to Binary, Octal and Hexadecimal?\n",
    "def binary(a):\n",
    "    bin=\"\"\n",
    "    oct= \"\"\n",
    "    hex=\"\"\n",
    "    i=a\n",
    "    while i>0:\n",
    "        bin=bin+str(i%2)\n",
    "        i=int(i/2)\n",
    "    i=a\n",
    "    while i>0:\n",
    "        oct=oct+str(int((float(i/8)-int(i/8))*8))\n",
    "        i=int(i/8)\n",
    "    i=a\n",
    "    while i>0:\n",
    "        if int((float(i/16)-int(i/16))*16)<10:\n",
    "            hex=hex+str(int((float(i/16)-int(i/16))*16))\n",
    "        elif int((float(i/16)-int(i/16))*16)==10:\n",
    "            hex=hex+'A'\n",
    "        elif int((float(i/16)-int(i/16))*16)==11:\n",
    "            hex=hex+'B'\n",
    "        elif int((float(i/16)-int(i/16))*16)==12:\n",
    "            hex=hex+'C'\n",
    "        i=int(i/16)\n",
    "    return(bin[::-1],oct[::-1],hex[::-1])\n",
    "binary(348)"
   ]
  },
  {
   "cell_type": "code",
   "execution_count": 34,
   "metadata": {},
   "outputs": [
    {
     "name": "stdout",
     "output_type": "stream",
     "text": [
      "100\n",
      "102\n",
      "103\n"
     ]
    }
   ],
   "source": [
    "# 4. Write a Python Program To Find ASCII value of a character?\n",
    "def ASCII(*args):\n",
    "    for i in args:\n",
    "        print (ord(i))\n",
    "ASCII('d','f','g')"
   ]
  },
  {
   "cell_type": "code",
   "execution_count": 40,
   "metadata": {},
   "outputs": [
    {
     "name": "stdout",
     "output_type": "stream",
     "text": [
      "Select an operator +,-,*,/:n/\n",
      "Enter two numbers\n",
      "3\n",
      "9\n",
      "0.3333333333333333\n"
     ]
    }
   ],
   "source": [
    "# 5. Write a Python Program to Make a Simple Calculator with 4 basic mathematical operations?\n",
    "def calc():\n",
    "    operation = input(\"Select an operator +,-,*,/:n\")\n",
    "    print(\"Enter two numbers\")\n",
    "    n1 = int(input())\n",
    "    n2 = int(input())\n",
    "\n",
    "    if operation == '+': \n",
    "        print(n1 + n2)\n",
    "\n",
    "    elif operation == '-': \n",
    "        print(n1 - n2)\n",
    "    elif operation == '*': \n",
    "        print(n1 * n2)\n",
    "    elif operation == '/': \n",
    "        print(n1 / n2)\n",
    "    else:\n",
    "        print('Invalid Input')\n",
    "calc()"
   ]
  },
  {
   "cell_type": "code",
   "execution_count": null,
   "metadata": {},
   "outputs": [],
   "source": []
  },
  {
   "cell_type": "code",
   "execution_count": null,
   "metadata": {},
   "outputs": [],
   "source": []
  }
 ],
 "metadata": {
  "kernelspec": {
   "display_name": "Python 3",
   "language": "python",
   "name": "python3"
  },
  "language_info": {
   "codemirror_mode": {
    "name": "ipython",
    "version": 3
   },
   "file_extension": ".py",
   "mimetype": "text/x-python",
   "name": "python",
   "nbconvert_exporter": "python",
   "pygments_lexer": "ipython3",
   "version": "3.7.3"
  }
 },
 "nbformat": 4,
 "nbformat_minor": 2
}
