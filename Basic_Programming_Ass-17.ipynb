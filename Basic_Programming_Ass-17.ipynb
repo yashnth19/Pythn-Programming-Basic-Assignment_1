{
 "cells": [
  {
   "cell_type": "code",
   "execution_count": 2,
   "metadata": {},
   "outputs": [
    {
     "data": {
      "text/plain": [
       "30"
      ]
     },
     "execution_count": 2,
     "metadata": {},
     "output_type": "execute_result"
    }
   ],
   "source": [
    "# Question1. Create a function that takes three arguments a, b, c and returns \n",
    "# the sum of the numbers that are evenly divided by c from the range a, b inclusive. \n",
    "def evenly_divisible(a,b,c):\n",
    "    sum=0\n",
    "    for i in range(a,b+1):\n",
    "        if i%c==0:\n",
    "            sum=sum+i\n",
    "    return sum\n",
    "evenly_divisible(1, 10, 2)"
   ]
  },
  {
   "cell_type": "code",
   "execution_count": 42,
   "metadata": {},
   "outputs": [
    {
     "data": {
      "text/plain": [
       "True"
      ]
     },
     "execution_count": 42,
     "metadata": {},
     "output_type": "execute_result"
    }
   ],
   "source": [
    "# Question2. Create a function that returns True if a given inequality expression is correct and False otherwise. \n",
    "# Examples \n",
    "# correct_signs(\"3 < 7 < 11\") ➞ True \n",
    "def correct_signs(s):\n",
    "    try:\n",
    "        l=s.split(\" < \")\n",
    "        a=[int(i) for i in l]\n",
    "        b=[int(i) for i in l]\n",
    "        a.sort(reverse=False)\n",
    "        if tuple(a)==tuple(b):\n",
    "            return True\n",
    "        else: \n",
    "                return False\n",
    "        \n",
    "    except:\n",
    "        l=s.split(\" > \")\n",
    "        a=[int(i) for i in l]\n",
    "        b=[int(i) for i in l]\n",
    "        a.sort(reverse=True)\n",
    "        if tuple(a)==tuple(b):\n",
    "            return True\n",
    "        else: \n",
    "            return False\n",
    "  \n",
    "correct_signs(\"3 < 7 < 11\")"
   ]
  },
  {
   "cell_type": "code",
   "execution_count": 43,
   "metadata": {},
   "outputs": [
    {
     "data": {
      "text/plain": [
       "False"
      ]
     },
     "execution_count": 43,
     "metadata": {},
     "output_type": "execute_result"
    }
   ],
   "source": [
    "correct_signs(\"13 > 44 > 33 > 1\")"
   ]
  },
  {
   "cell_type": "code",
   "execution_count": 44,
   "metadata": {},
   "outputs": [
    {
     "data": {
      "text/plain": [
       "'th# ##rdv#rk'"
      ]
     },
     "execution_count": 44,
     "metadata": {},
     "output_type": "execute_result"
    }
   ],
   "source": [
    "#  Question3. Create a function that replaces all the vowels in a string with a specified character. \n",
    "\n",
    "# Examples \n",
    "\n",
    "# replace_vowels(\"the aardvark\", \"#\") ➞ \"th# ##rdv#rk\"\n",
    "def replace_vowels(s,x):\n",
    "    res=\"\"\n",
    "    for i in s:\n",
    "        if i in \"aeiou\":\n",
    "            res=res+x\n",
    "        else:\n",
    "            res=res+i\n",
    "    return res\n",
    "replace_vowels(\"the aardvark\", \"#\")"
   ]
  },
  {
   "cell_type": "code",
   "execution_count": 45,
   "metadata": {},
   "outputs": [
    {
     "data": {
      "text/plain": [
       "120"
      ]
     },
     "execution_count": 45,
     "metadata": {},
     "output_type": "execute_result"
    }
   ],
   "source": [
    "# Question4. Write a function that calculates the factorial of a number recursively. \n",
    "# Examples \n",
    "# factorial(5) ➞ 120 \n",
    "def fact(n):\n",
    "    if n<=1:\n",
    "        return 1\n",
    "    else:\n",
    "        return n*fact(n-1)\n",
    "fact(5)"
   ]
  },
  {
   "cell_type": "code",
   "execution_count": 52,
   "metadata": {},
   "outputs": [
    {
     "data": {
      "text/plain": [
       "5"
      ]
     },
     "execution_count": 52,
     "metadata": {},
     "output_type": "execute_result"
    }
   ],
   "source": [
    "# Question 5 \n",
    "\n",
    "# Hamming distance is the number of characters that differ between two strings. \n",
    "\n",
    "# To illustrate: \n",
    "\n",
    "# String1: \"abcbba\" \n",
    "\n",
    "# String2: \"abcbda\" \n",
    " \n",
    "# Hamming Distance: 1 - \"b\" vs. \"d\" is the only difference. \n",
    "\n",
    "# Create a function that computes the hamming distance between two strings. \n",
    "\n",
    "# Examples \n",
    "\n",
    "# hamming_distance(\"abcde\", \"bcdef\") ➞ 5 \n",
    "def  hamming_distance(a,b):\n",
    "    score=0\n",
    "    for i in range(len(a)):\n",
    "            if a[i]!=b[i]:\n",
    "                score=score+1\n",
    "            else:\n",
    "                pass\n",
    "    return score\n",
    "hamming_distance(\"abcde\", \"bcdef\")"
   ]
  },
  {
   "cell_type": "code",
   "execution_count": 53,
   "metadata": {},
   "outputs": [
    {
     "data": {
      "text/plain": [
       "1"
      ]
     },
     "execution_count": 53,
     "metadata": {},
     "output_type": "execute_result"
    }
   ],
   "source": [
    "hamming_distance(\"strong\", \"strung\")"
   ]
  },
  {
   "cell_type": "code",
   "execution_count": null,
   "metadata": {},
   "outputs": [],
   "source": []
  }
 ],
 "metadata": {
  "kernelspec": {
   "display_name": "Python 3",
   "language": "python",
   "name": "python3"
  },
  "language_info": {
   "codemirror_mode": {
    "name": "ipython",
    "version": 3
   },
   "file_extension": ".py",
   "mimetype": "text/x-python",
   "name": "python",
   "nbconvert_exporter": "python",
   "pygments_lexer": "ipython3",
   "version": "3.7.3"
  }
 },
 "nbformat": 4,
 "nbformat_minor": 2
}
