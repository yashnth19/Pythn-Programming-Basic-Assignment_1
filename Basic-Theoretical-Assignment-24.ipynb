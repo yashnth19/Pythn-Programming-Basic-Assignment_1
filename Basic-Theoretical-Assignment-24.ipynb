{
 "cells": [
  {
   "cell_type": "code",
   "execution_count": 1,
   "id": "ebc7e743",
   "metadata": {},
   "outputs": [],
   "source": [
    "# 1. What is the relationship between def statements and lambda expressions ? "
   ]
  },
  {
   "cell_type": "code",
   "execution_count": 2,
   "id": "a3923474",
   "metadata": {},
   "outputs": [],
   "source": [
    "# both are used as functions, to perform an operation on given arguments\n",
    "def is_even(n):\n",
    "    return n%2==0\n"
   ]
  },
  {
   "cell_type": "code",
   "execution_count": 3,
   "id": "0e4e1d67",
   "metadata": {},
   "outputs": [
    {
     "data": {
      "text/plain": [
       "True"
      ]
     },
     "execution_count": 3,
     "metadata": {},
     "output_type": "execute_result"
    }
   ],
   "source": [
    "is_even(4)"
   ]
  },
  {
   "cell_type": "code",
   "execution_count": 4,
   "id": "992a09a6",
   "metadata": {},
   "outputs": [],
   "source": [
    "m=lambda n:n%2==0"
   ]
  },
  {
   "cell_type": "code",
   "execution_count": 5,
   "id": "16fd8c7a",
   "metadata": {},
   "outputs": [
    {
     "data": {
      "text/plain": [
       "True"
      ]
     },
     "execution_count": 5,
     "metadata": {},
     "output_type": "execute_result"
    }
   ],
   "source": [
    "m(4)"
   ]
  },
  {
   "cell_type": "code",
   "execution_count": 8,
   "id": "acf8c60f",
   "metadata": {},
   "outputs": [],
   "source": [
    "# 2. What is the benefit of lambda? \n",
    "#there is no need to give a name to a separate function\n",
    "#takes less space, so can be used whenever small function objects are required"
   ]
  },
  {
   "cell_type": "code",
   "execution_count": 9,
   "id": "97c0c320",
   "metadata": {},
   "outputs": [],
   "source": [
    "# 3. Compare and contrast map, filter, and reduce. "
   ]
  },
  {
   "cell_type": "code",
   "execution_count": 10,
   "id": "db08e870",
   "metadata": {},
   "outputs": [],
   "source": [
    "#map works on all emelemnts of an iterable(list)\n",
    "#filter filters a list based on a criteria defined as a function\n",
    "#reduce applies a particular function passed in its argument to all of the list elements mentioned in the sequence.\n",
    "#all above take 2 arguments, (func,list)\n"
   ]
  },
  {
   "cell_type": "code",
   "execution_count": 12,
   "id": "422da9f5",
   "metadata": {},
   "outputs": [],
   "source": [
    "# 5. What are recursive functions, and how are they used? /\n",
    "def fact(n):\n",
    "    if n==1:\n",
    "        return 1\n",
    "    else:\n",
    "        \n",
    "        return n*fact(n-1)"
   ]
  },
  {
   "cell_type": "code",
   "execution_count": 17,
   "id": "45d8b66e",
   "metadata": {},
   "outputs": [
    {
     "data": {
      "text/plain": [
       "40320"
      ]
     },
     "execution_count": 17,
     "metadata": {},
     "output_type": "execute_result"
    }
   ],
   "source": [
    "#recursive functions use itself in the return statement\n",
    "fact(8)"
   ]
  },
  {
   "cell_type": "code",
   "execution_count": 19,
   "id": "5c793aae",
   "metadata": {},
   "outputs": [],
   "source": [
    "# 7. Name three or more ways that functions can communicate results to a caller. \n",
    "# return x\n",
    "# yield x\n",
    "# print x"
   ]
  },
  {
   "cell_type": "code",
   "execution_count": 20,
   "id": "d48a8c8d",
   "metadata": {},
   "outputs": [],
   "source": [
    "# 6. What are some general design guidelines for coding functions? "
   ]
  },
  {
   "cell_type": "code",
   "execution_count": 22,
   "id": "89172554",
   "metadata": {},
   "outputs": [],
   "source": [
    "#naming convenstions for local and global variable and function names\n",
    "#Indentation\n",
    "# hangling exceptions and error"
   ]
  },
  {
   "cell_type": "code",
   "execution_count": null,
   "id": "70b519b2",
   "metadata": {},
   "outputs": [],
   "source": []
  }
 ],
 "metadata": {
  "kernelspec": {
   "display_name": "Python 3",
   "language": "python",
   "name": "python3"
  },
  "language_info": {
   "codemirror_mode": {
    "name": "ipython",
    "version": 3
   },
   "file_extension": ".py",
   "mimetype": "text/x-python",
   "name": "python",
   "nbconvert_exporter": "python",
   "pygments_lexer": "ipython3",
   "version": "3.8.8"
  }
 },
 "nbformat": 4,
 "nbformat_minor": 5
}
