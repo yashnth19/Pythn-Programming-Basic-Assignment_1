{
 "cells": [
  {
   "cell_type": "code",
   "execution_count": 7,
   "metadata": {},
   "outputs": [
    {
     "name": "stdout",
     "output_type": "stream",
     "text": [
      "greater than 351000\n",
      "0,35,70,105,140,175,210,245,280,315,350,385,420,455,490,525,560,595,630,665,700,735,770,805,840,875,910,945,980,\n"
     ]
    }
   ],
   "source": [
    "# Question 1: \n",
    "# Please write a program using generator to print the numbers which can be divisible by 5 and \n",
    "# 7 between 0 and n in comma separated form while n is input by console. \n",
    "# Example: \n",
    "# If the following n is given as input to the program: \n",
    "# 100 \n",
    "# Then,the output of the program should be: \n",
    "# 0,35,70 \n",
    "def divis(n):\n",
    "    for i in range(n):\n",
    "        if i%5==0 and i%7==0:\n",
    "            yield(i)\n",
    "            \n",
    "n=int(input(\"greater than 35\"))\n",
    "s=\"\"\n",
    "for i in divis(n):\n",
    "    s=s+str(i)+','\n",
    "print (s)"
   ]
  },
  {
   "cell_type": "code",
   "execution_count": 8,
   "metadata": {},
   "outputs": [
    {
     "name": "stdout",
     "output_type": "stream",
     "text": [
      "greater than 120\n",
      "0,2,4,6,8,10,12,14,16,18,\n"
     ]
    }
   ],
   "source": [
    "# Question 2: \n",
    "# Please write a program using generator to print the even numbers between 0 and n in comma \n",
    "# separated form while n is input by console. \n",
    "def evens(n):\n",
    "    for i in range(0,n,2):\n",
    "            yield(i)\n",
    "            \n",
    "n=int(input(\"greater than 1\"))\n",
    "s=\"\"\n",
    "for i in evens(n):\n",
    "    s=s+str(i)+','\n",
    "print (s)"
   ]
  },
  {
   "cell_type": "code",
   "execution_count": 4,
   "metadata": {},
   "outputs": [
    {
     "name": "stdout",
     "output_type": "stream",
     "text": [
      "10\n",
      "1,1,2,3,5,8,13,21,34,55\n"
     ]
    }
   ],
   "source": [
    "# Question 3: \n",
    "# The Fibonacci Sequence is computed based on the following formula: \n",
    "# f(n)=0 if n=0 \n",
    "# f(n)=1 if n=1 \n",
    "# f(n)=f(n-1)+f(n-2) if n&gt;1 \n",
    "# Please write a program using list comprehension to print the Fibonacci Sequence in comma \n",
    "# separated form with a given n input by console. \n",
    "def fibs(n):\n",
    "    if n<=1:\n",
    "        return 1\n",
    "    else:\n",
    "        return (fibs(n-1)+fibs(n-2))\n",
    "n=int(input())\n",
    "print(\",\".join([str(fibs(i)) for i in range(0,n)]))"
   ]
  },
  {
   "cell_type": "code",
   "execution_count": 6,
   "metadata": {},
   "outputs": [
    {
     "data": {
      "text/plain": [
       "'john'"
      ]
     },
     "execution_count": 6,
     "metadata": {},
     "output_type": "execute_result"
    }
   ],
   "source": [
    "# Question 4: \n",
    "# Assuming that we have some email addresses in the &quot;username@companyname.com&quot; format, \n",
    "# please write program to print the user name of a given email address. Both user names and \n",
    "# company names are composed of letters only. \n",
    "# Example: \n",
    "# If the following email address is given as input to the program: \n",
    "# john@google.com \n",
    "# Then, the output of the program should be: \n",
    "# john \n",
    "def filter(s):\n",
    "    return s.split(\"@\")[0]\n",
    "filter(\"john@google.com\" )"
   ]
  },
  {
   "cell_type": "code",
   "execution_count": 8,
   "metadata": {},
   "outputs": [
    {
     "data": {
      "text/plain": [
       "0"
      ]
     },
     "execution_count": 8,
     "metadata": {},
     "output_type": "execute_result"
    }
   ],
   "source": [
    "# Question 5: \n",
    "# Define a class named Shape and its subclass Square. The Square class has an init function \n",
    "# which takes a length as argument. Both classes have a area function which can print the area \n",
    "# of the shape where Shape&#39;s area is 0 by default. \n",
    "class shape:\n",
    "    def __init__(slef, length):\n",
    "        slef.length=length\n",
    "    def area(slef):\n",
    "        return 0\n",
    "class square(shape):\n",
    "    def area(slef):\n",
    "        return (slef.length)**2\n",
    "box=shape(6)\n",
    "box.area()"
   ]
  },
  {
   "cell_type": "code",
   "execution_count": 9,
   "metadata": {},
   "outputs": [
    {
     "data": {
      "text/plain": [
       "36"
      ]
     },
     "execution_count": 9,
     "metadata": {},
     "output_type": "execute_result"
    }
   ],
   "source": [
    "box2=square(6)\n",
    "box2.area()"
   ]
  },
  {
   "cell_type": "code",
   "execution_count": null,
   "metadata": {},
   "outputs": [],
   "source": []
  }
 ],
 "metadata": {
  "kernelspec": {
   "display_name": "Python 3",
   "language": "python",
   "name": "python3"
  },
  "language_info": {
   "codemirror_mode": {
    "name": "ipython",
    "version": 3
   },
   "file_extension": ".py",
   "mimetype": "text/x-python",
   "name": "python",
   "nbconvert_exporter": "python",
   "pygments_lexer": "ipython3",
   "version": "3.7.3"
  }
 },
 "nbformat": 4,
 "nbformat_minor": 2
}
