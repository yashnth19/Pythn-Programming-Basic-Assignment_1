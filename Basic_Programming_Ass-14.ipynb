{
 "cells": [
  {
   "cell_type": "code",
   "execution_count": 3,
   "metadata": {},
   "outputs": [
    {
     "name": "stdout",
     "output_type": "stream",
     "text": [
      "0\n",
      "7\n",
      "14\n",
      "21\n",
      "28\n",
      "35\n",
      "42\n",
      "49\n"
     ]
    }
   ],
   "source": [
    "#1 Define a class with a generator which can iterate the numbers, which are divisible by \n",
    "# 7, between a given range 0 and n.\n",
    "def div_7er(n):\n",
    "    for i in range(0,n,7):\n",
    "        yield(i)\n",
    "\n",
    "for i in div_7er(50):\n",
    "    print (i)"
   ]
  },
  {
   "cell_type": "code",
   "execution_count": 13,
   "metadata": {},
   "outputs": [
    {
     "name": "stdout",
     "output_type": "stream",
     "text": [
      "2 : 2\n",
      "3 : 1\n",
      "3? : 1\n",
      "New : 1\n",
      "Python : 5\n",
      "Read : 1\n",
      "and : 1\n",
      "between : 1\n",
      "choosing : 1\n",
      "or : 2\n",
      "to : 1\n"
     ]
    }
   ],
   "source": [
    "#2 Write a program to compute the frequency of the words from the input. The output \n",
    "# should output after sorting the key alphanumerically. \n",
    "# Suppose the following input is supplied to the program:\n",
    "def frequency(s):\n",
    "    l=s.split(\" \")\n",
    "    l.sort()\n",
    "    s2=list(set(l))\n",
    "    s2.sort()\n",
    "    for i in s2:\n",
    "        print (i,\":\",l.count(i))\n",
    "s=\"New to Python or choosing between Python 2 and Python 3? Read Python 2 or Python 3\"\n",
    "frequency(s)"
   ]
  },
  {
   "cell_type": "code",
   "execution_count": 43,
   "metadata": {},
   "outputs": [],
   "source": [
    "#3 Define a class Person and its two child classes: Male and Female. All classes have a\n",
    "# method &quot;getGender&quot; which can print &quot;Male&quot; for Male class and &quot;Female&quot; for Female\n",
    "# class.\n",
    "class Person:\n",
    "    pass\n",
    "class Male(Person):\n",
    "        def getGender(self):\n",
    "            return (\"Male\")\n",
    "class Female(Person):\n",
    "        def getGender(self):\n",
    "            return \"Female\""
   ]
  },
  {
   "cell_type": "code",
   "execution_count": 44,
   "metadata": {},
   "outputs": [
    {
     "data": {
      "text/plain": [
       "'Male'"
      ]
     },
     "execution_count": 44,
     "metadata": {},
     "output_type": "execute_result"
    }
   ],
   "source": [
    "a=Male()\n",
    "a.getGender()\n"
   ]
  },
  {
   "cell_type": "code",
   "execution_count": 46,
   "metadata": {},
   "outputs": [
    {
     "name": "stdout",
     "output_type": "stream",
     "text": [
      "i play hockey\n",
      "i play football\n",
      "i love hockey\n",
      "i love football\n",
      "you play hockey\n",
      "you play football\n",
      "you love hockey\n",
      "you love football\n"
     ]
    }
   ],
   "source": [
    "# Question 4:\n",
    "# Please write a program to generate all sentences where subject is in [&quot;I&quot;, &quot;You&quot;] and\n",
    "# verb is in [&quot;Play&quot;, &quot;Love&quot;] and the object is in [&quot;Hockey&quot;,&quot;Football&quot;].\n",
    "a=[\"i\",\"you\"]\n",
    "b=[\"play\",\"love\"]\n",
    "c=[\"hockey\",\"football\"]\n",
    "for i in a:\n",
    "    for j in b:\n",
    "        for k in c:\n",
    "            print (i,j,k)"
   ]
  },
  {
   "cell_type": "code",
   "execution_count": 50,
   "metadata": {},
   "outputs": [
    {
     "name": "stdout",
     "output_type": "stream",
     "text": [
      "Element is present at index 1\n"
     ]
    }
   ],
   "source": [
    "# Question 6: \n",
    "# Pleae write a binary search function which searches an item in a sorted list. The \n",
    "# function should return the index of element to be searched in the list. \n",
    "def binary_search(a,x):\n",
    "    l=0\n",
    "    h=len(a)-1\n",
    "    \n",
    "    while l<=h:\n",
    "        m=(l+h)//2\n",
    "        if a[m]<x:\n",
    "            l=m+1\n",
    "        elif a[m]>x:\n",
    "            h=m-1\n",
    "        else:\n",
    "            return m\n",
    "    return -1\n",
    "\n",
    "a = [ 2, 3, 4, 10, 40 ]\n",
    "x = 3\n",
    "result = binary_search(a, x)\n",
    " \n",
    "if result != -1:\n",
    "    print(\"Element is present at index\", str(result))\n",
    "else:\n",
    "    print(\"Element is not present in list\")"
   ]
  },
  {
   "cell_type": "code",
   "execution_count": 52,
   "metadata": {},
   "outputs": [
    {
     "data": {
      "text/plain": [
       "'hellworld!helloWorld2!'"
      ]
     },
     "execution_count": 52,
     "metadata": {},
     "output_type": "execute_result"
    }
   ],
   "source": [
    "# Question 5: \n",
    "\n",
    "# Please write a program to compress and decompress the string &quot;hello world!hello \n",
    "\n",
    "# world!hello world!hello world!&quot;. \n",
    "def comperss(s):\n",
    "    res=\"\"\n",
    "    for i in s:\n",
    "        if i ==\" \":\n",
    "            pass\n",
    "        else:\n",
    "            res=res+i\n",
    "    return res\n",
    "comperss(\" hell world! hello World2!\")"
   ]
  },
  {
   "cell_type": "code",
   "execution_count": null,
   "metadata": {},
   "outputs": [],
   "source": []
  }
 ],
 "metadata": {
  "kernelspec": {
   "display_name": "Python 3",
   "language": "python",
   "name": "python3"
  },
  "language_info": {
   "codemirror_mode": {
    "name": "ipython",
    "version": 3
   },
   "file_extension": ".py",
   "mimetype": "text/x-python",
   "name": "python",
   "nbconvert_exporter": "python",
   "pygments_lexer": "ipython3",
   "version": "3.7.3"
  }
 },
 "nbformat": 4,
 "nbformat_minor": 2
}
