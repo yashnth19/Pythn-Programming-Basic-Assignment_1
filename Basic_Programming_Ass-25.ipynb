{
 "cells": [
  {
   "cell_type": "code",
   "execution_count": 1,
   "metadata": {},
   "outputs": [
    {
     "data": {
      "text/plain": [
       "3"
      ]
     },
     "execution_count": 1,
     "metadata": {},
     "output_type": "execute_result"
    }
   ],
   "source": [
    "# Question1 \n",
    "# Create a function that takes three integer arguments (a, b, c) and returns the amount of integers which are of equal value. \n",
    "# Examles \n",
    "# equal(3, 4, 3) ➞ 2 \n",
    "def equal(a,b,c):\n",
    "    \n",
    "    for i in [a,b,c]:\n",
    "        if [a,b,c].count(i) >1:\n",
    "            return i\n",
    "equal(3, 4, 3)"
   ]
  },
  {
   "cell_type": "code",
   "execution_count": 3,
   "metadata": {},
   "outputs": [
    {
     "data": {
      "text/plain": [
       "[('B', 2), ('C', 3), ('D', 1)]"
      ]
     },
     "execution_count": 3,
     "metadata": {},
     "output_type": "execute_result"
    }
   ],
   "source": [
    "# Question2 \n",
    "# Write a function that converts a dictionary into a list of keys-values tuples. \n",
    "# Examples \n",
    "# dict_to_list({ \n",
    "#   \"D\": 1, \n",
    "#   \"B\": 2, \n",
    "#   \"C\": 3 \n",
    "# }) ➞ [(\"B\", 2), (\"C\", 3), (\"D\", 1)] \n",
    "def dict_to_list(d):\n",
    "    return [tuple(i) for i in sorted(d.items())]\n",
    "dict_to_list({ \n",
    "  \"D\": 1, \n",
    "  \"B\": 2, \n",
    "  \"C\": 3 \n",
    "}) "
   ]
  },
  {
   "cell_type": "code",
   "execution_count": 4,
   "metadata": {},
   "outputs": [
    {
     "data": {
      "text/plain": [
       "{'p': 'P', 's': 'S'}"
      ]
     },
     "execution_count": 4,
     "metadata": {},
     "output_type": "execute_result"
    }
   ],
   "source": [
    "# Question3 \n",
    "# Write a function that creates a dictionary with each (key, value) pair being the (lower case, upper case) versions of a letter, respectively. \n",
    "# Examples \n",
    "# mapping([\"p\", \"s\"]) ➞ { \"p\": \"P\", \"s\": \"S\" }\n",
    "def mapping(l):\n",
    "    return {i:i.upper() for i in l}\n",
    "mapping([\"p\", \"s\"])"
   ]
  },
  {
   "cell_type": "code",
   "execution_count": 5,
   "metadata": {},
   "outputs": [
    {
     "data": {
      "text/plain": [
       "'upplus und bununus'"
      ]
     },
     "execution_count": 5,
     "metadata": {},
     "output_type": "execute_result"
    }
   ],
   "source": [
    "# Question4 \n",
    "# Write a function, that replaces all vowels in a string with a specified vowel. \n",
    "# Examples \n",
    "# vow_replace(\"apples and bananas\", \"u\") ➞ \"upplus und bununus\" \n",
    "def vow_replace(s,a):\n",
    "    r=\"\"\n",
    "    for i in s:\n",
    "        if i not in \"aeiou\":\n",
    "            r=r+i\n",
    "        else:\n",
    "            r=r+a\n",
    "    return r\n",
    "vow_replace(\"apples and bananas\", \"u\")"
   ]
  },
  {
   "cell_type": "code",
   "execution_count": 9,
   "metadata": {},
   "outputs": [
    {
     "data": {
      "text/plain": [
       "'To Be oR NoT To Be!'"
      ]
     },
     "execution_count": 9,
     "metadata": {},
     "output_type": "execute_result"
    }
   ],
   "source": [
    "# # Question5 \n",
    "# # Create a function that takes a string as input and capitalizes a letter if its ASCII code is even and returns its lower case version if its ASCII code is odd. \n",
    "# # Examples \n",
    "# # ascii_capitalize(\"to be or not to be!\")➞ \"To Be oR NoT To Be!\"\n",
    "# ascii_capitalize(\"THE LITTLE MERMAID\") ➞ \"THe LiTTLe meRmaiD\" \n",
    "def ascii_capitalize(s):\n",
    "    r=\"\"\n",
    "    for i in s:\n",
    "        if ord(i)%2==0:\n",
    "            r=r+i.upper()\n",
    "        else:\n",
    "            r=r+i.lower()\n",
    "    return r\n",
    "ascii_capitalize(\"to be or not to be!\")"
   ]
  },
  {
   "cell_type": "code",
   "execution_count": 10,
   "metadata": {},
   "outputs": [
    {
     "data": {
      "text/plain": [
       "'THe LiTTLe meRmaiD'"
      ]
     },
     "execution_count": 10,
     "metadata": {},
     "output_type": "execute_result"
    }
   ],
   "source": [
    "ascii_capitalize(\"THE LITTLE MERMAID\")"
   ]
  },
  {
   "cell_type": "code",
   "execution_count": null,
   "metadata": {},
   "outputs": [],
   "source": []
  }
 ],
 "metadata": {
  "kernelspec": {
   "display_name": "Python 3",
   "language": "python",
   "name": "python3"
  },
  "language_info": {
   "codemirror_mode": {
    "name": "ipython",
    "version": 3
   },
   "file_extension": ".py",
   "mimetype": "text/x-python",
   "name": "python",
   "nbconvert_exporter": "python",
   "pygments_lexer": "ipython3",
   "version": "3.7.3"
  }
 },
 "nbformat": 4,
 "nbformat_minor": 2
}
