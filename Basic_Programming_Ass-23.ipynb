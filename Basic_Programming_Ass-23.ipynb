{
 "cells": [
  {
   "cell_type": "code",
   "execution_count": 1,
   "metadata": {},
   "outputs": [
    {
     "data": {
      "text/plain": [
       "False"
      ]
     },
     "execution_count": 1,
     "metadata": {},
     "output_type": "execute_result"
    }
   ],
   "source": [
    "# Question 1 \n",
    "# Create a function that takes a number as an argument and returns True or False depending on whether the number is symmetrical or not.\n",
    "# A number is symmetrical when it is the same as its reverse. \n",
    "# Examples \n",
    "# is_symmetrical(7227) ➞ True \n",
    "# is_symmetrical(12567) ➞ False \n",
    "def is_symmetrical(n):\n",
    "    s=str(n)\n",
    "    r=s[::-1]\n",
    "    if tuple(s)==tuple(r):\n",
    "        return True\n",
    "    else:\n",
    "        return False\n",
    "is_symmetrical(12567)"
   ]
  },
  {
   "cell_type": "code",
   "execution_count": 2,
   "metadata": {},
   "outputs": [
    {
     "data": {
      "text/plain": [
       "True"
      ]
     },
     "execution_count": 2,
     "metadata": {},
     "output_type": "execute_result"
    }
   ],
   "source": [
    "is_symmetrical(7227) "
   ]
  },
  {
   "cell_type": "code",
   "execution_count": 4,
   "metadata": {},
   "outputs": [
    {
     "data": {
      "text/plain": [
       "24"
      ]
     },
     "execution_count": 4,
     "metadata": {},
     "output_type": "execute_result"
    }
   ],
   "source": [
    "# Question 2 \n",
    "# Gven a string of numbers separated by a comma and space, return the product of the numbers. \n",
    "# Examples \n",
    "# multiply_nums(\"2, 3\") ➞ 6\n",
    "# multiply_nums(\"1, 2, 3, 4\") ➞ 24\n",
    "def multiply_nums(s):\n",
    "    l=s.split(\", \")\n",
    "    p=1\n",
    "    for i in l:\n",
    "        p=p*int(i)\n",
    "    return p\n",
    "multiply_nums(\"1, 2, 3, 4\")"
   ]
  },
  {
   "cell_type": "code",
   "execution_count": 7,
   "metadata": {},
   "outputs": [
    {
     "data": {
      "text/plain": [
       "416649"
      ]
     },
     "execution_count": 7,
     "metadata": {},
     "output_type": "execute_result"
    }
   ],
   "source": [
    "# Question 3 \n",
    "# Create a function that squares every digit of a number. \n",
    "# Examples \n",
    "# square_digits(9119) ➞ 811181\n",
    "# square_digits(2483) ➞ 416649 \n",
    "def square_digits(n):\n",
    "    r=\"\"\n",
    "    for i in str(n):\n",
    "        r=r+str(int(i)**2)\n",
    "    return int(r)\n",
    "square_digits(2483)"
   ]
  },
  {
   "cell_type": "code",
   "execution_count": 8,
   "metadata": {},
   "outputs": [
    {
     "data": {
      "text/plain": [
       "[1, 3, 5]"
      ]
     },
     "execution_count": 8,
     "metadata": {},
     "output_type": "execute_result"
    }
   ],
   "source": [
    "# Question 4 \n",
    "# Create a function that sorts a list and removes all duplicate items from it. \n",
    "# Examples \n",
    "# setify([1, 3, 3, 5, 5]) ➞ [1, 3, 5] \n",
    "# setify([4, 4, 4, 4]) ➞ [4] \n",
    "def setify(l):\n",
    "    for i in set(l):\n",
    "        while l.count(i)>1:\n",
    "            l.remove(i)\n",
    "    \n",
    "    return l\n",
    "setify([1, 3, 3, 5, 5])"
   ]
  },
  {
   "cell_type": "code",
   "execution_count": 9,
   "metadata": {},
   "outputs": [
    {
     "ename": "SyntaxError",
     "evalue": "invalid character in identifier (<ipython-input-9-601dad5c8e7f>, line 11)",
     "output_type": "error",
     "traceback": [
      "\u001b[1;36m  File \u001b[1;32m\"<ipython-input-9-601dad5c8e7f>\"\u001b[1;36m, line \u001b[1;32m11\u001b[0m\n\u001b[1;33m    mean(12345) ➞ 3\u001b[0m\n\u001b[1;37m                ^\u001b[0m\n\u001b[1;31mSyntaxError\u001b[0m\u001b[1;31m:\u001b[0m invalid character in identifier\n"
     ]
    }
   ],
   "source": [
    "# Question 5 \n",
    "# Create a function that returns the mean of all digits. \n",
    "# Examples \n",
    "# mean(42) ➞ 3 \n",
    "# mean(12345) ➞ 3 \n",
    "def mean(n):\n",
    "    sum=0\n",
    "    for i in str(n):\n",
    "        sum=sum+int(i)\n",
    "    return sum/len(str(n))\n",
    "mean(12345) ➞ 3 "
   ]
  },
  {
   "cell_type": "code",
   "execution_count": null,
   "metadata": {},
   "outputs": [],
   "source": []
  }
 ],
 "metadata": {
  "kernelspec": {
   "display_name": "Python 3",
   "language": "python",
   "name": "python3"
  },
  "language_info": {
   "codemirror_mode": {
    "name": "ipython",
    "version": 3
   },
   "file_extension": ".py",
   "mimetype": "text/x-python",
   "name": "python",
   "nbconvert_exporter": "python",
   "pygments_lexer": "ipython3",
   "version": "3.7.3"
  }
 },
 "nbformat": 4,
 "nbformat_minor": 2
}
